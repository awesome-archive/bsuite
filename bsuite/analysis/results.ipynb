{
 "cells": [
  {
   "cell_type": "markdown",
   "metadata": {
    "colab_type": "text",
    "id": "eRrAUUu-t-O2"
   },
   "source": [
    "# Behaviour suite\n",
    "\n",
    "[![Open In Colab](https://colab.research.google.com/assets/colab-badge.svg)](https://colab.research.google.com/github/deepmind/bsuite/blob/master/bsuite/analysis/results.ipynb)\n",
    "\n",
    "This is the official results page for `bsuite`. You can use this to:\n",
    "- Get a snapshot of agent performance.\n",
    "- Diagnose strengths/weaknesses of your agent.\n",
    "- Leverage ready-made plots and analysis"
   ]
  },
  {
   "cell_type": "code",
   "execution_count": 0,
   "metadata": {
    "cellView": "form",
    "colab": {},
    "colab_type": "code",
    "id": "qXOubWdlH9C0"
   },
   "outputs": [],
   "source": [
    "#@title Imports\n",
    "\n",
    "! pip install --quiet git+git://github.com/deepmind/bsuite\n",
    "import warnings\n",
    "\n",
    "from bsuite.experiments import summary_analysis\n",
    "from bsuite.logging import csv_load\n",
    "from bsuite.logging import sqlite_load\n",
    "\n",
    "import numpy as np\n",
    "import pandas as pd\n",
    "import plotnine as gg\n",
    "\n",
    "pd.options.mode.chained_assignment = None\n",
    "gg.theme_set(gg.theme_bw(base_size=16, base_family='serif'))\n",
    "gg.theme_update(figure_size=(12, 8), panel_spacing_x=0.5, panel_spacing_y=0.5)\n",
    "warnings.filterwarnings('ignore')"
   ]
  },
  {
   "cell_type": "code",
   "execution_count": 0,
   "metadata": {
    "cellView": "form",
    "colab": {},
    "colab_type": "code",
    "id": "ss3Gk6DzZjqO"
   },
   "outputs": [],
   "source": [
    "#@title Import experiment-specific analysis\n",
    "\n",
    "from bsuite.experiments.bandit import analysis as bandit_analysis\n",
    "from bsuite.experiments.bandit_noise import analysis as bandit_noise_analysis\n",
    "from bsuite.experiments.bandit_scale import analysis as bandit_scale_analysis\n",
    "from bsuite.experiments.cartpole import analysis as cartpole_analysis\n",
    "from bsuite.experiments.cartpole_noise import analysis as cartpole_noise_analysis\n",
    "from bsuite.experiments.cartpole_scale import analysis as cartpole_scale_analysis\n",
    "from bsuite.experiments.cartpole_swingup import analysis as cartpole_swingup_analysis\n",
    "from bsuite.experiments.catch import analysis as catch_analysis\n",
    "from bsuite.experiments.catch_noise import analysis as catch_noise_analysis\n",
    "from bsuite.experiments.catch_scale import analysis as catch_scale_analysis\n",
    "from bsuite.experiments.deep_sea import analysis as deep_sea_analysis\n",
    "from bsuite.experiments.deep_sea_stochastic import analysis as deep_sea_stochastic_analysis\n",
    "from bsuite.experiments.discounting_chain import analysis as discounting_chain_analysis\n",
    "from bsuite.experiments.memory_len import analysis as memory_len_analysis\n",
    "from bsuite.experiments.memory_size import analysis as memory_size_analysis\n",
    "from bsuite.experiments.mnist import analysis as mnist_analysis\n",
    "from bsuite.experiments.mnist_noise import analysis as mnist_noise_analysis\n",
    "from bsuite.experiments.mnist_scale import analysis as mnist_scale_analysis\n",
    "from bsuite.experiments.mountain_car import analysis as mountain_car_analysis\n",
    "from bsuite.experiments.mountain_car_noise import analysis as mountain_car_noise_analysis\n",
    "from bsuite.experiments.mountain_car_scale import analysis as mountain_car_scale_analysis\n",
    "from bsuite.experiments.umbrella_distract import analysis as umbrella_distract_analysis\n",
    "from bsuite.experiments.umbrella_length import analysis as umbrella_length_analysis\n"
   ]
  },
  {
   "cell_type": "markdown",
   "metadata": {
    "colab_type": "text",
    "id": "gcpZiexEmjdf"
   },
   "source": [
    "##  Overall `bsuite` scores\n"
   ]
  },
  {
   "cell_type": "markdown",
   "metadata": {
    "colab_type": "text",
    "id": "dIJBQqCDp5aP"
   },
   "source": [
    "Load your experiments below. We recommend a maximum of 5 result sets, for clarity of analysis.\n",
    "\n",
    "The input to the `load_bsuite` function is a dict that maps from an experiment name of your choosing to the result path.\n",
    "\n",
    "For an experiment that used CSV logging, this would map to the directory containing the results. For SQLite logging, this would map to the database file for that experiment."
   ]
  },
  {
   "cell_type": "code",
   "execution_count": 0,
   "metadata": {
    "cellView": "both",
    "colab": {},
    "colab_type": "code",
    "id": "TnqNuenpr61Y"
   },
   "outputs": [],
   "source": [
    "#@title loading results from local data:\n",
    "\n",
    "experiments = {}  # Add results here\n",
    "DF, SWEEP_VARS = sqlite_load.load_bsuite(experiments)\n",
    "# Or\n",
    "# DF, SWEEP_VARS = csv_load.load_bsuite(experiments)"
   ]
  },
  {
   "cell_type": "code",
   "execution_count": 0,
   "metadata": {
    "colab": {
     "height": 515
    },
    "colab_type": "code",
    "id": "plQLUbWPpUhv",
    "outputId": "a5c44585-59f0-48f0-9925-655a1753e6aa"
   },
   "outputs": [],
   "source": [
    "#@title overall score as radar plot (double-click to show/hide code)\n",
    "BSUITE_SCORE = summary_analysis.bsuite_score(DF, SWEEP_VARS)\n",
    "BSUITE_SUMMARY = summary_analysis.ave_score_by_tag(BSUITE_SCORE, SWEEP_VARS)\n",
    "__radar_fig__ = summary_analysis.bsuite_radar_plot(BSUITE_SUMMARY, SWEEP_VARS)"
   ]
  },
  {
   "cell_type": "markdown",
   "metadata": {
    "colab_type": "text",
    "id": "5ANabuXdFAFS"
   },
   "source": [
    "**Parsing the plot above:**\n",
    "\n",
    "- Snapshot of agent behaviour across key metrics as measured by bsuite.\n",
    "- Length of each \"spoke\" represents score between 0 and 1.\n",
    "- For more detailed analysis, click into specific challenge domains."
   ]
  },
  {
   "cell_type": "markdown",
   "metadata": {
    "colab_type": "text",
    "id": "ds789Mrq5LmR"
   },
   "source": [
    "### Plotting scores per challenge in bar plot (click to show)"
   ]
  },
  {
   "cell_type": "code",
   "execution_count": 0,
   "metadata": {
    "cellView": "form",
    "colab": {
     "height": 796
    },
    "colab_type": "code",
    "id": "8VGZIvfGtZ4m",
    "outputId": "dbfc9a04-58a2-409f-9b5a-006599e09851"
   },
   "outputs": [],
   "source": [
    "#@title plotting overall score as bar (double-click to show/hide code)\n",
    "summary_analysis.bsuite_bar_plot(BSUITE_SCORE, SWEEP_VARS).draw();"
   ]
  },
  {
   "cell_type": "markdown",
   "metadata": {
    "colab_type": "text",
    "id": "QsUzPzmrG208"
   },
   "source": [
    "**Parsing the plot above:**\n",
    "\n",
    "- Height of each bar is the score on each challenge domain.\n",
    "- Partially-finished runs are shown with transparent bars.\n",
    "- Parameter/agent sweeps are automatically [faceted](http://www.sthda.com/english/wiki/ggplot2-facet-split-a-plot-into-a-matrix-of-panels) side by side.\n",
    "- For more detailed analysis, click into specific challenge domains."
   ]
  },
  {
   "cell_type": "code",
   "execution_count": 0,
   "metadata": {
    "cellView": "form",
    "colab": {
     "height": 775
    },
    "colab_type": "code",
    "id": "iR-J9iZWPDNW",
    "outputId": "868f4778-949a-4cb8-e53b-3ceccad28f73"
   },
   "outputs": [],
   "source": [
    "#@title compare agent performance on each challenge (double-click to show/hide code)\n",
    "summary_analysis.bsuite_bar_plot_compare(BSUITE_SCORE, SWEEP_VARS).draw();"
   ]
  },
  {
   "cell_type": "markdown",
   "metadata": {
    "colab_type": "text",
    "id": "nJcxdHc9Ps7k"
   },
   "source": [
    "**Parsing the plot above:**\n",
    "\n",
    "- Height of each bar is the score on each challenge domain.\n",
    "- Partially-finished runs are shown with transparent bars.\n",
    "- Each \"facet\" focuses on a separate environment.\n",
    "- This plot allows for easier comparison between agents.\n",
    "- For more detailed analysis, click into specific challenge domains."
   ]
  },
  {
   "cell_type": "markdown",
   "metadata": {
    "colab_type": "text",
    "id": "iaa0FgSoMu3T"
   },
   "source": [
    "# Individual challenge domains\n",
    "\n",
    "This section of the report contains specific analysis for each individual `bsuite` experiment."
   ]
  },
  {
   "cell_type": "markdown",
   "metadata": {
    "colab_type": "text",
    "id": "dwIcX62dDnNE"
   },
   "source": [
    "## Basic\n",
    "\n",
    "\n",
    "We begin with a collection of very simple decision problems with standard analysis:\n",
    "- Does the agent learn a reasonable rewarding policy?\n",
    "- How quickly do they learn simple tasks?\n",
    "\n",
    "We call these experiments \"basic\", since they are not particularly targeted at specific core issues.\n"
   ]
  },
  {
   "cell_type": "markdown",
   "metadata": {
    "colab_type": "text",
    "id": "vQmNzVbBDqZa"
   },
   "source": [
    "### Bandit\n",
    "\n"
   ]
  },
  {
   "cell_type": "markdown",
   "metadata": {
    "colab_type": "text",
    "id": "fjweihnXblOP"
   },
   "source": [
    "\n",
    "<img src=\"https://storage.cloud.google.com/bsuite-colab-images/bandit.png\" alt=\"bandit diagram\" height=\"300\"/>\n",
    "\n",
    "\n",
    "A simple independent-armed bandit problem.\n",
    "\n",
    "- The agent is faced with 11 actions with deterministic rewards [0.0, 0.1, .., 1.0] randomly assigned.\n",
    "- Run over 20 seeds for 10k episodes.\n",
    "- Score is 1 - 2 * average_regret at 10k episodes.\n",
    "- Must log `episode`, `total_regret` for standard analysis.\n",
    "\n",
    "\n",
    "\n"
   ]
  },
  {
   "cell_type": "code",
   "execution_count": 0,
   "metadata": {
    "cellView": "form",
    "colab": {
     "height": 0
    },
    "colab_type": "code",
    "id": "h5um7tOPDpju",
    "outputId": "ab28761d-5efc-4242-ec3d-97860b8600c8"
   },
   "outputs": [],
   "source": [
    "#@title parsing data\n",
    "bandit_df = DF[DF.bsuite_env == 'bandit'].copy()\n",
    "summary_analysis.plot_single_experiment(BSUITE_SCORE, 'bandit', SWEEP_VARS).draw();"
   ]
  },
  {
   "cell_type": "code",
   "execution_count": 0,
   "metadata": {
    "cellView": "form",
    "colab": {
     "height": 0
    },
    "colab_type": "code",
    "id": "j583NAoLD5nD",
    "outputId": "d55a6e13-1b09-4374-849f-9e5c0f15497b"
   },
   "outputs": [],
   "source": [
    "#@title plot average regret through learning (lower is better)\n",
    "bandit_analysis.plot_learning(bandit_df, SWEEP_VARS).draw();"
   ]
  },
  {
   "cell_type": "markdown",
   "metadata": {
    "colab_type": "text",
    "id": "asfed9wuEbO7"
   },
   "source": [
    "**Parsing the plot above:**\n",
    "\n",
    "- Here we can see the performance of the agent averaged over 20 seeds.\n",
    "- Random policy has reward of 0  = regret of 0.5 = dashed line\n",
    "- Want to see a stable learning curve -> 0 and fast!\n",
    "- Smoothing is performed with rolling mean over 10% of data with confidence bar at 95% Gaussian standard error.\n"
   ]
  },
  {
   "cell_type": "code",
   "execution_count": 0,
   "metadata": {
    "cellView": "form",
    "colab": {
     "height": 0
    },
    "colab_type": "code",
    "id": "t600GCEj1qCu",
    "outputId": "bf4d88c2-ebf6-4e08-f68a-c32de6eb69a2"
   },
   "outputs": [],
   "source": [
    "#@title plot performance by seed (higher is better)\n",
    "bandit_analysis.plot_seeds(bandit_df, SWEEP_VARS).draw();"
   ]
  },
  {
   "cell_type": "markdown",
   "metadata": {
    "colab_type": "text",
    "id": "_ypLP6DZHZc8"
   },
   "source": [
    "### MNIST\n",
    "\n"
   ]
  },
  {
   "cell_type": "markdown",
   "metadata": {
    "colab_type": "text",
    "id": "woT2ar_fbjy3"
   },
   "source": [
    "\n",
    "<img src=\"https://storage.cloud.google.com/bsuite-colab-images/mnist.png\" alt=\"mnist diagram\" height=\"300\"/>\n",
    "\n",
    "The \"hello world\" of deep learning, now as a contextual bandit.\n",
    "\n",
    "- Every timestep the agent must classify a random MNIST digit.\n",
    "- Reward +1 for correct, -1 for incorrect.\n",
    "- Run for 10k episodes, 20 seeds.\n",
    "- Score is percentage of successful classifications.\n",
    "- Must log `episode`, `total_regret` for standard analysis."
   ]
  },
  {
   "cell_type": "code",
   "execution_count": 0,
   "metadata": {
    "cellView": "form",
    "colab": {
     "height": 0
    },
    "colab_type": "code",
    "id": "77KttSBsHZc-",
    "outputId": "6b5e1f4b-6ea4-4c82-c7de-35e675fa1fe7"
   },
   "outputs": [],
   "source": [
    "#@title parsing data\n",
    "mnist_df = DF[DF.bsuite_env == 'mnist'].copy()\n",
    "summary_analysis.plot_single_experiment(BSUITE_SCORE, 'mnist', SWEEP_VARS).draw();"
   ]
  },
  {
   "cell_type": "code",
   "execution_count": 0,
   "metadata": {
    "cellView": "form",
    "colab": {
     "height": 0
    },
    "colab_type": "code",
    "id": "dxjKHqPaHZdB",
    "outputId": "093383d3-9317-49f0-e328-b033d60955c5"
   },
   "outputs": [],
   "source": [
    "#@title plot average regret through learning (lower is better)\n",
    "mnist_analysis.plot_learning(mnist_df, SWEEP_VARS).draw();"
   ]
  },
  {
   "cell_type": "markdown",
   "metadata": {
    "colab_type": "text",
    "id": "gMAtScV4HZdH"
   },
   "source": [
    "**Parsing the plot above:**\n",
    "\n",
    "- Here we can see the performance of the agent averaged over 20 seeds.\n",
    "- Random policy has reward of 0  = regret of 1.8 = dashed line\n",
    "- Want to see a stable learning curve -> 0 and fast!\n",
    "- Smoothing is performed with rolling mean over 10% of data with confidence bar at 95% Gaussian standard error.\n"
   ]
  },
  {
   "cell_type": "code",
   "execution_count": 0,
   "metadata": {
    "cellView": "form",
    "colab": {
     "height": 0
    },
    "colab_type": "code",
    "id": "zmCi_x8F4jCt",
    "outputId": "4225ae1e-4cb4-4c06-80a3-4cdc41ea68c4"
   },
   "outputs": [],
   "source": [
    "#@title plot performance by seed (higher is better)\n",
    "mnist_analysis.plot_seeds(mnist_df, SWEEP_VARS).draw();"
   ]
  },
  {
   "cell_type": "markdown",
   "metadata": {
    "colab_type": "text",
    "id": "QWtMyhFpNYC9"
   },
   "source": [
    "**Parsing the plot above:**\n",
    "\n",
    "- Here we can see the performance of each agent individually through time.\n",
    "- Higher scores are better, but individual runs may be noisy.\n",
    "- Use this plot to diagnose strange agent behaviour."
   ]
  },
  {
   "cell_type": "markdown",
   "metadata": {
    "colab_type": "text",
    "id": "GrTjfY11MD5E"
   },
   "source": [
    "### Catch"
   ]
  },
  {
   "cell_type": "markdown",
   "metadata": {
    "colab_type": "text",
    "id": "7MOVEQunM9QB"
   },
   "source": [
    "<img src=\"https://storage.cloud.google.com/bsuite-colab-images/catch.png\" alt=\"catch diagram\" height=\"300\"/>\n",
    "\n",
    "\n",
    "DeepMind's internal \"hello world\" for RL agents.\n",
    "\n",
    "- The environment is a 5x10 grid with a single falling block per episodes (similar to Tetris).\n",
    "- The agent controls a single \"paddle\" pixel that it should use to \"catch\" the falling block.\n",
    "- If the agent catches the block reward +1, if the agent misses the block reward -1.\n",
    "-   Run the agent for 10k episodes and 20 seeds.\n",
    "-   Score is percentage of successful \"catch\" over first 10k episodes.\n",
    "-   Must log `episode`, `total_regret` for standard analysis.\n",
    "\n"
   ]
  },
  {
   "cell_type": "code",
   "execution_count": 0,
   "metadata": {
    "cellView": "form",
    "colab": {
     "height": 0
    },
    "colab_type": "code",
    "id": "54UwF1sONICb",
    "outputId": "df94a96f-9b1a-49a5-f2ef-d4f28d75c77f"
   },
   "outputs": [],
   "source": [
    "#@title parsing data\n",
    "catch_df = DF[DF.bsuite_env == 'catch'].copy()\n",
    "summary_analysis.plot_single_experiment(BSUITE_SCORE, 'catch', SWEEP_VARS).draw();"
   ]
  },
  {
   "cell_type": "code",
   "execution_count": 0,
   "metadata": {
    "cellView": "form",
    "colab": {
     "height": 0
    },
    "colab_type": "code",
    "id": "54hwhFHSreCS",
    "outputId": "ee422e6f-333e-4436-d247-9887dab85afb"
   },
   "outputs": [],
   "source": [
    "#@title plot average regret through learning (lower is better)\n",
    "catch_analysis.plot_learning(catch_df, SWEEP_VARS).draw();"
   ]
  },
  {
   "cell_type": "markdown",
   "metadata": {
    "colab_type": "text",
    "id": "kjnlywacKyWk"
   },
   "source": [
    "**Parsing the plot above:**\n",
    "\n",
    "- Here we can see the performance of the agent averaged over 20 seeds.\n",
    "- Random policy has reward of 0  = regret of 1.6 = dashed line\n",
    "- Want to see a stable learning curve -> 0 and fast!\n",
    "- Smoothing is performed with rolling mean over 10% of data with confidence bar at 95% Gaussian standard error.\n"
   ]
  },
  {
   "cell_type": "code",
   "execution_count": 0,
   "metadata": {
    "cellView": "form",
    "colab": {
     "height": 0
    },
    "colab_type": "code",
    "id": "m-F2cCPb4kNa",
    "outputId": "7cbe5b08-d2d6-49da-a1b6-74f3c870376e"
   },
   "outputs": [],
   "source": [
    "#@title plot performance by seed (higher is better)\n",
    "catch_analysis.plot_seeds(catch_df, SWEEP_VARS).draw();"
   ]
  },
  {
   "cell_type": "markdown",
   "metadata": {
    "colab_type": "text",
    "id": "sVZ3SfqYNY5H"
   },
   "source": [
    "**Parsing the plot above:**\n",
    "\n",
    "- Here we can see the performance of each agent individually through time.\n",
    "- Higher scores are better, but individual runs may be noisy.\n",
    "- Use this plot to diagnose strange agent behaviour."
   ]
  },
  {
   "cell_type": "markdown",
   "metadata": {
    "colab_type": "text",
    "id": "YtCu7IUwFYOY"
   },
   "source": [
    "### Mountain car"
   ]
  },
  {
   "cell_type": "markdown",
   "metadata": {
    "colab_type": "text",
    "id": "twcWpU2hb4XT"
   },
   "source": [
    "<img src=\"https://storage.cloud.google.com/bsuite-colab-images/mountain_car.png\" alt=\"mountaincar diagram\" height=\"300\"/>\n",
    "\n",
    "A classic benchmark problem in RL.\n",
    "The agent controls an underpowered car and must drive it out of a valley.\n",
    "\n",
    "- Reward of -1 each step until the car reaches the goal.\n",
    "- Maximum episode length of 1000 steps.\n",
    "- Run 1000 episodes for 20 seeds.\n",
    "- Score is based on regret against \"good\" policy that solves in 25 steps.\n",
    "- Must log `episode`, `total_regret` for standard analysis.\n"
   ]
  },
  {
   "cell_type": "code",
   "execution_count": 0,
   "metadata": {
    "cellView": "form",
    "colab": {
     "height": 0
    },
    "colab_type": "code",
    "id": "10AxDzgmFYOa",
    "outputId": "26101cb1-e3d5-440f-8e81-6c5a6e4d67c1"
   },
   "outputs": [],
   "source": [
    "#@title parsing data\n",
    "mountain_car_df = DF[DF.bsuite_env == 'mountain_car'].copy()\n",
    "summary_analysis.plot_single_experiment(BSUITE_SCORE, 'mountain_car', SWEEP_VARS).draw();"
   ]
  },
  {
   "cell_type": "code",
   "execution_count": 0,
   "metadata": {
    "cellView": "form",
    "colab": {
     "height": 0
    },
    "colab_type": "code",
    "id": "PCiai_7_FYOe",
    "outputId": "fe9f0c1f-c6e5-4c60-f2ca-6fa3b3b8123e"
   },
   "outputs": [],
   "source": [
    "#@title plot average regret through learning (lower is better)\n",
    "mountain_car_analysis.plot_learning(mountain_car_df, SWEEP_VARS).draw();"
   ]
  },
  {
   "cell_type": "markdown",
   "metadata": {
    "colab_type": "text",
    "id": "mLE9dhuPclv5"
   },
   "source": [
    "**Parsing the plot above:**\n",
    "\n",
    "- Here we can see the performance of the agent averaged over 20 seeds.\n",
    "- Dashed line is at 415 = average regret of a random agent.\n",
    "- Want to see a stable learning curve -> 0 and fast!\n",
    "- Smoothing is performed with rolling mean over 10% of data with confidence bar at 95% Gaussian standard error."
   ]
  },
  {
   "cell_type": "code",
   "execution_count": 0,
   "metadata": {
    "cellView": "form",
    "colab": {
     "height": 0
    },
    "colab_type": "code",
    "id": "UotK4LDa4m62",
    "outputId": "7a67603a-b416-4303-fbe4-b4068208598a"
   },
   "outputs": [],
   "source": [
    "#@title plot performance by seed (higher is better)\n",
    "mountain_car_analysis.plot_seeds(mountain_car_df, SWEEP_VARS).draw();"
   ]
  },
  {
   "cell_type": "markdown",
   "metadata": {
    "colab_type": "text",
    "id": "ZpvpbLikNRRG"
   },
   "source": [
    "**Parsing the plot above:**\n",
    "\n",
    "- Here we can see the performance of each agent individually through time.\n",
    "- Higher scores are better, but individual runs may be noisy.\n",
    "- Use this plot to diagnose strange agent behaviour."
   ]
  },
  {
   "cell_type": "markdown",
   "metadata": {
    "colab_type": "text",
    "id": "iKRx2R7DEz5R"
   },
   "source": [
    "### Cartpole\n",
    "\n"
   ]
  },
  {
   "cell_type": "markdown",
   "metadata": {
    "colab_type": "text",
    "id": "XJkGob4ebrRj"
   },
   "source": [
    "\n",
    "<img src=\"https://storage.cloud.google.com/bsuite-colab-images/cartpole.png\" alt=\"cartpole diagram\" height=\"300\"/>\n",
    "\n",
    "A classic benchmark problem in RL.\n",
    "The agent controls a cart on a frictionless plane.\n",
    "\n",
    "- The poles starts near-to upright.\n",
    "- The observation is [x, x_dot, sin(theta), sin(theta)_dot, cos(theta), cos(theta)_dot, time_elapsed]\n",
    "- Episodes end once 1000 steps have occured, or |x| is greater than 1.\n",
    "- Reward of +1 when pole > 0.8 height.\n",
    "- Run 1000 episodes for 20 seeds.\n",
    "- Score is percentage of timesteps balancing the pole.\n",
    "- Must log `episode`, `total_regret` for standard analysis.\n"
   ]
  },
  {
   "cell_type": "code",
   "execution_count": 0,
   "metadata": {
    "cellView": "form",
    "colab": {
     "height": 0
    },
    "colab_type": "code",
    "id": "1UFLKInrEz5X",
    "outputId": "8bd7d235-1624-499d-aeef-6a45063ac2bb"
   },
   "outputs": [],
   "source": [
    "#@title parsing data\n",
    "cartpole_df = DF[DF.bsuite_env == 'cartpole'].copy()\n",
    "summary_analysis.plot_single_experiment(BSUITE_SCORE, 'cartpole', SWEEP_VARS).draw();"
   ]
  },
  {
   "cell_type": "code",
   "execution_count": 0,
   "metadata": {
    "cellView": "form",
    "colab": {
     "height": 0
    },
    "colab_type": "code",
    "id": "CeR8Vgf-Ez5b",
    "outputId": "e9572ac4-9451-4b92-e864-ef00f3726962"
   },
   "outputs": [],
   "source": [
    "#@title plot average regret through learning (lower is better)\n",
    "cartpole_analysis.plot_learning(cartpole_df, SWEEP_VARS).draw();"
   ]
  },
  {
   "cell_type": "markdown",
   "metadata": {
    "colab_type": "text",
    "id": "UO1GwYM5ZiSI"
   },
   "source": [
    "**Parsing the plot above:**\n",
    "\n",
    "- Here we can see the performance of the agent averaged over 20 seeds.\n",
    "- Maximum regret of 1000 per episode = dashed line\n",
    "- Want to see a stable learning curve -> 0 and fast!\n",
    "- Smoothing is performed with rolling mean over 10% of data with confidence bar at 95% Gaussian standard error."
   ]
  },
  {
   "cell_type": "code",
   "execution_count": 0,
   "metadata": {
    "cellView": "form",
    "colab": {
     "height": 0
    },
    "colab_type": "code",
    "id": "0vWWVcYR4lNZ",
    "outputId": "20a6e937-8738-4fff-970a-54fa82501d00"
   },
   "outputs": [],
   "source": [
    "#@title plot performance by seed (higher is better)\n",
    "cartpole_analysis.plot_seeds(cartpole_df, SWEEP_VARS).draw();"
   ]
  },
  {
   "cell_type": "markdown",
   "metadata": {
    "colab_type": "text",
    "id": "jZuGijZZNBNU"
   },
   "source": [
    "**Parsing the plot above:**\n",
    "\n",
    "- Here we can see the performance of each agent individually through time.\n",
    "- Higher scores are better, but individual runs may be noisy.\n",
    "- Use this plot to diagnose strange agent behaviour."
   ]
  },
  {
   "cell_type": "markdown",
   "metadata": {
    "colab_type": "text",
    "id": "UQ010l9tFsbG"
   },
   "source": [
    "## Reward noise\n",
    "\n",
    "To investigate the robustness of RL agents to noisy rewards, we repeat the \"basic\" experiments under differing levels of Gaussian noise.\n",
    "\n",
    "This time we allocate the 20 different seeds across 5 levels of Gaussian noise $N(0, \\sigma^2)$ for $\\sigma$ = noise\\_scale = $[0.1, 0.3, 1, 3, 10]$ with 4 seeds each."
   ]
  },
  {
   "cell_type": "markdown",
   "metadata": {
    "colab_type": "text",
    "id": "SWm2u8lpFsbK"
   },
   "source": [
    "### Bandit noise"
   ]
  },
  {
   "cell_type": "markdown",
   "metadata": {
    "colab_type": "text",
    "id": "o27LKuR0d-Bh"
   },
   "source": [
    "<img src=\"https://storage.cloud.google.com/bsuite-colab-images/bandit.png\" alt=\"bandit diagram\" height=\"300\"/>\n",
    "\n",
    "\n",
    "A simple independent-armed bandit problem.\n",
    "\n",
    "- The agent is faced with 11 actions with deterministic rewards [0.0, 0.1, .., 1.0] randomly assigned.\n",
    "- Run noise_scale = [0.1, 0.3, 1., 3, 10] for 4 seeds for 10k episodes.\n",
    "- Score is 1 - 2 * average_regret at 10k episodes.\n",
    "- Must log `episode`, `total_regret` for standard analysis.\n"
   ]
  },
  {
   "cell_type": "code",
   "execution_count": 0,
   "metadata": {
    "cellView": "form",
    "colab": {
     "height": 0
    },
    "colab_type": "code",
    "id": "NAU9QFGGFsbL",
    "outputId": "fdbae1f9-e931-493b-8c4a-07cabbbbca71"
   },
   "outputs": [],
   "source": [
    "#@title parsing data\n",
    "bandit_noise_df = DF[DF.bsuite_env == 'bandit_noise'].copy()\n",
    "summary_analysis.plot_single_experiment(BSUITE_SCORE, 'bandit_noise', SWEEP_VARS).draw();"
   ]
  },
  {
   "cell_type": "code",
   "execution_count": 0,
   "metadata": {
    "cellView": "form",
    "colab": {
     "height": 0
    },
    "colab_type": "code",
    "id": "cKrEMGjlFsbP",
    "outputId": "fa36615e-cd09-49e5-d081-0e74938b8fdf"
   },
   "outputs": [],
   "source": [
    "#@title average regret over learning (lower is better)\n",
    "bandit_noise_analysis.plot_average(bandit_noise_df, SWEEP_VARS).draw();"
   ]
  },
  {
   "cell_type": "markdown",
   "metadata": {
    "colab_type": "text",
    "id": "szaUeRc4ed6Q"
   },
   "source": [
    "**Parsing the plot above:**\n",
    "- Display the average regret after 10k episodes by noise_scale (lower is better)\n",
    "- Dashed line shows the performance of a random agents.\n",
    "- Look for largest noise_scale with performance significantly better than random agent."
   ]
  },
  {
   "cell_type": "code",
   "execution_count": 0,
   "metadata": {
    "cellView": "form",
    "colab": {
     "height": 0
    },
    "colab_type": "code",
    "id": "6fS80_PNF96e",
    "outputId": "05b0ddf3-47da-46dc-d5b0-1cc1f4154436"
   },
   "outputs": [],
   "source": [
    "#@title average regret through learning (lower is better)\n",
    "bandit_noise_analysis.plot_learning(bandit_noise_df, SWEEP_VARS).draw();"
   ]
  },
  {
   "cell_type": "markdown",
   "metadata": {
    "colab_type": "text",
    "id": "DWHHIRkhejPZ"
   },
   "source": [
    "**Parsing the plot above:**\n",
    "- Display the average regret after 10k episodes by noise_scale (lower is better)\n",
    "- Dashed line shows the performance of a random agent baseline.\n",
    "- Look for largest noise_scale with performance significantly better than baseline."
   ]
  },
  {
   "cell_type": "code",
   "execution_count": 0,
   "metadata": {
    "cellView": "form",
    "colab": {
     "height": 0
    },
    "colab_type": "code",
    "id": "9a89RWjd4n4I",
    "outputId": "a6af419c-8db0-4ec2-b656-d7888f668e3d"
   },
   "outputs": [],
   "source": [
    "#@title plot performance by seed (higher is better)\n",
    "bandit_noise_analysis.plot_seeds(bandit_noise_df, SWEEP_VARS).draw();"
   ]
  },
  {
   "cell_type": "markdown",
   "metadata": {
    "colab_type": "text",
    "id": "bvbUja5cNbA_"
   },
   "source": [
    "**Parsing the plot above:**\n",
    "\n",
    "- Here we can see the performance of each agent individually through time.\n",
    "- Higher scores are better, but individual runs may be noisy.\n",
    "- Use this plot to diagnose strange agent behaviour."
   ]
  },
  {
   "cell_type": "markdown",
   "metadata": {
    "colab_type": "text",
    "id": "XeeO3UdkHvro"
   },
   "source": [
    "### MNIST noise"
   ]
  },
  {
   "cell_type": "markdown",
   "metadata": {
    "colab_type": "text",
    "id": "KQU-bBpCeMXS"
   },
   "source": [
    "\n",
    "<img src=\"https://storage.cloud.google.com/bsuite-colab-images/mnist.png\" alt=\"mnist diagram\" height=\"300\"/>\n",
    "\n",
    "The \"hello world\" of deep learning, now as a contextual bandit.\n",
    "\n",
    "- Every timestep the agent must classify a random MNIST digit.\n",
    "- Reward +1 for correct, -1 for incorrect.\n",
    "- Run noise_scale = [0.1, 0.3, 1., 3, 10] for 4 seeds for 10k episodes.\n",
    "- Score is percentage of successful classifications.\n",
    "- Must log `episode`, `total_regret` for standard analysis."
   ]
  },
  {
   "cell_type": "code",
   "execution_count": 0,
   "metadata": {
    "cellView": "form",
    "colab": {
     "height": 0
    },
    "colab_type": "code",
    "id": "3gHxu0e4Hvrp",
    "outputId": "d3a9d55d-7e36-4e1c-dcf2-6e339717a3ae"
   },
   "outputs": [],
   "source": [
    "#@title parsing data\n",
    "mnist_noise_df = DF[DF.bsuite_env == 'mnist_noise'].copy()\n",
    "summary_analysis.plot_single_experiment(BSUITE_SCORE, 'mnist_noise', SWEEP_VARS).draw();"
   ]
  },
  {
   "cell_type": "code",
   "execution_count": 0,
   "metadata": {
    "cellView": "form",
    "colab": {
     "height": 0
    },
    "colab_type": "code",
    "id": "HsNrBsl3Hvrx",
    "outputId": "578bd839-06bb-432e-c257-37318d82fbb0"
   },
   "outputs": [],
   "source": [
    "#@title average regret over learning (lower is better)\n",
    "mnist_noise_analysis.plot_average(mnist_noise_df, SWEEP_VARS).draw();"
   ]
  },
  {
   "cell_type": "markdown",
   "metadata": {
    "colab_type": "text",
    "id": "m_q0mBBvfgq6"
   },
   "source": [
    "**Parsing the plot above:**\n",
    "- Display the average regret after 10k episodes by noise_scale (lower is better)\n",
    "- Dashed line shows the performance of a random agents.\n",
    "- Look for largest noise_scale with performance significantly better than random agent."
   ]
  },
  {
   "cell_type": "code",
   "execution_count": 0,
   "metadata": {
    "cellView": "form",
    "colab": {
     "height": 0
    },
    "colab_type": "code",
    "id": "6vKxHHfGHvr4",
    "outputId": "fc84d94b-aa1d-482e-901c-2bc1d0a2ba49"
   },
   "outputs": [],
   "source": [
    "#@title average regret through learning (lower is better)\n",
    "mnist_noise_analysis.plot_learning(mnist_noise_df, SWEEP_VARS).draw();"
   ]
  },
  {
   "cell_type": "markdown",
   "metadata": {
    "colab_type": "text",
    "id": "gFquOp8YfenD"
   },
   "source": [
    "**Parsing the plot above:**\n",
    "- Display the average regret after 10k episodes by noise_scale (lower is better)\n",
    "- Dashed line shows the performance of a random agent baseline.\n",
    "- Look for largest noise_scale with performance significantly better than baseline."
   ]
  },
  {
   "cell_type": "code",
   "execution_count": 0,
   "metadata": {
    "cellView": "form",
    "colab": {},
    "colab_type": "code",
    "id": "H_wJ_oLq4o5K"
   },
   "outputs": [],
   "source": [
    "#@title plot performance by seed (higher is better)\n",
    "mnist_noise_analysis.plot_seeds(mnist_noise_df, SWEEP_VARS).draw;"
   ]
  },
  {
   "cell_type": "markdown",
   "metadata": {
    "colab_type": "text",
    "id": "Ft77N63zNcKf"
   },
   "source": [
    "**Parsing the plot above:**\n",
    "\n",
    "- Here we can see the performance of each agent individually through time.\n",
    "- Higher scores are better, but individual runs may be noisy.\n",
    "- Use this plot to diagnose strange agent behaviour."
   ]
  },
  {
   "cell_type": "markdown",
   "metadata": {
    "colab_type": "text",
    "id": "BhNvrDHtFsbW"
   },
   "source": [
    "### Catch noise"
   ]
  },
  {
   "cell_type": "markdown",
   "metadata": {
    "colab_type": "text",
    "id": "cuwO8ePyfnMF"
   },
   "source": [
    "<img src=\"https://storage.cloud.google.com/bsuite-colab-images/catch.png\" alt=\"catch diagram\" height=\"300\"/>\n",
    "\n",
    "\n",
    "DeepMind's internal \"hello world\" for RL agents.\n",
    "\n",
    "- The environment is a 5x10 grid with a single falling block per episodes (similar to Tetris).\n",
    "- The agent controls a single \"paddle\" pixel that it should use to \"catch\" the falling block.\n",
    "- If the agent catches the block reward +1, if the agent misses the block reward -1.\n",
    "- Run noise_scale = [0.1, 0.3, 1., 3, 10] for 4 seeds for 10k episodes.\n",
    "-   Score is percentage of successful \"catch\" over first 10k episodes.\n",
    "-   Must log `episode`, `total_regret` for standard analysis.\n",
    "\n"
   ]
  },
  {
   "cell_type": "code",
   "execution_count": 0,
   "metadata": {
    "cellView": "form",
    "colab": {
     "height": 0
    },
    "colab_type": "code",
    "id": "PfrF58GRFsbX",
    "outputId": "e5b06771-11b1-4d64-f8f5-3436a7d2b681"
   },
   "outputs": [],
   "source": [
    "#@title parsing data\n",
    "catch_noise_df = DF[DF.bsuite_env == 'catch_noise'].copy()\n",
    "summary_analysis.plot_single_experiment(BSUITE_SCORE, 'catch_noise', SWEEP_VARS).draw();"
   ]
  },
  {
   "cell_type": "code",
   "execution_count": 0,
   "metadata": {
    "cellView": "form",
    "colab": {
     "height": 0
    },
    "colab_type": "code",
    "id": "QIHLMrZBFsba",
    "outputId": "90880f8b-270e-4f37-81b2-782b177e6bf0"
   },
   "outputs": [],
   "source": [
    "#@title average regret over learning (lower is better)\n",
    "catch_noise_analysis.plot_average(catch_noise_df, SWEEP_VARS).draw();"
   ]
  },
  {
   "cell_type": "markdown",
   "metadata": {
    "colab_type": "text",
    "id": "KQne2I0TgIQN"
   },
   "source": [
    "**Parsing the plot above:**\n",
    "- Display the average regret after 10k episodes by noise_scale (lower is better)\n",
    "- Dashed line shows the performance of a random agents.\n",
    "- Look for largest noise_scale with performance significantly better than random agent."
   ]
  },
  {
   "cell_type": "code",
   "execution_count": 0,
   "metadata": {
    "cellView": "form",
    "colab": {
     "height": 0
    },
    "colab_type": "code",
    "id": "ChxlGZ3MGf9n",
    "outputId": "4d1b85e8-7e61-4053-8d3e-a23a33d88fb0"
   },
   "outputs": [],
   "source": [
    "#@title average regret through learning (lower is better)\n",
    "catch_noise_analysis.plot_learning(catch_noise_df, SWEEP_VARS).draw();"
   ]
  },
  {
   "cell_type": "markdown",
   "metadata": {
    "colab_type": "text",
    "id": "ZTYufA6_gLA6"
   },
   "source": [
    "**Parsing the plot above:**\n",
    "- Display the average regret after 10k episodes by noise_scale (lower is better)\n",
    "- Dashed line shows the performance of a random agent baseline.\n",
    "- Look for largest noise_scale with performance significantly better than baseline."
   ]
  },
  {
   "cell_type": "code",
   "execution_count": 0,
   "metadata": {
    "cellView": "form",
    "colab": {
     "height": 0
    },
    "colab_type": "code",
    "id": "_zT9y1NA4poe",
    "outputId": "d38247fd-01f0-4f15-9467-2058003d87ce"
   },
   "outputs": [],
   "source": [
    "#@title plot performance by seed (higher is better)\n",
    "catch_noise_analysis.plot_seeds(catch_noise_df, SWEEP_VARS).draw();"
   ]
  },
  {
   "cell_type": "markdown",
   "metadata": {
    "colab_type": "text",
    "id": "wQ15ZnVgNc6n"
   },
   "source": [
    "**Parsing the plot above:**\n",
    "\n",
    "- Here we can see the performance of each agent individually through time.\n",
    "- Higher scores are better, but individual runs may be noisy.\n",
    "- Use this plot to diagnose strange agent behaviour."
   ]
  },
  {
   "cell_type": "markdown",
   "metadata": {
    "colab_type": "text",
    "id": "PvkWAhKAFsbo"
   },
   "source": [
    "### Mountain car noise"
   ]
  },
  {
   "cell_type": "markdown",
   "metadata": {
    "colab_type": "text",
    "id": "U3I25hMAf-5i"
   },
   "source": [
    "<img src=\"https://storage.cloud.google.com/bsuite-colab-images/mountain_car.png\" alt=\"mountaincar diagram\" height=\"300\"/>\n",
    "\n",
    "A classic benchmark problem in RL.\n",
    "The agent controls an underpowered car and must drive it out of a valley.\n",
    "\n",
    "- Reward of -1 each step until the car reaches the goal.\n",
    "- Maximum episode length of 1000 steps.\n",
    "- Run noise_scale = [0.1, 0.3, 1., 3, 10] for 4 seeds for 1k episodes.\n",
    "- Score is based on regret against \"good\" policy that solves in 25 steps.\n",
    "- Must log `episode`, `total_regret` for standard analysis.\n"
   ]
  },
  {
   "cell_type": "code",
   "execution_count": 0,
   "metadata": {
    "cellView": "form",
    "colab": {
     "height": 0
    },
    "colab_type": "code",
    "id": "_5AaZZRhFsbo",
    "outputId": "6f256586-f0e1-45e7-ced6-7a500c85def1"
   },
   "outputs": [],
   "source": [
    "#@title parsing data\n",
    "mountain_car_noise_df = DF[DF.bsuite_env == 'mountain_car_noise'].copy()\n",
    "summary_analysis.plot_single_experiment(BSUITE_SCORE, 'mountain_car_noise', SWEEP_VARS).draw();"
   ]
  },
  {
   "cell_type": "code",
   "execution_count": 0,
   "metadata": {
    "cellView": "form",
    "colab": {
     "height": 0
    },
    "colab_type": "code",
    "id": "LCBxH1IJFsbu",
    "outputId": "92ba1516-3b93-4cae-80ed-a082a776c222"
   },
   "outputs": [],
   "source": [
    "#@title average regret over learning (lower is better)\n",
    "mountain_car_noise_analysis.plot_average(mountain_car_noise_df, SWEEP_VARS).draw();"
   ]
  },
  {
   "cell_type": "markdown",
   "metadata": {
    "colab_type": "text",
    "id": "l2f9gSdNgOay"
   },
   "source": [
    "**Parsing the plot above:**\n",
    "- Display the average regret after 10k episodes by noise_scale (lower is better)\n",
    "- Dashed line shows the performance of a random agents.\n",
    "- Look for largest noise_scale with performance significantly better than random agent."
   ]
  },
  {
   "cell_type": "code",
   "execution_count": 0,
   "metadata": {
    "cellView": "form",
    "colab": {
     "height": 0
    },
    "colab_type": "code",
    "id": "DDXxo_9vH1u9",
    "outputId": "340cfab2-b92d-48bd-96d3-761912d57871"
   },
   "outputs": [],
   "source": [
    "#@title average regret through learning (lower is better)\n",
    "mountain_car_noise_analysis.plot_learning(mountain_car_noise_df, SWEEP_VARS).draw();"
   ]
  },
  {
   "cell_type": "markdown",
   "metadata": {
    "colab_type": "text",
    "id": "cm_g7R2cgM7D"
   },
   "source": [
    "**Parsing the plot above:**\n",
    "- Display the average regret after 10k episodes by noise_scale (lower is better)\n",
    "- Dashed line shows the performance of a random agent baseline.\n",
    "- Look for largest noise_scale with performance significantly better than baseline."
   ]
  },
  {
   "cell_type": "code",
   "execution_count": 0,
   "metadata": {
    "cellView": "form",
    "colab": {
     "height": 0
    },
    "colab_type": "code",
    "id": "uWCJrwHK4tKb",
    "outputId": "819570c5-59cb-4436-e2e7-9b7506d61107"
   },
   "outputs": [],
   "source": [
    "#@title plot performance by seed (higher is better)\n",
    "mountain_car_noise_analysis.plot_seeds(mountain_car_noise_df, SWEEP_VARS).draw();"
   ]
  },
  {
   "cell_type": "markdown",
   "metadata": {
    "colab_type": "text",
    "id": "atMZdJBQNfNy"
   },
   "source": [
    "**Parsing the plot above:**\n",
    "\n",
    "- Here we can see the performance of each agent individually through time.\n",
    "- Higher scores are better, but individual runs may be noisy.\n",
    "- Use this plot to diagnose strange agent behaviour."
   ]
  },
  {
   "cell_type": "markdown",
   "metadata": {
    "colab_type": "text",
    "id": "_OXjiYVTFsbe"
   },
   "source": [
    "### Cartpole noise"
   ]
  },
  {
   "cell_type": "markdown",
   "metadata": {
    "colab_type": "text",
    "id": "zGPI8tqyf7E-"
   },
   "source": [
    "\n",
    "<img src=\"https://storage.cloud.google.com/bsuite-colab-images/cartpole.png\" alt=\"cartpole diagram\" height=\"300\"/>\n",
    "\n",
    "A classic benchmark problem in RL.\n",
    "The agent controls a cart on a frictionless plane.\n",
    "\n",
    "- The poles starts near-to upright.\n",
    "- The observation is [x, x_dot, sin(theta), sin(theta)_dot, cos(theta), cos(theta)_dot, time_elapsed]\n",
    "- Episodes end once 1000 steps have occured, or |x| is greater than 1.\n",
    "- Reward of +1 when pole > 0.8 height.\n",
    "- Run noise_scale = [0.1, 0.3, 1., 3, 10] for 4 seeds for 1k episodes.\n",
    "- Score is percentage of timesteps balancing the pole.\n",
    "- Must log `episode`, `total_regret` for standard analysis.\n"
   ]
  },
  {
   "cell_type": "code",
   "execution_count": 0,
   "metadata": {
    "cellView": "form",
    "colab": {
     "height": 0
    },
    "colab_type": "code",
    "id": "wJpb89yUFsbf",
    "outputId": "3d2ecce4-3b2a-4c7c-893f-389f669b4b5a"
   },
   "outputs": [],
   "source": [
    "#@title parsing  data\n",
    "cartpole_noise_df = DF[DF.bsuite_env == 'cartpole_noise'].copy()\n",
    "summary_analysis.plot_single_experiment(BSUITE_SCORE, 'cartpole_noise', SWEEP_VARS).draw();"
   ]
  },
  {
   "cell_type": "code",
   "execution_count": 0,
   "metadata": {
    "cellView": "form",
    "colab": {
     "height": 0
    },
    "colab_type": "code",
    "id": "asG7gr5_Fsbi",
    "outputId": "b5ce3d5d-887c-4e3b-e1dd-bf23f0528cf4"
   },
   "outputs": [],
   "source": [
    "#@title average regret over learning (lower is better)\n",
    "cartpole_noise_analysis.plot_average(cartpole_noise_df, SWEEP_VARS).draw();"
   ]
  },
  {
   "cell_type": "markdown",
   "metadata": {
    "colab_type": "text",
    "id": "wPOUkkq1gJBS"
   },
   "source": [
    "**Parsing the plot above:**\n",
    "- Display the average regret after 10k episodes by noise_scale (lower is better)\n",
    "- Dashed line shows the performance of a random agents.\n",
    "- Look for largest noise_scale with performance significantly better than random agent."
   ]
  },
  {
   "cell_type": "code",
   "execution_count": 0,
   "metadata": {
    "cellView": "form",
    "colab": {
     "height": 0
    },
    "colab_type": "code",
    "id": "kZrjk8WSHqUm",
    "outputId": "521f0b93-57cb-4b95-f9ed-b5789078df9d"
   },
   "outputs": [],
   "source": [
    "#@title average regret through learning (lower is better)\n",
    "cartpole_noise_analysis.plot_learning(cartpole_noise_df, SWEEP_VARS).draw();"
   ]
  },
  {
   "cell_type": "markdown",
   "metadata": {
    "colab_type": "text",
    "id": "vRa8iMYJgMCx"
   },
   "source": [
    "**Parsing the plot above:**\n",
    "- Display the average regret after 10k episodes by noise_scale (lower is better)\n",
    "- Dashed line shows the performance of a random agent baseline.\n",
    "- Look for largest noise_scale with performance significantly better than baseline."
   ]
  },
  {
   "cell_type": "code",
   "execution_count": 0,
   "metadata": {
    "cellView": "form",
    "colab": {
     "height": 0
    },
    "colab_type": "code",
    "id": "vBEKq2zq4qh5",
    "outputId": "7889be1d-df30-403d-d3e6-91e60fbcb36e"
   },
   "outputs": [],
   "source": [
    "#@title plot performance by seed (higher is better)\n",
    "cartpole_noise_analysis.plot_seeds(cartpole_noise_df, SWEEP_VARS).draw();"
   ]
  },
  {
   "cell_type": "markdown",
   "metadata": {
    "colab_type": "text",
    "id": "ZXAVj3SrNd6P"
   },
   "source": [
    "**Parsing the plot above:**\n",
    "\n",
    "- Here we can see the performance of each agent individually through time.\n",
    "- Higher scores are better, but individual runs may be noisy.\n",
    "- Use this plot to diagnose strange agent behaviour."
   ]
  },
  {
   "cell_type": "markdown",
   "metadata": {
    "colab_type": "text",
    "id": "zCNVq9M0IEpT"
   },
   "source": [
    "## Reward scale\n",
    "\n",
    "To investigate the robustness of RL agents to reward rewards, we repeat the \"basic\" experiments under differing levels of problem rescaling.\n",
    "\n",
    "This time we allocate the 20 different seeds across 5 levels of reward\\_scale = $[0.1, 0.3, 1, 3, 10]$ with 4 seeds each.\n",
    "\n",
    "In order to keep comparable statistics/regret we report rescaled regret/reward\\_scale."
   ]
  },
  {
   "cell_type": "markdown",
   "metadata": {
    "colab_type": "text",
    "id": "U5B77UDjIEpY"
   },
   "source": [
    "### Bandit scale"
   ]
  },
  {
   "cell_type": "markdown",
   "metadata": {
    "colab_type": "text",
    "id": "JscWOhKOiA60"
   },
   "source": [
    "<img src=\"https://storage.cloud.google.com/bsuite-colab-images/bandit.png\" alt=\"bandit diagram\" height=\"300\"/>\n",
    "\n",
    "\n",
    "A simple independent-armed bandit problem.\n",
    "\n",
    "- The agent is faced with 11 actions with deterministic rewards [0.0, 0.1, .., 1.0] randomly assigned.\n",
    "- Run reward_scale = [0.01, 0.1, 1., 10, 100] for 4 seeds for 10k episodes.\n",
    "- Score is 1 - 2 * average_regret at 10k episodes.\n",
    "- Must log `episode`, `total_regret` for standard analysis.\n"
   ]
  },
  {
   "cell_type": "code",
   "execution_count": 0,
   "metadata": {
    "cellView": "form",
    "colab": {
     "height": 0
    },
    "colab_type": "code",
    "id": "XgOuCckcIEpb",
    "outputId": "96d8b79d-79b6-43da-fb0d-7ae2410e5cd1"
   },
   "outputs": [],
   "source": [
    "#@title parsing data\n",
    "bandit_scale_df = DF[DF.bsuite_env == 'bandit_scale'].copy()\n",
    "summary_analysis.plot_single_experiment(BSUITE_SCORE, 'bandit_scale', SWEEP_VARS).draw();"
   ]
  },
  {
   "cell_type": "code",
   "execution_count": 0,
   "metadata": {
    "cellView": "form",
    "colab": {
     "height": 0
    },
    "colab_type": "code",
    "id": "3vR6CvD8IEpd",
    "outputId": "824f6aef-2436-44a4-eeda-27610b9fe5eb"
   },
   "outputs": [],
   "source": [
    "#@title average regret over learning (lower is better)\n",
    "bandit_scale_analysis.plot_average(bandit_scale_df, SWEEP_VARS).draw();"
   ]
  },
  {
   "cell_type": "markdown",
   "metadata": {
    "colab_type": "text",
    "id": "dNHc7dECukLF"
   },
   "source": [
    "**Parsing the plot above:**\n",
    "- Display the average regret after 10k episodes by reward_scale (lower is better)\n",
    "- Dashed line shows the performance of a random agents.\n",
    "- Look for reward_scale with performance significantly better than random agent."
   ]
  },
  {
   "cell_type": "code",
   "execution_count": 0,
   "metadata": {
    "cellView": "form",
    "colab": {
     "height": 0
    },
    "colab_type": "code",
    "id": "_qkiiY16IEpi",
    "outputId": "c97603b8-675f-4b64-8113-5e7b00a6fc6d"
   },
   "outputs": [],
   "source": [
    "#@title average regret through learning (lower is better)\n",
    "bandit_scale_analysis.plot_learning(bandit_scale_df, SWEEP_VARS).draw();"
   ]
  },
  {
   "cell_type": "markdown",
   "metadata": {
    "colab_type": "text",
    "id": "4gd87xYWuvLa"
   },
   "source": [
    "**Parsing the plot above:**\n",
    "- Display the average regret after 10k episodes by reward_scale (lower is better)\n",
    "- Dashed line shows the performance of a random agent baseline.\n",
    "- Look for reward_scale with performance significantly better than baseline."
   ]
  },
  {
   "cell_type": "code",
   "execution_count": 0,
   "metadata": {
    "cellView": "form",
    "colab": {
     "height": 0
    },
    "colab_type": "code",
    "id": "hUTzD5tj4vZq",
    "outputId": "8be76d3f-690c-4ab1-ba6b-bcca404a9045"
   },
   "outputs": [],
   "source": [
    "#@title plot performance by seed (higher is better)\n",
    "bandit_scale_analysis.plot_seeds(bandit_scale_df, SWEEP_VARS).draw();"
   ]
  },
  {
   "cell_type": "markdown",
   "metadata": {
    "colab_type": "text",
    "id": "22rddkYVNf8f"
   },
   "source": [
    "**Parsing the plot above:**\n",
    "\n",
    "- Here we can see the performance of each agent individually through time.\n",
    "- Higher scores are better, but individual runs may be noisy.\n",
    "- Use this plot to diagnose strange agent behaviour."
   ]
  },
  {
   "cell_type": "markdown",
   "metadata": {
    "colab_type": "text",
    "id": "hPlIUnPgIBb5"
   },
   "source": [
    "### MNIST scale"
   ]
  },
  {
   "cell_type": "markdown",
   "metadata": {
    "colab_type": "text",
    "id": "Xo6uxj7iiGSL"
   },
   "source": [
    "\n",
    "<img src=\"https://storage.cloud.google.com/bsuite-colab-images/mnist.png\" alt=\"mnist diagram\" height=\"300\"/>\n",
    "\n",
    "The \"hello world\" of deep learning, now as a contextual bandit.\n",
    "\n",
    "- Every timestep the agent must classify a random MNIST digit.\n",
    "- Reward +1 for correct, -1 for incorrect.\n",
    "- Run reward_scale = [0.01, 0.1, 1., 10, 100] for 4 seeds for 10k episodes.\n",
    "- Score is percentage of successful classifications.\n",
    "- Must log `episode`, `total_regret` for standard analysis."
   ]
  },
  {
   "cell_type": "code",
   "execution_count": 0,
   "metadata": {
    "cellView": "form",
    "colab": {
     "height": 0
    },
    "colab_type": "code",
    "id": "KUp30dhSIBb6",
    "outputId": "eb2bd520-ecb3-4bc5-9bb5-4c598b552309"
   },
   "outputs": [],
   "source": [
    "#@title parsing data\n",
    "mnist_scale_df = DF[DF.bsuite_env == 'mnist_scale'].copy()\n",
    "summary_analysis.plot_single_experiment(BSUITE_SCORE, 'mnist_scale', SWEEP_VARS).draw();"
   ]
  },
  {
   "cell_type": "code",
   "execution_count": 0,
   "metadata": {
    "cellView": "form",
    "colab": {
     "height": 0
    },
    "colab_type": "code",
    "id": "opeE-AlYIBb8",
    "outputId": "dc4dd116-8b9d-4c2c-a7c6-8ec0889f9474"
   },
   "outputs": [],
   "source": [
    "#@title average regret over learning (lower is better)\n",
    "mnist_scale_analysis.plot_average(mnist_scale_df, SWEEP_VARS).draw();"
   ]
  },
  {
   "cell_type": "markdown",
   "metadata": {
    "colab_type": "text",
    "id": "vpeAlsxluomy"
   },
   "source": [
    "**Parsing the plot above:**\n",
    "- Display the average regret after 10k episodes by reward_scale (lower is better)\n",
    "- Dashed line shows the performance of a random agents.\n",
    "- Look for reward_scale with performance significantly better than random agent."
   ]
  },
  {
   "cell_type": "code",
   "execution_count": 0,
   "metadata": {
    "cellView": "form",
    "colab": {
     "height": 0
    },
    "colab_type": "code",
    "id": "QoJe7269IBcA",
    "outputId": "cf67da07-bdf0-4cd7-fb28-99d515dfc08c"
   },
   "outputs": [],
   "source": [
    "#@title average regret through learning (lower is better)\n",
    "mnist_scale_analysis.plot_learning(mnist_scale_df, SWEEP_VARS).draw();"
   ]
  },
  {
   "cell_type": "markdown",
   "metadata": {
    "colab_type": "text",
    "id": "nTCeZEkTuy9q"
   },
   "source": [
    "**Parsing the plot above:**\n",
    "- Display the average regret after 10k episodes by reward_scale (lower is better)\n",
    "- Dashed line shows the performance of a random agent baseline.\n",
    "- Look for reward_scale with performance significantly better than baseline."
   ]
  },
  {
   "cell_type": "code",
   "execution_count": 0,
   "metadata": {
    "cellView": "form",
    "colab": {
     "height": 0
    },
    "colab_type": "code",
    "id": "G-KfqyMQ4wEa",
    "outputId": "d098ffcd-d2a9-4bac-e575-9d7c12f3e40e"
   },
   "outputs": [],
   "source": [
    "#@title plot performance by seed (higher is better)\n",
    "mnist_scale_analysis.plot_seeds(mnist_scale_df, SWEEP_VARS).draw();"
   ]
  },
  {
   "cell_type": "markdown",
   "metadata": {
    "colab_type": "text",
    "id": "BM9Dde95Ngwn"
   },
   "source": [
    "**Parsing the plot above:**\n",
    "\n",
    "- Here we can see the performance of each agent individually through time.\n",
    "- Higher scores are better, but individual runs may be noisy.\n",
    "- Use this plot to diagnose strange agent behaviour."
   ]
  },
  {
   "cell_type": "markdown",
   "metadata": {
    "colab_type": "text",
    "id": "PweN9CwBIEps"
   },
   "source": [
    "### Catch scale"
   ]
  },
  {
   "cell_type": "markdown",
   "metadata": {
    "colab_type": "text",
    "id": "xv0kzFFGiLnL"
   },
   "source": [
    "<img src=\"https://storage.cloud.google.com/bsuite-colab-images/catch.png\" alt=\"catch diagram\" height=\"300\"/>\n",
    "\n",
    "\n",
    "DeepMind's internal \"hello world\" for RL agents.\n",
    "\n",
    "- The environment is a 5x10 grid with a single falling block per episodes (similar to Tetris).\n",
    "- The agent controls a single \"paddle\" pixel that it should use to \"catch\" the falling block.\n",
    "- If the agent catches the block reward +1, if the agent misses the block reward -1.\n",
    "- Run reward_scale = [0.01, 0.1, 1., 10, 100] for 4 seeds for 10k episodes.\n",
    "-   Score is percentage of successful \"catch\" over first 10k episodes.\n",
    "-   Must log `episode`, `total_regret` for standard analysis.\n",
    "\n"
   ]
  },
  {
   "cell_type": "code",
   "execution_count": 0,
   "metadata": {
    "cellView": "form",
    "colab": {
     "height": 0
    },
    "colab_type": "code",
    "id": "C03JJqYkIEpv",
    "outputId": "ab7a8873-569e-4e1f-fafa-07c7c83f4c7b"
   },
   "outputs": [],
   "source": [
    "#@title parsing data\n",
    "catch_scale_df = DF[DF.bsuite_env == 'catch_scale'].copy()\n",
    "summary_analysis.plot_single_experiment(BSUITE_SCORE, 'catch_scale', SWEEP_VARS).draw();"
   ]
  },
  {
   "cell_type": "code",
   "execution_count": 0,
   "metadata": {
    "cellView": "form",
    "colab": {
     "height": 0
    },
    "colab_type": "code",
    "id": "d_vt5a__IEpz",
    "outputId": "792bb623-9164-415b-bb15-50e4fb560f68"
   },
   "outputs": [],
   "source": [
    "#@title average regret over learning (lower is better)\n",
    "catch_scale_analysis.plot_average(catch_scale_df, SWEEP_VARS).draw();"
   ]
  },
  {
   "cell_type": "markdown",
   "metadata": {
    "colab_type": "text",
    "id": "FMf_UvCFupuv"
   },
   "source": [
    "**Parsing the plot above:**\n",
    "- Display the average regret after 10k episodes by reward_scale (lower is better)\n",
    "- Dashed line shows the performance of a random agents.\n",
    "- Look for reward_scale with performance significantly better than random agent."
   ]
  },
  {
   "cell_type": "code",
   "execution_count": 0,
   "metadata": {
    "cellView": "form",
    "colab": {
     "height": 0
    },
    "colab_type": "code",
    "id": "VSXonpvuIEp5",
    "outputId": "dd3080f8-ee94-4dba-a091-fc30fddc4c73"
   },
   "outputs": [],
   "source": [
    "#@title average regret through learning (lower is better)\n",
    "catch_scale_analysis.plot_learning(catch_scale_df, SWEEP_VARS).draw();"
   ]
  },
  {
   "cell_type": "markdown",
   "metadata": {
    "colab_type": "text",
    "id": "tyE8auVluzqa"
   },
   "source": [
    "**Parsing the plot above:**\n",
    "- Display the average regret after 10k episodes by reward_scale (lower is better)\n",
    "- Dashed line shows the performance of a random agent baseline.\n",
    "- Look for reward_scale with performance significantly better than baseline."
   ]
  },
  {
   "cell_type": "code",
   "execution_count": 0,
   "metadata": {
    "cellView": "form",
    "colab": {
     "height": 0
    },
    "colab_type": "code",
    "id": "Q0CtosBw4wwx",
    "outputId": "f5a1fce4-9799-47fd-f6f6-2459a03a91d1"
   },
   "outputs": [],
   "source": [
    "#@title plot performance by seed (higher is better)\n",
    "catch_scale_analysis.plot_seeds(catch_scale_df, SWEEP_VARS).draw();"
   ]
  },
  {
   "cell_type": "markdown",
   "metadata": {
    "colab_type": "text",
    "id": "DG5P82d-NhoP"
   },
   "source": [
    "**Parsing the plot above:**\n",
    "\n",
    "- Here we can see the performance of each agent individually through time.\n",
    "- Higher scores are better, but individual runs may be noisy.\n",
    "- Use this plot to diagnose strange agent behaviour."
   ]
  },
  {
   "cell_type": "markdown",
   "metadata": {
    "colab_type": "text",
    "id": "-Tbhu6tKIEqG"
   },
   "source": [
    "### Mountain car scale"
   ]
  },
  {
   "cell_type": "markdown",
   "metadata": {
    "colab_type": "text",
    "id": "0reSPxfYiVNL"
   },
   "source": [
    "<img src=\"https://storage.cloud.google.com/bsuite-colab-images/mountain_car.png\" alt=\"mountaincar diagram\" height=\"300\"/>\n",
    "\n",
    "A classic benchmark problem in RL.\n",
    "The agent controls an underpowered car and must drive it out of a valley.\n",
    "\n",
    "- Reward of -1 each step until the car reaches the goal.\n",
    "- Maximum episode length of 1000 steps.\n",
    "- Run reward_scale = [0.01, 0.1, 1., 10, 100] for 4 seeds for 1k episodes.\n",
    "- Score is based on regret against \"good\" policy that solves in 25 steps.\n",
    "- Must log `episode`, `total_regret` for standard analysis.\n"
   ]
  },
  {
   "cell_type": "code",
   "execution_count": 0,
   "metadata": {
    "cellView": "form",
    "colab": {
     "height": 0
    },
    "colab_type": "code",
    "id": "xtDJON_4IEqH",
    "outputId": "8b7a7da9-ddd0-4c61-af84-5a51d236d7d7"
   },
   "outputs": [],
   "source": [
    "#@title parsing data\n",
    "mountain_car_scale_df = DF[DF.bsuite_env == 'mountain_car_scale'].copy()\n",
    "summary_analysis.plot_single_experiment(BSUITE_SCORE, 'mountain_car_scale', SWEEP_VARS).draw();"
   ]
  },
  {
   "cell_type": "code",
   "execution_count": 0,
   "metadata": {
    "cellView": "form",
    "colab": {
     "height": 0
    },
    "colab_type": "code",
    "id": "-EfiYNQhIEqI",
    "outputId": "fb1cf8fa-065c-4d10-b440-91df53d1d924"
   },
   "outputs": [],
   "source": [
    "#@title average regret over learning (lower is better)\n",
    "mountain_car_scale_analysis.plot_average(mountain_car_scale_df, SWEEP_VARS).draw();"
   ]
  },
  {
   "cell_type": "markdown",
   "metadata": {
    "colab_type": "text",
    "id": "_WtMKupHurkM"
   },
   "source": [
    "**Parsing the plot above:**\n",
    "- Display the average regret after 10k episodes by reward_scale (lower is better)\n",
    "- Dashed line shows the performance of a random agents.\n",
    "- Look for reward_scale with performance significantly better than random agent."
   ]
  },
  {
   "cell_type": "code",
   "execution_count": 0,
   "metadata": {
    "cellView": "form",
    "colab": {
     "height": 0
    },
    "colab_type": "code",
    "id": "bZMxcgQkIEqL",
    "outputId": "403d58d3-524e-4714-e4a7-fb4a13f9897c"
   },
   "outputs": [],
   "source": [
    "#@title average regret through learning (lower is better)\n",
    "mountain_car_scale_analysis.plot_learning(mountain_car_scale_df, SWEEP_VARS).draw();"
   ]
  },
  {
   "cell_type": "markdown",
   "metadata": {
    "colab_type": "text",
    "id": "ZfIb7ZNnu1UK"
   },
   "source": [
    "**Parsing the plot above:**\n",
    "- Display the average regret after 10k episodes by reward_scale (lower is better)\n",
    "- Dashed line shows the performance of a random agent baseline.\n",
    "- Look for reward_scale with performance significantly better than baseline."
   ]
  },
  {
   "cell_type": "code",
   "execution_count": 0,
   "metadata": {
    "cellView": "form",
    "colab": {
     "height": 0
    },
    "colab_type": "code",
    "id": "HzzdOtA_4yXu",
    "outputId": "66676f22-9da4-4050-f3fb-88ab13d19650"
   },
   "outputs": [],
   "source": [
    "#@title plot performance by seed (higher is better)\n",
    "mountain_car_scale_analysis.plot_seeds(mountain_car_scale_df, SWEEP_VARS).draw();"
   ]
  },
  {
   "cell_type": "markdown",
   "metadata": {
    "colab_type": "text",
    "id": "NcQJaFUBNjQe"
   },
   "source": [
    "**Parsing the plot above:**\n",
    "\n",
    "- Here we can see the performance of each agent individually through time.\n",
    "- Higher scores are better, but individual runs may be noisy.\n",
    "- Use this plot to diagnose strange agent behaviour."
   ]
  },
  {
   "cell_type": "markdown",
   "metadata": {
    "colab_type": "text",
    "id": "USfDNwCtIEp9"
   },
   "source": [
    "### Cartpole scale"
   ]
  },
  {
   "cell_type": "markdown",
   "metadata": {
    "colab_type": "text",
    "id": "F0LcbVm3iSM6"
   },
   "source": [
    "\n",
    "<img src=\"https://storage.cloud.google.com/bsuite-colab-images/cartpole.png\" alt=\"cartpole diagram\" height=\"300\"/>\n",
    "\n",
    "A classic benchmark problem in RL.\n",
    "The agent controls a cart on a frictionless plane.\n",
    "\n",
    "- The poles starts near-to upright.\n",
    "- The observation is [x, x_dot, sin(theta), sin(theta)_dot, cos(theta), cos(theta)_dot, time_elapsed]\n",
    "- Episodes end once 1000 steps have occured, or |x| is greater than 1.\n",
    "- Reward of +1 when pole > 0.8 height.\n",
    "- Run reward_scale = [0.01, 0.1, 1., 10, 100] for 4 seeds for 1k episodes.\n",
    "- Score is percentage of timesteps balancing the pole.\n",
    "- Must log `episode`, `total_regret` for standard analysis.\n"
   ]
  },
  {
   "cell_type": "code",
   "execution_count": 0,
   "metadata": {
    "cellView": "form",
    "colab": {
     "height": 0
    },
    "colab_type": "code",
    "id": "mfSO4Q4gIEp-",
    "outputId": "9af23241-4133-4447-b99e-23c7811bacda"
   },
   "outputs": [],
   "source": [
    "#@title parsing data\n",
    "cartpole_scale_df = DF[DF.bsuite_env == 'cartpole_scale'].copy()\n",
    "summary_analysis.plot_single_experiment(BSUITE_SCORE, 'cartpole_scale', SWEEP_VARS).draw();"
   ]
  },
  {
   "cell_type": "code",
   "execution_count": 0,
   "metadata": {
    "cellView": "form",
    "colab": {
     "height": 0
    },
    "colab_type": "code",
    "id": "gdZXo0QwIEqB",
    "outputId": "aef11d38-d7f6-40d8-e1da-6bebe10c335c"
   },
   "outputs": [],
   "source": [
    "#@title average regret over learning (lower is better)\n",
    "cartpole_scale_analysis.plot_average(cartpole_scale_df, SWEEP_VARS).draw();"
   ]
  },
  {
   "cell_type": "markdown",
   "metadata": {
    "colab_type": "text",
    "id": "rbV2q1snuqdy"
   },
   "source": [
    "**Parsing the plot above:**\n",
    "- Display the average regret after 10k episodes by reward_scale (lower is better)\n",
    "- Dashed line shows the performance of a random agents.\n",
    "- Look for reward_scale with performance significantly better than random agent."
   ]
  },
  {
   "cell_type": "code",
   "execution_count": 0,
   "metadata": {
    "cellView": "form",
    "colab": {
     "height": 0
    },
    "colab_type": "code",
    "id": "eFZ2_koZIEqE",
    "outputId": "4355164d-216e-4e27-e3bd-3ee0ffd80aa1"
   },
   "outputs": [],
   "source": [
    "#@title average regret through learning (lower is better)\n",
    "cartpole_scale_analysis.plot_learning(cartpole_scale_df, SWEEP_VARS).draw();"
   ]
  },
  {
   "cell_type": "markdown",
   "metadata": {
    "colab_type": "text",
    "id": "TOBg2c5Ku0Xq"
   },
   "source": [
    "**Parsing the plot above:**\n",
    "- Display the average regret after 10k episodes by reward_scale (lower is better)\n",
    "- Dashed line shows the performance of a random agent baseline.\n",
    "- Look for reward_scale with performance significantly better than baseline."
   ]
  },
  {
   "cell_type": "code",
   "execution_count": 0,
   "metadata": {
    "cellView": "form",
    "colab": {
     "height": 0
    },
    "colab_type": "code",
    "id": "fyTcpBud4xlP",
    "outputId": "89b3aacd-ea1d-4b28-d18c-ba11469e8af9"
   },
   "outputs": [],
   "source": [
    "#@title plot performance by seed (higher is better)\n",
    "cartpole_scale_analysis.plot_seeds(cartpole_scale_df, SWEEP_VARS).draw();"
   ]
  },
  {
   "cell_type": "markdown",
   "metadata": {
    "colab_type": "text",
    "id": "nawk_01lNifm"
   },
   "source": [
    "**Parsing the plot above:**\n",
    "\n",
    "- Here we can see the performance of each agent individually through time.\n",
    "- Higher scores are better, but individual runs may be noisy.\n",
    "- Use this plot to diagnose strange agent behaviour."
   ]
  },
  {
   "cell_type": "markdown",
   "metadata": {
    "colab_type": "text",
    "id": "tV8NnR1pJIkN"
   },
   "source": [
    "## Exploration\n",
    "\n",
    "Exploration is the problem of prioritizing useful information for learning."
   ]
  },
  {
   "cell_type": "markdown",
   "metadata": {
    "colab_type": "text",
    "id": "NMY_PV_PJWvy"
   },
   "source": [
    "### Deep sea\n",
    "\n"
   ]
  },
  {
   "cell_type": "markdown",
   "metadata": {
    "colab_type": "text",
    "id": "2G2dMRuhJWvz"
   },
   "source": [
    "<img src=\"https://storage.cloud.google.com/bsuite-colab-images/deep_sea.png\" alt=\"deep sea diagram\" height=\"300\"/>\n",
    "\n",
    "Scalable chain domains that test for\n",
    "[deep exploration](https://arxiv.org/abs/1703.07608).\n",
    "\n",
    "The environment is an N x N grid with falling blocks similar to catch. However\n",
    "the block always starts in the top left. In each timestep, the agent can move\n",
    "the block \"left\" or \"right\". At each timestep, there is a small cost for moving\n",
    "\"right\" and no cost for moving \"left\". However, the agent can receive a large\n",
    "reward for choosing \"right\" N-times in a row and reaching the bottom right. This\n",
    "is the single rewarding policy, all other policies receive zero or negative\n",
    "return making this a very difficult exploration problem.\n",
    "\n",
    "-   Run deep_sea sizes N=5,6,7,..,50 for at least 10k episodes.\n",
    "-   Score is the percentage of N for which average regret < 0.9 faster than 2^N.\n",
    "-   Must log `episode`, `total_return` for standard analysis."
   ]
  },
  {
   "cell_type": "code",
   "execution_count": 0,
   "metadata": {
    "cellView": "form",
    "colab": {
     "height": 495
    },
    "colab_type": "code",
    "id": "BIAMOfnzJWv0",
    "outputId": "629eeb38-7cf6-471c-a818-a0029a153bfd"
   },
   "outputs": [],
   "source": [
    "#@title parsing data\n",
    "deep_sea_df = DF[DF.bsuite_env == 'deep_sea'].copy()\n",
    "deep_sea_plt = deep_sea_analysis.find_solution(deep_sea_df, SWEEP_VARS)\n",
    "summary_analysis.plot_single_experiment(BSUITE_SCORE, 'deep_sea', SWEEP_VARS).draw();"
   ]
  },
  {
   "cell_type": "code",
   "execution_count": 0,
   "metadata": {
    "cellView": "form",
    "colab": {
     "height": 544
    },
    "colab_type": "code",
    "id": "0Scr29pYJWv3",
    "outputId": "7718f2b7-a965-42b5-b26e-2bfa79527143"
   },
   "outputs": [],
   "source": [
    "#@title average regret by size through learning (lower is better)\n",
    "deep_sea_analysis.plot_regret(deep_sea_df, SWEEP_VARS).draw();"
   ]
  },
  {
   "cell_type": "markdown",
   "metadata": {
    "colab_type": "text",
    "id": "JNt8bTBkJWv9"
   },
   "source": [
    "**Parsing the plot above:**\n",
    "- Learning curves of average regret through time (lower is better).\n",
    "- Dashed line shows the performance of suboptimal \"greedy\" algorithm\n",
    "- Look for largest size with performance significantly better than greedy agent.\n",
    "- Curves also show dynamics through time."
   ]
  },
  {
   "cell_type": "code",
   "execution_count": 0,
   "metadata": {
    "cellView": "form",
    "colab": {
     "height": 544
    },
    "colab_type": "code",
    "id": "aGZnDiV_JWv-",
    "outputId": "09340fab-0cf3-4c77-f345-7a01ed50cb97"
   },
   "outputs": [],
   "source": [
    "#@title scaling of learning time with deep_sea size (lower + more blue is better)\n",
    "deep_sea_analysis.plot_scaling(deep_sea_plt, SWEEP_VARS).draw();"
   ]
  },
  {
   "cell_type": "markdown",
   "metadata": {
    "colab_type": "text",
    "id": "XRTs5_yxJWwC"
   },
   "source": [
    "**Parsing the plot above:**\n",
    "- Compute the number of episodes until the average regret < 0.9 for each problem size.\n",
    "- Red dots have *not* solved the problem, but have simply performed only that many episodes.\n",
    "- Dashed line shows curve 2^N, which is the scaling we expect for agents without deep exploration.\n",
    "- Want to see consistent curve of blue dots signficantly *below* the dashed line -> deep exploration."
   ]
  },
  {
   "cell_type": "code",
   "execution_count": 0,
   "metadata": {
    "cellView": "form",
    "colab": {
     "height": 545
    },
    "colab_type": "code",
    "id": "L5SYqq4IJWwD",
    "outputId": "fb0cef46-1fa0-4d79-bb18-d7c419086a36"
   },
   "outputs": [],
   "source": [
    "#@title scaling of learning time with deep_sea size on log scale (lower + more blue is better)\n",
    "deep_sea_analysis.plot_scaling_log(deep_sea_plt, SWEEP_VARS).draw();"
   ]
  },
  {
   "cell_type": "markdown",
   "metadata": {
    "colab_type": "text",
    "id": "mCMKo6h0JWwG"
   },
   "source": [
    "**Parsing the plot above:**\n",
    "- Plots exactly the same data as above, but on a logarithmic scale.\n",
    "- If we see polynomial scaling -> this should result in a linear relationship between log(learning time) and log(size).\n",
    "- Want to see consistent line of blue dots significantly below the dashed line -> deep exploration."
   ]
  },
  {
   "cell_type": "code",
   "execution_count": 0,
   "metadata": {
    "cellView": "form",
    "colab": {
     "height": 655
    },
    "colab_type": "code",
    "id": "DtoFkEw9IzjO",
    "outputId": "99f14795-c1d7-43c3-9abf-d7f64c4aeac5"
   },
   "outputs": [],
   "source": [
    "#@title plot performance by seed (higher is better)\n",
    "deep_sea_analysis.plot_seeds(deep_sea_df, SWEEP_VARS).draw();"
   ]
  },
  {
   "cell_type": "markdown",
   "metadata": {
    "colab_type": "text",
    "id": "2kHPsxo-NkUP"
   },
   "source": [
    "**Parsing the plot above:**\n",
    "\n",
    "- Here we can see the performance of each agent individually through time.\n",
    "- Higher scores are better, but individual runs may be noisy.\n",
    "- Use this plot to diagnose strange agent behaviour."
   ]
  },
  {
   "cell_type": "markdown",
   "metadata": {
    "colab_type": "text",
    "id": "Fada-WLrKDdA"
   },
   "source": [
    "### Stochastic deep sea\n",
    "\n"
   ]
  },
  {
   "cell_type": "markdown",
   "metadata": {
    "colab_type": "text",
    "id": "80Ih3cX4KDdD"
   },
   "source": [
    "<img src=\"https://storage.cloud.google.com/bsuite-colab-images/deep_sea.png\" alt=\"deep sea stochastic diagram\" height=\"300\"/>\n",
    "\n",
    "Scalable chain domains that test for\n",
    "[deep exploration](https://arxiv.org/abs/1703.07608).\n",
    "\n",
    "The environment is an N x N grid with falling blocks similar to catch. However\n",
    "the block always starts in the top left. In each timestep, the agent can move\n",
    "the block \"left\" or \"right\". At each timestep, there is a small cost for moving\n",
    "\"right\" and no cost for moving \"left\". However, the agent can receive a large\n",
    "reward for choosing \"right\" N-times in a row and reaching the bottom right. This\n",
    "is the single rewarding policy, all other policies receive zero or negative\n",
    "return making this a very difficult exploration problem.\n",
    "\n",
    "The stochastic version of this domain only transitions to the right with\n",
    "probability (1 - 1/N) and adds N(0,1) noise to the 'end' states of the chain.\n",
    "\n",
    "-   Run deep_sea sizes N=5,6,7,..,50 for at least 10k episodes.\n",
    "-   Score is the percentage of N for which average regret < 0.9 faster than 2^N.\n",
    "-   Must log `episode`, `total_return` for standard analysis."
   ]
  },
  {
   "cell_type": "code",
   "execution_count": 0,
   "metadata": {
    "cellView": "form",
    "colab": {
     "height": 0
    },
    "colab_type": "code",
    "id": "1qJ96InzKDdE",
    "outputId": "57f5bb6a-d4de-49a7-bb20-873790bbc25b"
   },
   "outputs": [],
   "source": [
    "#@title parsing data\n",
    "deep_sea_stochastic_df = DF[DF.bsuite_env == 'deep_sea_stochastic'].copy()\n",
    "deep_sea_stochastic_plt = deep_sea_stochastic_analysis.find_solution(deep_sea_stochastic_df, SWEEP_VARS)\n",
    "summary_analysis.plot_single_experiment(BSUITE_SCORE, 'deep_sea_stochastic', SWEEP_VARS).draw();"
   ]
  },
  {
   "cell_type": "code",
   "execution_count": 0,
   "metadata": {
    "cellView": "form",
    "colab": {
     "height": 0
    },
    "colab_type": "code",
    "id": "f1vKIKoMKDdH",
    "outputId": "eb7ba14a-3b3b-4c59-edc9-f1991e4a882d"
   },
   "outputs": [],
   "source": [
    "#@title average regret by size through learning (lower is better)\n",
    "deep_sea_stochastic_analysis.plot_regret(deep_sea_stochastic_df, SWEEP_VARS).draw();"
   ]
  },
  {
   "cell_type": "markdown",
   "metadata": {
    "colab_type": "text",
    "id": "Sr0evA1DKDdN"
   },
   "source": [
    "**Parsing the plot above:**\n",
    "- Learning curves of average regret through time (lower is better).\n",
    "- Dashed line shows the performance of suboptimal \"greedy\" algorithm\n",
    "- Look for largest size with performance significantly better than greedy agent.\n",
    "- Curves also show dynamics through time."
   ]
  },
  {
   "cell_type": "code",
   "execution_count": 0,
   "metadata": {
    "cellView": "form",
    "colab": {
     "height": 0
    },
    "colab_type": "code",
    "id": "T1oUdaXnKDdO",
    "outputId": "a177a38e-d0be-40ad-804d-2c9c95bc87c9"
   },
   "outputs": [],
   "source": [
    "#@title scaling of learning time with deep_sea_stochastic size (lower + more blue is better)\n",
    "deep_sea_stochastic_analysis.plot_scaling(deep_sea_stochastic_plt, SWEEP_VARS).draw();"
   ]
  },
  {
   "cell_type": "markdown",
   "metadata": {
    "colab_type": "text",
    "id": "aIcze9ScKDdR"
   },
   "source": [
    "**Parsing the plot above:**\n",
    "- Compute the number of episodes until the average regret < 0.9 for each problem size.\n",
    "- Red dots have *not* solved the problem, but have simply performed only that many episodes.\n",
    "- Dashed line shows curve 2^N, which is the scaling we expect for agents without deep exploration.\n",
    "- Want to see consistent curve of blue dots signficantly *below* the dashed line -> deep exploration."
   ]
  },
  {
   "cell_type": "code",
   "execution_count": 0,
   "metadata": {
    "cellView": "form",
    "colab": {
     "height": 0
    },
    "colab_type": "code",
    "id": "syBJ_aGmKDdS",
    "outputId": "a30a2ea1-55fe-4979-a0fc-a5981e396570"
   },
   "outputs": [],
   "source": [
    "#@title scaling of learning time with deep_sea size on log scale (lower + more blue is better)\n",
    "deep_sea_stochastic_analysis.plot_scaling_log(deep_sea_stochastic_plt, SWEEP_VARS).draw();"
   ]
  },
  {
   "cell_type": "markdown",
   "metadata": {
    "colab_type": "text",
    "id": "rQF9BDzoKDdY"
   },
   "source": [
    "**Parsing the plot above:**\n",
    "- Plots exactly the same data as above, but on a logarithmic scale.\n",
    "- If we see polynomial scaling -> this should result in a linear relationship between log(learning time) and log(size).\n",
    "- Want to see consistent line of blue dots significantly below the dashed line -> deep exploration."
   ]
  },
  {
   "cell_type": "code",
   "execution_count": 0,
   "metadata": {
    "cellView": "form",
    "colab": {
     "height": 0
    },
    "colab_type": "code",
    "id": "s_bWpZ5UJrwJ",
    "outputId": "b0b0584d-7499-44a7-8e19-f732b7cce263"
   },
   "outputs": [],
   "source": [
    "#@title plot performance by seed (higher is better)\n",
    "deep_sea_stochastic_analysis.plot_seeds(deep_sea_stochastic_df, SWEEP_VARS).draw();"
   ]
  },
  {
   "cell_type": "markdown",
   "metadata": {
    "colab_type": "text",
    "id": "DhGbNwJfNl1m"
   },
   "source": [
    "**Parsing the plot above:**\n",
    "\n",
    "- Here we can see the performance of each agent individually through time.\n",
    "- Higher scores are better, but individual runs may be noisy.\n",
    "- Use this plot to diagnose strange agent behaviour."
   ]
  },
  {
   "cell_type": "markdown",
   "metadata": {
    "colab_type": "text",
    "id": "g_mroLiVK1RE"
   },
   "source": [
    "### Cartpole swingup\n"
   ]
  },
  {
   "cell_type": "markdown",
   "metadata": {
    "colab_type": "text",
    "id": "S2KWDe9dK1RH"
   },
   "source": [
    "\n",
    "<img src=\"https://storage.cloud.google.com/bsuite-colab-images/cartpole.png\" alt=\"cartpole diagram\" height=\"300\"/>\n",
    "\n",
    "A difficult cartpole swingup task with sparse rewards and a cost for moving.\n",
    "This domain is somewhat similar to \"deep sea\" but cannot be solved easily by tabular reinforcement learning algorithms.\n",
    "\n",
    "- The observation is `[x, cos_theta, sin_theta, x_dot, theta_dot, x_central]`\n",
    "- The dynamics are given by the classic cartpole from dm [control suite](https://github.com/deepmind/dm_control/blob/master/all_domains.png)\n",
    "- Each episode begins with the pole hanging downwards and ends after 1000 timesteps.\n",
    "- There is a small cost of -0.1 for any movement of the pole.\n",
    "- There is a reward of +1 only if:\n",
    "  - x_dot, theta_dot < 1\n",
    "  - pole_height > 1 - `difficulty_scale`\n",
    "  - x < 1 - `difficulty_scale`\n",
    "\n",
    "The parameter `difficulty_scale` acts as a scaling for the depth of exploration, similar to the \"size\" in deep sea.\n",
    "To run this experiment:\n",
    "\n",
    "- Run the agent on difficulty_scale = 0, 0.05, 0.1, .. , 0.95 for 1k episodes\n",
    "- Score is proportion of runs that achieve an average_return > 0 at any point.\n",
    "- Must log `episode`, `total_return` for standard analysis\n"
   ]
  },
  {
   "cell_type": "code",
   "execution_count": 0,
   "metadata": {
    "cellView": "form",
    "colab": {
     "height": 0
    },
    "colab_type": "code",
    "id": "odVWa8S5K1RJ",
    "outputId": "6eeb94f2-a735-4175-b590-a0ff882491f2"
   },
   "outputs": [],
   "source": [
    "#@title parsing data\n",
    "cartpole_swingup_df = DF[DF.bsuite_env == 'cartpole_swingup'].copy()\n",
    "summary_analysis.plot_single_experiment(BSUITE_SCORE, 'cartpole_swingup', SWEEP_VARS).draw();"
   ]
  },
  {
   "cell_type": "code",
   "execution_count": 0,
   "metadata": {
    "cellView": "form",
    "colab": {
     "height": 0
    },
    "colab_type": "code",
    "id": "Gc4VSuUsK1RO",
    "outputId": "8e57da74-14f6-4190-b568-ef37b06c47c9"
   },
   "outputs": [],
   "source": [
    "#@title scaling with difficulty scale (higher + more blue is better)\n",
    "cartpole_swingup_analysis.plot_scale(cartpole_swingup_df, SWEEP_VARS).draw();"
   ]
  },
  {
   "cell_type": "markdown",
   "metadata": {
    "colab_type": "text",
    "id": "X4HWtEcIK1RT"
   },
   "source": [
    "**Parsing the plot above:**\n",
    "- For each height threshold, look at the best observed return.\n",
    "- If the observed return is greater than 500 ==> the pole was swung upright and balanced for at least 5 seconds.\n",
    "- Look for higher scores and more blue."
   ]
  },
  {
   "cell_type": "code",
   "execution_count": 0,
   "metadata": {
    "cellView": "form",
    "colab": {
     "height": 0
    },
    "colab_type": "code",
    "id": "r5HeI4rrK1RV",
    "outputId": "eeadb37b-420b-4ca2-bc84-deeaa580b911"
   },
   "outputs": [],
   "source": [
    "#@title average regret through learning (lower is better)\n",
    "cartpole_swingup_analysis.plot_learning(cartpole_swingup_df, SWEEP_VARS).draw();"
   ]
  },
  {
   "cell_type": "markdown",
   "metadata": {
    "colab_type": "text",
    "id": "Uta3sgNOK1RY"
   },
   "source": [
    "**Parsing the plot above:**\n",
    "- Learning curves of average return through time (higher is better).\n",
    "- Dashed line shows the performance of an agent that does not move = 0.\n",
    "- Look for largest difficulty_scale with performance significantly better than staying still."
   ]
  },
  {
   "cell_type": "code",
   "execution_count": 0,
   "metadata": {
    "cellView": "form",
    "colab": {
     "height": 0
    },
    "colab_type": "code",
    "id": "M3tiBC9442n1",
    "outputId": "de10ee35-48c8-42fa-ff70-b64154c86aa9"
   },
   "outputs": [],
   "source": [
    "#@title plot performance by seed (higher is better)\n",
    "cartpole_swingup_analysis.plot_seeds(cartpole_swingup_df, SWEEP_VARS).draw();"
   ]
  },
  {
   "cell_type": "markdown",
   "metadata": {
    "colab_type": "text",
    "id": "FAlAYE7oNms2"
   },
   "source": [
    "**Parsing the plot above:**\n",
    "\n",
    "- Here we can see the performance of each agent individually through time.\n",
    "- Higher scores are better, but individual runs may be noisy.\n",
    "- Use this plot to diagnose strange agent behaviour."
   ]
  },
  {
   "cell_type": "markdown",
   "metadata": {
    "colab_type": "text",
    "id": "Jpj7JjESSs_J"
   },
   "source": [
    "## Credit assignment\n",
    "\n",
    "This is a collection of domains for credit assignment."
   ]
  },
  {
   "cell_type": "markdown",
   "metadata": {
    "colab_type": "text",
    "id": "k4S-Q5B5Sysn"
   },
   "source": [
    "### Umbrella length"
   ]
  },
  {
   "cell_type": "markdown",
   "metadata": {
    "colab_type": "text",
    "id": "swsqn6tXSysr"
   },
   "source": [
    "<img src=\"https://storage.cloud.google.com/bsuite-colab-images/umbrella.png\" alt=\"umbrella diagram\" height=\"300\"/>\n",
    "\n",
    "A stylized problem designed to highlight problems to do with temporal credit assignment and scaling with time horizon.\n",
    "\n",
    "- The state observation is [need_umbrella, have_umbrella, time_to_go,] + n \"distractor\" features that are iid Bernoulli.\n",
    "- At the start of each episode the agent observes if it will need an umbrella.\n",
    "- It then has the chance to pick up an umbrella only in the first timestep.\n",
    "- At the end of the episode the agent receives a reward of +1 if it made the correct choice of umbrella, but -1 if it made the incorrect choice.\n",
    "- During chain_length intermediate steps rewards are random +1 or -1.\n",
    "\n",
    "The experiment setup:\n",
    "- Run umbrella_chain with n_distractor=20 and sweep chain_length=1..100 logarithmically spaced for 10k episodes.\n",
    "- Score is percent of tasks with average reward per episode > 0.5.\n",
    "- Must log `episode`, `total_return`, `total_regret` for standard analysis."
   ]
  },
  {
   "cell_type": "code",
   "execution_count": 0,
   "metadata": {
    "cellView": "form",
    "colab": {
     "height": 0
    },
    "colab_type": "code",
    "id": "H22CVW-gSyss",
    "outputId": "b088f208-59a1-4720-dbe9-ad43c8e93a1e"
   },
   "outputs": [],
   "source": [
    "#@title parsing data\n",
    "umbrella_length_df = DF[DF.bsuite_env == 'umbrella_length'].copy()\n",
    "summary_analysis.plot_single_experiment(BSUITE_SCORE, 'umbrella_length', SWEEP_VARS).draw();"
   ]
  },
  {
   "cell_type": "code",
   "execution_count": 0,
   "metadata": {
    "cellView": "form",
    "colab": {
     "height": 0
    },
    "colab_type": "code",
    "id": "YW9UOQTRSysw",
    "outputId": "7210f2b0-0e58-4cc7-e99d-16fa86a51d56"
   },
   "outputs": [],
   "source": [
    "#@title average regret after 10k episodes (lower is better)\n",
    "umbrella_length_analysis.plot_scale(umbrella_length_df, SWEEP_VARS).draw();"
   ]
  },
  {
   "cell_type": "markdown",
   "metadata": {
    "colab_type": "text",
    "id": "besZfRI7Sys1"
   },
   "source": [
    "**Parsing the plot above:**\n",
    "- Compute the average regret after 10k episodes for each chain_length problem scale.\n",
    "- Red dots have *not* solved the problem, blue dots made significant progress (average regret < 0.5)\n",
    "- Dashed line shows regret of a random agent = 1.0.\n",
    "- We want to see lots of blue dots with low regret for large chain_length."
   ]
  },
  {
   "cell_type": "code",
   "execution_count": 0,
   "metadata": {
    "cellView": "form",
    "colab": {
     "height": 0
    },
    "colab_type": "code",
    "id": "3STrnTWrSys2",
    "outputId": "2c7ea2f2-52a1-480a-beef-089661c3efa6"
   },
   "outputs": [],
   "source": [
    "#@title average regret through learning (lower is better)\n",
    "umbrella_length_analysis.plot_learning(umbrella_length_df, SWEEP_VARS).draw();"
   ]
  },
  {
   "cell_type": "markdown",
   "metadata": {
    "colab_type": "text",
    "id": "InmXA_iKSys5"
   },
   "source": [
    "**Parsing the plot above:**\n",
    "- Learning curves of average regret through time (lower is better).\n",
    "- Dashed line shows the performance of a random agents (regret = 1.0)\n",
    "- Look for largest chain_length with performance significantly better than random agent.\n",
    "- Curves also show dynamics through time.\n",
    "- Smoothing is performed with rolling mean over 10% of data with confidence bar at 95% Gaussian standard error."
   ]
  },
  {
   "cell_type": "code",
   "execution_count": 0,
   "metadata": {
    "cellView": "form",
    "colab": {
     "height": 0
    },
    "colab_type": "code",
    "id": "O1pSwPi-430_",
    "outputId": "8a970faa-a064-4395-b9ea-2b821034c482"
   },
   "outputs": [],
   "source": [
    "#@title plot performance by seed (higher is better)\n",
    "umbrella_length_analysis.plot_seeds(umbrella_length_df, SWEEP_VARS).draw();"
   ]
  },
  {
   "cell_type": "markdown",
   "metadata": {
    "colab_type": "text",
    "id": "u8GX_ZBxNnXe"
   },
   "source": [
    "**Parsing the plot above:**\n",
    "\n",
    "- Here we can see the performance of each agent individually through time.\n",
    "- Higher scores are better, but individual runs may be noisy.\n",
    "- Use this plot to diagnose strange agent behaviour."
   ]
  },
  {
   "cell_type": "markdown",
   "metadata": {
    "colab_type": "text",
    "id": "kDKk7PhyTEif"
   },
   "source": [
    "### Umbrella distract"
   ]
  },
  {
   "cell_type": "markdown",
   "metadata": {
    "colab_type": "text",
    "id": "2SqqFSKaTEii"
   },
   "source": [
    "<img src=\"https://storage.cloud.google.com/bsuite-colab-images/umbrella.png\" alt=\"umbrella diagram\" height=\"300\"/>\n",
    "\n",
    "\n",
    "A stylized problem designed to highlight problems to do with temporal credit assignment and scaling with time horizon.\n",
    "\n",
    "- The state observation is [need_umbrella, have_umbrella, time_to_go,] + n \"distractor\" features that are iid Bernoulli.\n",
    "- At the start of each episode the agent observes if it will need an umbrella.\n",
    "- It then has the chance to pick up an umbrella only in the first timestep.\n",
    "- At the end of the episode the agent receives a reward of +1 if it made the correct choice of umbrella, but -1 if it made the incorrect choice.\n",
    "- During chain_length intermediate steps rewards are random +1 or -1.\n",
    "\n",
    "The experiment setup:\n",
    "- Run umbrella_chain with n_distractor=20 and sweep chain_length=1..100 logarithmically spaced for 10k episodes.\n",
    "- Score is percent of tasks with average reward per episode > 0.5.\n",
    "- Must log `episode`, `total_return`, `total_regret` for standard analysis."
   ]
  },
  {
   "cell_type": "code",
   "execution_count": 0,
   "metadata": {
    "cellView": "form",
    "colab": {
     "height": 0
    },
    "colab_type": "code",
    "id": "fWP2zwM8TEij",
    "outputId": "b0cacd3f-6ff3-4d31-aa14-4629b074d22c"
   },
   "outputs": [],
   "source": [
    "#@title parsing data\n",
    "umbrella_distract_df = DF[DF.bsuite_env == 'umbrella_distract'].copy()\n",
    "summary_analysis.plot_single_experiment(BSUITE_SCORE, 'umbrella_distract', SWEEP_VARS).draw();"
   ]
  },
  {
   "cell_type": "code",
   "execution_count": 0,
   "metadata": {
    "cellView": "form",
    "colab": {
     "height": 0
    },
    "colab_type": "code",
    "id": "IiVxaDffTEim",
    "outputId": "ac8a3f28-4671-40cf-b224-251b33063c16"
   },
   "outputs": [],
   "source": [
    "#@title average regret after 10k episodes (lower is better)\n",
    "umbrella_distract_analysis.plot_scale(umbrella_distract_df, SWEEP_VARS).draw();"
   ]
  },
  {
   "cell_type": "markdown",
   "metadata": {
    "colab_type": "text",
    "id": "_xYIXBJwTEiq"
   },
   "source": [
    "**Parsing the plot above:**\n",
    "- Compute the average regret after 10k episodes for each chain_length problem scale.\n",
    "- Red dots have *not* solved the problem, blue dots made significant progress (average regret < 0.5)\n",
    "- Dashed line shows regret of a random agent = 1.0.\n",
    "- We want to see lots of blue dots with low regret for large chain_length."
   ]
  },
  {
   "cell_type": "code",
   "execution_count": 0,
   "metadata": {
    "cellView": "form",
    "colab": {
     "height": 0
    },
    "colab_type": "code",
    "id": "XZSfnKjcTEir",
    "outputId": "71adedeb-6d58-4edb-8ebc-2dc9c3969038"
   },
   "outputs": [],
   "source": [
    "#@title average regret through learning (lower is better)\n",
    "umbrella_distract_analysis.plot_learning(umbrella_distract_df, SWEEP_VARS).draw();"
   ]
  },
  {
   "cell_type": "markdown",
   "metadata": {
    "colab_type": "text",
    "id": "05vEFGn7TEiv"
   },
   "source": [
    "**Parsing the plot above:**\n",
    "- Learning curves of average regret through time (lower is better).\n",
    "- Dashed line shows the performance of a random agents (regret = 1.0)\n",
    "- Look for largest chain_length with performance significantly better than random agent.\n",
    "- Curves also show dynamics through time.\n",
    "- Smoothing is performed with rolling mean over 10% of data with confidence bar at 95% Gaussian standard error."
   ]
  },
  {
   "cell_type": "code",
   "execution_count": 0,
   "metadata": {
    "cellView": "form",
    "colab": {
     "height": 0
    },
    "colab_type": "code",
    "id": "IFvHvi5H47yH",
    "outputId": "a439afe7-6363-4282-fc6a-0268941123a7"
   },
   "outputs": [],
   "source": [
    "#@title plot performance by seed (higher is better)\n",
    "umbrella_distract_analysis.plot_seeds(umbrella_distract_df, SWEEP_VARS).draw();"
   ]
  },
  {
   "cell_type": "markdown",
   "metadata": {
    "colab_type": "text",
    "id": "TCnnE435NoHv"
   },
   "source": [
    "**Parsing the plot above:**\n",
    "\n",
    "- Here we can see the performance of each agent individually through time.\n",
    "- Higher scores are better, but individual runs may be noisy.\n",
    "- Use this plot to diagnose strange agent behaviour."
   ]
  },
  {
   "cell_type": "markdown",
   "metadata": {
    "colab_type": "text",
    "id": "5_NxfUeUUTCz"
   },
   "source": [
    "### Discounting chain"
   ]
  },
  {
   "cell_type": "markdown",
   "metadata": {
    "colab_type": "text",
    "id": "O30h3qfmUTC3"
   },
   "source": [
    "<img src=\"https://storage.cloud.google.com/bsuite-colab-images/discounting_chain.png\" alt=\"discount diagram\" height=\"300\"/>\n",
    "\n",
    "A stylized problem designed to highlight an agent's ability to correctly maximize cumulative rewards without discounting bias.\n",
    "- The only decision that actually matters is the agent's *first* of the episode, after which the agent is locked into a \"chain\" irrespective of actions.\n",
    "- Each chain gives a non-zero reward only at one step of the length-100 episode: [1, 3, 10, 30, 100] steps.\n",
    "- Each chain gives a reward of +1, except for the optimal_horizon, which gives a reward of +1.1\n",
    "- Many agents with discounting will struggle to maximize cumulative returns.\n",
    "\n",
    "The experiment setup:\n",
    "- Run each optimal_horizon [1, 3, 10, 30, 100], each with 5 seeds for 1k episodes.\n",
    "- Score is average regret * 10.\n",
    "- Must log `episode`, `total_return` for standard analysis"
   ]
  },
  {
   "cell_type": "code",
   "execution_count": 0,
   "metadata": {
    "cellView": "form",
    "colab": {
     "height": 0
    },
    "colab_type": "code",
    "id": "GpSud5k1UTC4",
    "outputId": "f7965389-50e8-4bc0-e932-fb7db9e1d7e6"
   },
   "outputs": [],
   "source": [
    "#@title parsing data\n",
    "discounting_chain_df = DF[DF.bsuite_env == 'discounting_chain'].copy()\n",
    "summary_analysis.plot_single_experiment(BSUITE_SCORE, 'discounting_chain', SWEEP_VARS).draw();"
   ]
  },
  {
   "cell_type": "code",
   "execution_count": 0,
   "metadata": {
    "cellView": "both",
    "colab": {
     "height": 0
    },
    "colab_type": "code",
    "id": "l-Qyf4CqUTC8",
    "outputId": "574b27c3-76c4-4fef-c648-e6ed5c4b20a3"
   },
   "outputs": [],
   "source": [
    "#@title average regret after 1k episodes (lower is better)\n",
    "discounting_chain_analysis.plot_average(discounting_chain_df, SWEEP_VARS).draw();"
   ]
  },
  {
   "cell_type": "markdown",
   "metadata": {
    "colab_type": "text",
    "id": "YaBqIHXQUTDD"
   },
   "source": [
    "**Parsing the plot above:**\n",
    "- Display the average regret after 10k episodes by optimal_horizon (lower is better)\n",
    "- Dashed line shows the performance of a random agents (regret = 0.8)\n",
    "- Look for largest horizon with performance significantly better than random agent."
   ]
  },
  {
   "cell_type": "code",
   "execution_count": 0,
   "metadata": {
    "cellView": "form",
    "colab": {
     "height": 0
    },
    "colab_type": "code",
    "id": "6JQbVV9dUTDE",
    "outputId": "e8fded77-861c-456e-886a-7e5ab7080851"
   },
   "outputs": [],
   "source": [
    "#@title average regret through learning (lower is better)\n",
    "discounting_chain_analysis.plot_learning(discounting_chain_df, SWEEP_VARS).draw();"
   ]
  },
  {
   "cell_type": "markdown",
   "metadata": {
    "colab_type": "text",
    "id": "QLri9ZsjUTDJ"
   },
   "source": [
    "**Parsing the plot above:**\n",
    "- Learning curves of average regret through time (lower is better).\n",
    "- Dashed line shows the performance of a random agents (regret = 0.8)\n",
    "- Look for largest horizon with performance significantly better than random agent.\n",
    "- Curves also show dynamics through time.\n",
    "- Smoothing is performed with rolling mean over 10% of data with confidence bar at 95% Gaussian standard error."
   ]
  },
  {
   "cell_type": "code",
   "execution_count": 0,
   "metadata": {
    "cellView": "form",
    "colab": {
     "height": 0
    },
    "colab_type": "code",
    "id": "11uMqmE9484R",
    "outputId": "eeb3f9c9-8f44-4cec-d279-e3c9dc01f22b"
   },
   "outputs": [],
   "source": [
    "#@title plot performance by seed (higher is better)\n",
    "discounting_chain_analysis.plot_seeds(discounting_chain_df, SWEEP_VARS).draw();"
   ]
  },
  {
   "cell_type": "markdown",
   "metadata": {
    "colab_type": "text",
    "id": "GEhg1QutNpbb"
   },
   "source": [
    "**Parsing the plot above:**\n",
    "\n",
    "- Here we can see the performance of each agent individually through time.\n",
    "- Higher scores are better, but individual runs may be noisy.\n",
    "- Use this plot to diagnose strange agent behaviour."
   ]
  },
  {
   "cell_type": "markdown",
   "metadata": {
    "colab_type": "text",
    "id": "3tACBZKzTfNS"
   },
   "source": [
    "## Memory\n",
    "\n",
    "A collection of experiments designed to test memory capabilities."
   ]
  },
  {
   "cell_type": "markdown",
   "metadata": {
    "colab_type": "text",
    "id": "F1i-6W76Tiba"
   },
   "source": [
    "### Memory length"
   ]
  },
  {
   "cell_type": "markdown",
   "metadata": {
    "colab_type": "text",
    "id": "Ajm0qATFTibe"
   },
   "source": [
    "<img src=\"https://storage.cloud.google.com/bsuite-colab-images/memory_chain.png\" alt=\"memory diagram\" height=\"300\"/>\n",
    "\n",
    "\n",
    "A stylized [T-maze](https://en.wikipedia.org/wiki/T-maze) problem designed to highlight an agent's ability to remember important information and use it to make good decisions.\n",
    "- At the beginning of the episode the agent is provided a context of +1 or -1.\n",
    "- At all future timesteps the context is equal to zero and a countdown until the end of the episode.\n",
    "- At the end of the episode the agent must select the correct action corresponding to the context to reward +1 or -1.\n",
    "\n",
    "The experiment setup:\n",
    "- Run memory sizes 1..100 logarithmically spaced.\n",
    "- Score is proportion of memory sizes with average regret < 0.5.\n",
    "- Must log `episode`, `total_return` for standard analysis"
   ]
  },
  {
   "cell_type": "code",
   "execution_count": 0,
   "metadata": {
    "cellView": "form",
    "colab": {
     "height": 0
    },
    "colab_type": "code",
    "id": "8cMpQ1AHTibf",
    "outputId": "7f8ab3d8-6030-4d6d-b05b-99325eaf208a"
   },
   "outputs": [],
   "source": [
    "#@title parsing data\n",
    "memory_len_df = DF[DF.bsuite_env == 'memory_len'].copy()\n",
    "summary_analysis.plot_single_experiment(BSUITE_SCORE, 'memory_len', SWEEP_VARS).draw();"
   ]
  },
  {
   "cell_type": "code",
   "execution_count": 0,
   "metadata": {
    "cellView": "form",
    "colab": {
     "height": 0
    },
    "colab_type": "code",
    "id": "RH8ko4YFTibi",
    "outputId": "5ffb4dc8-f5cd-49f5-ef57-8017de2bcd09"
   },
   "outputs": [],
   "source": [
    "#@title memory scaling (lower + more blue is better)\n",
    "memory_len_analysis.plot_scale(memory_len_df, SWEEP_VARS).draw();"
   ]
  },
  {
   "cell_type": "markdown",
   "metadata": {
    "colab_type": "text",
    "id": "aqTarGL-Tibm"
   },
   "source": [
    "**Parsing the plot above:**\n",
    "- Compute the average regret after 10k episodes for each memory_length problem scale.\n",
    "- Red dots have *not* solved the problem, blue dots made significant progress (average regret < 0.5)\n",
    "- Dashed line shows regret of a random agent = 1.0.\n",
    "- We want to see lots of blue dots with low regret for large memory_length."
   ]
  },
  {
   "cell_type": "code",
   "execution_count": 0,
   "metadata": {
    "cellView": "form",
    "colab": {
     "height": 0
    },
    "colab_type": "code",
    "id": "Gvee-SBNTibn",
    "outputId": "4e5432df-f896-4967-b86e-0e91f1895aa6"
   },
   "outputs": [],
   "source": [
    "#@title average regret through learning (lower is better)\n",
    "memory_len_analysis.plot_learning(memory_len_df, SWEEP_VARS).draw();"
   ]
  },
  {
   "cell_type": "markdown",
   "metadata": {
    "colab_type": "text",
    "id": "r3f55zyLTibs"
   },
   "source": [
    "**Parsing the plot above:**\n",
    "- Learning curves of average regret through time (lower is better).\n",
    "- Dashed line shows the performance of a random agents (regret = 1.0)\n",
    "- Look for largest memory_length with performance significantly better than random agent.\n",
    "- Curves also show dynamics through time.\n",
    "- Smoothing is performed with rolling mean over 10% of data with confidence bar at 95% Gaussian standard error."
   ]
  },
  {
   "cell_type": "code",
   "execution_count": 0,
   "metadata": {
    "cellView": "form",
    "colab": {
     "height": 0
    },
    "colab_type": "code",
    "id": "FTxbDm_G8-O9",
    "outputId": "c67800cf-64dd-4d35-bafa-92b8091ef3e5"
   },
   "outputs": [],
   "source": [
    "#@title plot performance by seed (higher is better)\n",
    "memory_len_analysis.plot_seeds(memory_len_df, SWEEP_VARS).draw();"
   ]
  },
  {
   "cell_type": "markdown",
   "metadata": {
    "colab_type": "text",
    "id": "FPginvBeNqju"
   },
   "source": [
    "**Parsing the plot above:**\n",
    "\n",
    "- Here we can see the performance of each agent individually through time.\n",
    "- Higher scores are better, but individual runs may be noisy.\n",
    "- Use this plot to diagnose strange agent behaviour."
   ]
  },
  {
   "cell_type": "markdown",
   "metadata": {
    "colab_type": "text",
    "id": "eWua8ocyT5eE"
   },
   "source": [
    "### Memory size)"
   ]
  },
  {
   "cell_type": "markdown",
   "metadata": {
    "colab_type": "text",
    "id": "n5EmxcwJT5eK"
   },
   "source": [
    "<img src=\"https://storage.cloud.google.com/bsuite-colab-images/memory_chain.png\" alt=\"memory diagram\" height=\"300\"/>\n",
    "\n",
    "A stylized [T-maze](https://en.wikipedia.org/wiki/T-maze) problem designed to highlight an agent's ability to remember important information and use it to make good decisions.\n",
    "- At the beginning of an episode the agent is provided an N bit context vector.\n",
    "- After a couple of steps the agent is provided a query as an integer number between `0` and `num_bits-1` and must select the correct action corresponding to `context[query]`.\n",
    "\n",
    "The experiment setup:\n",
    "- Run memory sizes 1..100 logarithmically spaced.\n",
    "- Score is proportion of memory sizes with average regret < 0.5.\n",
    "- Must log `episode`, `total_return` for standard analysis"
   ]
  },
  {
   "cell_type": "code",
   "execution_count": 0,
   "metadata": {
    "cellView": "form",
    "colab": {
     "height": 495
    },
    "colab_type": "code",
    "id": "AVTgmQufT5eM",
    "outputId": "a5e4d4f0-5bbe-4b69-d8dd-d5aa5a6af1b1"
   },
   "outputs": [],
   "source": [
    "#@title parsing data\n",
    "memory_size_df = DF[DF.bsuite_env == 'memory_size'].copy()\n",
    "summary_analysis.plot_single_experiment(BSUITE_SCORE, 'memory_size', SWEEP_VARS).draw();"
   ]
  },
  {
   "cell_type": "code",
   "execution_count": 0,
   "metadata": {
    "cellView": "form",
    "colab": {
     "height": 485
    },
    "colab_type": "code",
    "id": "6-ebdsGrT5eP",
    "outputId": "e569b4d4-c16e-4099-9042-2034242f7038"
   },
   "outputs": [],
   "source": [
    "#@title memory scaling (lower + more blue is better)\n",
    "memory_size_analysis.plot_scale(memory_size_df, SWEEP_VARS).draw();"
   ]
  },
  {
   "cell_type": "markdown",
   "metadata": {
    "colab_type": "text",
    "id": "la_nvowET5eU"
   },
   "source": [
    "**Parsing the plot above:**\n",
    "- Compute the average regret after 10k episodes for each memory_sizegth problem scale.\n",
    "- Red dots have *not* solved the problem, blue dots made significant progress (average regret < 0.5)\n",
    "- Dashed line shows regret of a random agent = 1.0.\n",
    "- We want to see lots of blue dots with low regret for large memory_sizegth."
   ]
  },
  {
   "cell_type": "code",
   "execution_count": 0,
   "metadata": {
    "cellView": "form",
    "colab": {
     "height": 655
    },
    "colab_type": "code",
    "id": "BbdlXbUGT5eV",
    "outputId": "01bc0fd4-5315-4bb5-a1e2-2fa987cd3a7a"
   },
   "outputs": [],
   "source": [
    "#@title average regret through learning (lower is better)\n",
    "memory_size_analysis.plot_learning(memory_size_df, SWEEP_VARS).draw();"
   ]
  },
  {
   "cell_type": "markdown",
   "metadata": {
    "colab_type": "text",
    "id": "FIIFRKiBT5ea"
   },
   "source": [
    "**Parsing the plot above:**\n",
    "- Learning curves of average regret through time (lower is better).\n",
    "- Dashed line shows the performance of a random agents (regret = 1.0)\n",
    "- Look for largest memory_length with performance significantly better than random agent.\n",
    "- Curves also show dynamics through time.\n",
    "- Smoothing is performed with rolling mean over 10% of data with confidence bar at 95% Gaussian standard error."
   ]
  },
  {
   "cell_type": "code",
   "execution_count": 0,
   "metadata": {
    "cellView": "form",
    "colab": {
     "height": 655
    },
    "colab_type": "code",
    "id": "-1qX20c_4_JW",
    "outputId": "5f1323b1-a9f0-41d4-c510-156057dd35a9"
   },
   "outputs": [],
   "source": [
    "#@title plot performance by seed (higher is better)\n",
    "memory_size_analysis.plot_seeds(memory_size_df, SWEEP_VARS).draw();"
   ]
  },
  {
   "cell_type": "markdown",
   "metadata": {
    "colab_type": "text",
    "id": "fNxUm-A2Nx42"
   },
   "source": [
    "**Parsing the plot above:**\n",
    "\n",
    "- Here we can see the performance of each agent individually through time.\n",
    "- Higher scores are better, but individual runs may be noisy.\n",
    "- Use this plot to diagnose strange agent behaviour."
   ]
  },
  {
   "cell_type": "markdown",
   "metadata": {
    "colab_type": "text",
    "id": "KWdGnbSPIbmd"
   },
   "source": [
    "## Exporting as PDF\n",
    "\n",
    "- Run all colab cells above in `Colaboratory`\n",
    "- Run the cell below to download a compressed `images.zip`\n",
    "- Copy `images/` in `bsuite/reports/images`\n",
    "- Run `bsuite/reports/bsuite_report.tex` to generate a summary pdf report"
   ]
  },
  {
   "cell_type": "code",
   "execution_count": 0,
   "metadata": {
    "colab": {},
    "colab_type": "code",
    "id": "VwAKOdzHfmAr"
   },
   "outputs": [],
   "source": [
    "import os\n",
    "from google.colab import files\n",
    "\n",
    "# Save images required for the reports in an `images/` folder.\n",
    "if not os.path.exists('images'):\n",
    "  os.makedirs('images')\n",
    "\n",
    "__radar_fig__.savefig('images/radar_plot.png', bbox_inches=\"tight\")\n",
    "\n",
    "# Compress folder and download\n",
    "!zip -r /images.zip /content/images > /dev/null\n",
    "try:\n",
    "  files.download(\"images.zip\")\n",
    "except:\n",
    "  pass"
   ]
  }
 ],
 "metadata": {
  "colab": {
   "collapsed_sections": [
    "ds789Mrq5LmR",
    "dwIcX62dDnNE",
    "vQmNzVbBDqZa",
    "_ypLP6DZHZc8",
    "GrTjfY11MD5E",
    "YtCu7IUwFYOY",
    "iKRx2R7DEz5R",
    "UQ010l9tFsbG",
    "SWm2u8lpFsbK",
    "XeeO3UdkHvro",
    "BhNvrDHtFsbW",
    "PvkWAhKAFsbo",
    "_OXjiYVTFsbe",
    "zCNVq9M0IEpT",
    "U5B77UDjIEpY",
    "hPlIUnPgIBb5",
    "PweN9CwBIEps",
    "-Tbhu6tKIEqG",
    "USfDNwCtIEp9",
    "tV8NnR1pJIkN",
    "NMY_PV_PJWvy",
    "Fada-WLrKDdA",
    "g_mroLiVK1RE",
    "Jpj7JjESSs_J",
    "k4S-Q5B5Sysn",
    "kDKk7PhyTEif",
    "5_NxfUeUUTCz",
    "3tACBZKzTfNS",
    "F1i-6W76Tiba",
    "eWua8ocyT5eE",
    "KWdGnbSPIbmd"
   ],
   "name": "results.ipynb",
   "toc_visible": true
  },
  "kernelspec": {
   "display_name": "Python 3",
   "name": "python3"
  }
 },
 "nbformat": 4,
 "nbformat_minor": 0
}
