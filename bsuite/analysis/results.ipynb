{
 "cells": [
  {
   "cell_type": "markdown",
   "metadata": {
    "id": "eRrAUUu-t-O2"
   },
   "source": [
    "# Behaviour suite\n",
    "\n",
    "[![Open In Colab](https://colab.research.google.com/assets/colab-badge.svg)](https://colab.research.google.com/github/deepmind/bsuite/blob/master/bsuite/analysis/results.ipynb)\n",
    "\n",
    "This is the official results page for `bsuite`. You can use this to:\n",
    "- Get a snapshot of agent performance.\n",
    "- Diagnose strengths/weaknesses of your agent.\n",
    "- Leverage ready-made plots and analysis"
   ]
  },
  {
   "cell_type": "code",
   "execution_count": 0,
   "metadata": {
    "cellView": "form",
    "id": "qXOubWdlH9C0"
   },
   "outputs": [],
   "source": [
    "#@title Imports\n",
    "\n",
    "! pip install --quiet git+git://github.com/deepmind/bsuite\n",
    "import warnings\n",
    "\n",
    "from bsuite.experiments import summary_analysis\n",
    "from bsuite.logging import csv_load\n",
    "from bsuite.logging import sqlite_load\n",
    "\n",
    "import numpy as np\n",
    "import pandas as pd\n",
    "import plotnine as gg\n",
    "\n",
    "pd.options.mode.chained_assignment = None\n",
    "gg.theme_set(gg.theme_bw(base_size=16, base_family='serif'))\n",
    "gg.theme_update(figure_size=(12, 8), panel_spacing_x=0.01, panel_spacing_y=0.01)\n",
    "warnings.filterwarnings('ignore')"
   ]
  },
  {
   "cell_type": "code",
   "execution_count": 0,
   "metadata": {
    "cellView": "form",
    "id": "ss3Gk6DzZjqO"
   },
   "outputs": [],
   "source": [
    "#@title Import experiment-specific analysis\n",
    "\n",
    "from bsuite.experiments.bandit import analysis as bandit_analysis\n",
    "from bsuite.experiments.bandit_noise import analysis as bandit_noise_analysis\n",
    "from bsuite.experiments.bandit_scale import analysis as bandit_scale_analysis\n",
    "from bsuite.experiments.cartpole import analysis as cartpole_analysis\n",
    "from bsuite.experiments.cartpole_noise import analysis as cartpole_noise_analysis\n",
    "from bsuite.experiments.cartpole_scale import analysis as cartpole_scale_analysis\n",
    "from bsuite.experiments.cartpole_swingup import analysis as cartpole_swingup_analysis\n",
    "from bsuite.experiments.catch import analysis as catch_analysis\n",
    "from bsuite.experiments.catch_noise import analysis as catch_noise_analysis\n",
    "from bsuite.experiments.catch_scale import analysis as catch_scale_analysis\n",
    "from bsuite.experiments.deep_sea import analysis as deep_sea_analysis\n",
    "from bsuite.experiments.deep_sea_stochastic import analysis as deep_sea_stochastic_analysis\n",
    "from bsuite.experiments.discounting_chain import analysis as discounting_chain_analysis\n",
    "from bsuite.experiments.memory_len import analysis as memory_len_analysis\n",
    "from bsuite.experiments.memory_size import analysis as memory_size_analysis\n",
    "from bsuite.experiments.mnist import analysis as mnist_analysis\n",
    "from bsuite.experiments.mnist_noise import analysis as mnist_noise_analysis\n",
    "from bsuite.experiments.mnist_scale import analysis as mnist_scale_analysis\n",
    "from bsuite.experiments.mountain_car import analysis as mountain_car_analysis\n",
    "from bsuite.experiments.mountain_car_noise import analysis as mountain_car_noise_analysis\n",
    "from bsuite.experiments.mountain_car_scale import analysis as mountain_car_scale_analysis\n",
    "from bsuite.experiments.umbrella_distract import analysis as umbrella_distract_analysis\n",
    "from bsuite.experiments.umbrella_length import analysis as umbrella_length_analysis\n"
   ]
  },
  {
   "cell_type": "markdown",
   "metadata": {
    "id": "gcpZiexEmjdf"
   },
   "source": [
    "##  Overall `bsuite` scores\n"
   ]
  },
  {
   "cell_type": "markdown",
   "metadata": {
    "id": "dIJBQqCDp5aP"
   },
   "source": [
    "Load your experiments below. We recommend a maximum of 5 result sets, for clarity of analysis.\n",
    "\n",
    "The input to the `load_bsuite` function is a dict that maps from an experiment name of your choosing to the result path.\n",
    "\n",
    "For an experiment that used CSV logging, this would map to the directory containing the results. For SQLite logging, this would map to the database file for that experiment."
   ]
  },
  {
   "cell_type": "code",
   "execution_count": 0,
   "metadata": {
    "cellView": "form",
    "id": "TnqNuenpr61Y"
   },
   "outputs": [],
   "source": [
    "#@title loading results from local data:\n",
    "\n",
    "experiments = {}  # Add results here\n",
    "DF, SWEEP_VARS = sqlite_load.load_bsuite(experiments)\n",
    "# Or\n",
    "# DF, SWEEP_VARS = csv_load.load_bsuite(experiments)"
   ]
  },
  {
   "cell_type": "code",
   "execution_count": 0,
   "metadata": {
    "cellView": "form",
    "colab": {
     "height": 515
    },
    "id": "plQLUbWPpUhv",
    "outputId": "28cb2b65-24fa-4405-a391-2e7c42416140"
   },
   "outputs": [],
   "source": [
    "#@title overall score as radar plot (double-click to show/hide code)\n",
    "BSUITE_SCORE = summary_analysis.bsuite_score(DF, SWEEP_VARS)\n",
    "BSUITE_SUMMARY = summary_analysis.ave_score_by_tag(BSUITE_SCORE, SWEEP_VARS)\n",
    "__radar_fig__ = summary_analysis.bsuite_radar_plot(BSUITE_SUMMARY, SWEEP_VARS)"
   ]
  },
  {
   "cell_type": "markdown",
   "metadata": {
    "id": "5ANabuXdFAFS"
   },
   "source": [
    "**Parsing the plot above:**\n",
    "\n",
    "- Snapshot of agent behaviour across key metrics as measured by bsuite.\n",
    "- Length of each \"spoke\" represents score between 0 and 1.\n",
    "- For more detailed analysis, click into specific challenge domains."
   ]
  },
  {
   "cell_type": "markdown",
   "metadata": {
    "id": "ds789Mrq5LmR"
   },
   "source": [
    "### Plotting scores per challenge in bar plot (click to show)"
   ]
  },
  {
   "cell_type": "code",
   "execution_count": 0,
   "metadata": {
    "cellView": "form",
    "colab": {
     "height": 953
    },
    "id": "8VGZIvfGtZ4m",
    "outputId": "e4c7db07-258e-4e81-c2fa-7da95ee7b49b"
   },
   "outputs": [],
   "source": [
    "#@title plotting overall score as bar (double-click to show/hide code)\n",
    "summary_analysis.bsuite_bar_plot(BSUITE_SCORE, SWEEP_VARS).draw()"
   ]
  },
  {
   "cell_type": "markdown",
   "metadata": {
    "id": "QsUzPzmrG208"
   },
   "source": [
    "**Parsing the plot above:**\n",
    "\n",
    "- Height of each bar is the score on each challenge domain.\n",
    "- Partially-finished runs are shown with transparent bars.\n",
    "- Parameter/agent sweeps are automatically [faceted](http://www.sthda.com/english/wiki/ggplot2-facet-split-a-plot-into-a-matrix-of-panels) side by side.\n",
    "- For more detailed analysis, click into specific challenge domains."
   ]
  },
  {
   "cell_type": "code",
   "execution_count": 0,
   "metadata": {
    "cellView": "form",
    "colab": {
     "height": 1000
    },
    "id": "iR-J9iZWPDNW",
    "outputId": "0d1cc8a5-1138-4ea7-85b8-86a2a2539abc"
   },
   "outputs": [],
   "source": [
    "#@title compare agent performance on each challenge (double-click to show/hide code)\n",
    "summary_analysis.bsuite_bar_plot_compare(BSUITE_SCORE, SWEEP_VARS).draw()"
   ]
  },
  {
   "cell_type": "markdown",
   "metadata": {
    "id": "nJcxdHc9Ps7k"
   },
   "source": [
    "**Parsing the plot above:**\n",
    "\n",
    "- Height of each bar is the score on each challenge domain.\n",
    "- Partially-finished runs are shown with transparent bars.\n",
    "- Each \"facet\" focuses on a separate environment.\n",
    "- This plot allows for easier comparison between agents.\n",
    "- For more detailed analysis, click into specific challenge domains."
   ]
  },
  {
   "cell_type": "markdown",
   "metadata": {
    "id": "iaa0FgSoMu3T"
   },
   "source": [
    "# Individual challenge domains\n",
    "\n",
    "This section of the report contains specific analysis for each individual `bsuite` experiment."
   ]
  },
  {
   "cell_type": "markdown",
   "metadata": {
    "id": "dwIcX62dDnNE"
   },
   "source": [
    "## Basic\n",
    "\n",
    "\n",
    "We begin with a collection of very simple decision problems with standard analysis:\n",
    "- Does the agent learn a reasonable rewarding policy?\n",
    "- How quickly do they learn simple tasks?\n",
    "\n",
    "We call these experiments \"basic\", since they are not particularly targeted at specific core issues.\n"
   ]
  },
  {
   "cell_type": "markdown",
   "metadata": {
    "id": "vQmNzVbBDqZa"
   },
   "source": [
    "### Bandit\n",
    "\n"
   ]
  },
  {
   "cell_type": "markdown",
   "metadata": {
    "id": "fjweihnXblOP"
   },
   "source": [
    "\n",
    "<img src=\"https://storage.cloud.google.com/bsuite-colab-images/bandit.png\" alt=\"bandit diagram\" height=\"300\"/>\n",
    "\n",
    "\n",
    "A simple independent-armed bandit problem.\n",
    "\n",
    "- The agent is faced with 11 actions with deterministic rewards [0.0, 0.1, .., 1.0] randomly assigned.\n",
    "- Run over 20 seeds for 10k episodes.\n",
    "- Score is 1 - 2 * average_regret at 10k episodes.\n",
    "- Must log `episode`, `total_regret` for standard analysis.\n",
    "\n",
    "\n",
    "\n"
   ]
  },
  {
   "cell_type": "code",
   "execution_count": 0,
   "metadata": {
    "cellView": "form",
    "colab": {
     "height": 466
    },
    "id": "h5um7tOPDpju",
    "outputId": "aad4da8a-5410-4255-9ff1-b692bc8a13b8"
   },
   "outputs": [],
   "source": [
    "#@title parsing data\n",
    "bandit_df = DF[DF.bsuite_env == 'bandit'].copy()\n",
    "summary_analysis.plot_single_experiment(BSUITE_SCORE, 'bandit', SWEEP_VARS).draw()"
   ]
  },
  {
   "cell_type": "code",
   "execution_count": 0,
   "metadata": {
    "cellView": "form",
    "colab": {
     "height": 737
    },
    "id": "j583NAoLD5nD",
    "outputId": "1493ff94-1f93-4cc4-c307-ada08b2f40ff"
   },
   "outputs": [],
   "source": [
    "#@title plot average regret through learning (lower is better)\n",
    "bandit_analysis.plot_learning(bandit_df, SWEEP_VARS).draw()"
   ]
  },
  {
   "cell_type": "markdown",
   "metadata": {
    "id": "asfed9wuEbO7"
   },
   "source": [
    "**Parsing the plot above:**\n",
    "\n",
    "- Here we can see the performance of the agent averaged over 20 seeds.\n",
    "- Random policy has reward of 0  = regret of 0.5 = dashed line\n",
    "- Want to see a stable learning curve -> 0 and fast!\n",
    "- Smoothing is performed with rolling mean over 10% of data with confidence bar at 95% Gaussian standard error.\n"
   ]
  },
  {
   "cell_type": "code",
   "execution_count": 0,
   "metadata": {
    "cellView": "form",
    "colab": {
     "height": 737
    },
    "id": "t600GCEj1qCu",
    "outputId": "57a875f3-d65c-4d29-965e-12b70887a6f9"
   },
   "outputs": [],
   "source": [
    "#@title plot performance by seed (higher is better)\n",
    "bandit_analysis.plot_seeds(bandit_df, SWEEP_VARS).draw()"
   ]
  },
  {
   "cell_type": "markdown",
   "metadata": {
    "id": "_ypLP6DZHZc8"
   },
   "source": [
    "### MNIST\n",
    "\n"
   ]
  },
  {
   "cell_type": "markdown",
   "metadata": {
    "id": "woT2ar_fbjy3"
   },
   "source": [
    "\n",
    "<img src=\"https://storage.cloud.google.com/bsuite-colab-images/mnist.png\" alt=\"mnist diagram\" height=\"300\"/>\n",
    "\n",
    "The \"hello world\" of deep learning, now as a contextual bandit.\n",
    "\n",
    "- Every timestep the agent must classify a random MNIST digit.\n",
    "- Reward +1 for correct, -1 for incorrect.\n",
    "- Run for 10k episodes, 20 seeds.\n",
    "- Score is percentage of successful classifications.\n",
    "- Must log `episode`, `total_regret` for standard analysis."
   ]
  },
  {
   "cell_type": "code",
   "execution_count": 0,
   "metadata": {
    "cellView": "form",
    "colab": {
     "height": 466
    },
    "id": "77KttSBsHZc-",
    "outputId": "ad307765-669a-479f-c8cf-5b718acd97b2"
   },
   "outputs": [],
   "source": [
    "#@title parsing data\n",
    "mnist_df = DF[DF.bsuite_env == 'mnist'].copy()\n",
    "summary_analysis.plot_single_experiment(BSUITE_SCORE, 'mnist', SWEEP_VARS).draw()"
   ]
  },
  {
   "cell_type": "code",
   "execution_count": 0,
   "metadata": {
    "cellView": "form",
    "colab": {
     "height": 737
    },
    "id": "dxjKHqPaHZdB",
    "outputId": "cd92fa0d-217f-449d-a3b9-39ba89dd4f38"
   },
   "outputs": [],
   "source": [
    "#@title plot average regret through learning (lower is better)\n",
    "mnist_analysis.plot_learning(mnist_df, SWEEP_VARS).draw()"
   ]
  },
  {
   "cell_type": "markdown",
   "metadata": {
    "id": "gMAtScV4HZdH"
   },
   "source": [
    "**Parsing the plot above:**\n",
    "\n",
    "- Here we can see the performance of the agent averaged over 20 seeds.\n",
    "- Random policy has reward of 0  = regret of 1.8 = dashed line\n",
    "- Want to see a stable learning curve -> 0 and fast!\n",
    "- Smoothing is performed with rolling mean over 10% of data with confidence bar at 95% Gaussian standard error.\n"
   ]
  },
  {
   "cell_type": "code",
   "execution_count": 0,
   "metadata": {
    "cellView": "form",
    "colab": {
     "height": 737
    },
    "id": "zmCi_x8F4jCt",
    "outputId": "fdabe5f3-1471-4f18-f8a0-f4932db1ba8c"
   },
   "outputs": [],
   "source": [
    "#@title plot performance by seed (higher is better)\n",
    "mnist_analysis.plot_seeds(mnist_df, SWEEP_VARS).draw()"
   ]
  },
  {
   "cell_type": "markdown",
   "metadata": {
    "id": "QWtMyhFpNYC9"
   },
   "source": [
    "**Parsing the plot above:**\n",
    "\n",
    "- Here we can see the performance of each agent individually through time.\n",
    "- Higher scores are better, but individual runs may be noisy.\n",
    "- Use this plot to diagnose strange agent behaviour."
   ]
  },
  {
   "cell_type": "markdown",
   "metadata": {
    "id": "GrTjfY11MD5E"
   },
   "source": [
    "### Catch"
   ]
  },
  {
   "cell_type": "markdown",
   "metadata": {
    "id": "7MOVEQunM9QB"
   },
   "source": [
    "<img src=\"https://storage.cloud.google.com/bsuite-colab-images/catch.png\" alt=\"catch diagram\" height=\"300\"/>\n",
    "\n",
    "\n",
    "DeepMind's internal \"hello world\" for RL agents.\n",
    "\n",
    "- The environment is a 5x10 grid with a single falling block per episodes (similar to Tetris).\n",
    "- The agent controls a single \"paddle\" pixel that it should use to \"catch\" the falling block.\n",
    "- If the agent catches the block reward +1, if the agent misses the block reward -1.\n",
    "-   Run the agent for 10k episodes and 20 seeds.\n",
    "-   Score is percentage of successful \"catch\" over first 10k episodes.\n",
    "-   Must log `episode`, `total_regret` for standard analysis.\n",
    "\n"
   ]
  },
  {
   "cell_type": "code",
   "execution_count": 0,
   "metadata": {
    "cellView": "form",
    "id": "54UwF1sONICb",
    "outputId": "8b234bf1-b0de-43d1-bb05-3786c0b2a99b"
   },
   "outputs": [],
   "source": [
    "#@title parsing data\n",
    "catch_df = DF[DF.bsuite_env == 'catch'].copy()\n",
    "summary_analysis.plot_single_experiment(BSUITE_SCORE, 'catch', SWEEP_VARS).draw()"
   ]
  },
  {
   "cell_type": "code",
   "execution_count": 0,
   "metadata": {
    "cellView": "form",
    "id": "54hwhFHSreCS",
    "outputId": "cc0f16d5-e0e3-4c20-f07b-c1079a593bb2"
   },
   "outputs": [],
   "source": [
    "#@title plot average regret through learning (lower is better)\n",
    "catch_analysis.plot_learning(catch_df, SWEEP_VARS).draw()"
   ]
  },
  {
   "cell_type": "markdown",
   "metadata": {
    "id": "kjnlywacKyWk"
   },
   "source": [
    "**Parsing the plot above:**\n",
    "\n",
    "- Here we can see the performance of the agent averaged over 20 seeds.\n",
    "- Random policy has reward of 0  = regret of 1.6 = dashed line\n",
    "- Want to see a stable learning curve -> 0 and fast!\n",
    "- Smoothing is performed with rolling mean over 10% of data with confidence bar at 95% Gaussian standard error.\n"
   ]
  },
  {
   "cell_type": "code",
   "execution_count": 0,
   "metadata": {
    "cellView": "form",
    "id": "m-F2cCPb4kNa",
    "outputId": "db5d2421-81d2-4ae5-8edd-d09efac75645"
   },
   "outputs": [],
   "source": [
    "#@title plot performance by seed (higher is better)\n",
    "catch_analysis.plot_seeds(catch_df, SWEEP_VARS).draw()"
   ]
  },
  {
   "cell_type": "markdown",
   "metadata": {
    "id": "sVZ3SfqYNY5H"
   },
   "source": [
    "**Parsing the plot above:**\n",
    "\n",
    "- Here we can see the performance of each agent individually through time.\n",
    "- Higher scores are better, but individual runs may be noisy.\n",
    "- Use this plot to diagnose strange agent behaviour."
   ]
  },
  {
   "cell_type": "markdown",
   "metadata": {
    "id": "YtCu7IUwFYOY"
   },
   "source": [
    "### Mountain car"
   ]
  },
  {
   "cell_type": "markdown",
   "metadata": {
    "id": "twcWpU2hb4XT"
   },
   "source": [
    "<img src=\"https://storage.cloud.google.com/bsuite-colab-images/mountain_car.png\" alt=\"mountaincar diagram\" height=\"300\"/>\n",
    "\n",
    "A classic benchmark problem in RL.\n",
    "The agent controls an underpowered car and must drive it out of a valley.\n",
    "\n",
    "- Reward of -1 each step until the car reaches the goal.\n",
    "- Maximum episode length of 1000 steps.\n",
    "- Run 1000 episodes for 20 seeds.\n",
    "- Score is based on regret against \"good\" policy that solves in 25 steps.\n",
    "- Must log `episode`, `total_regret` for standard analysis.\n"
   ]
  },
  {
   "cell_type": "code",
   "execution_count": 0,
   "metadata": {
    "cellView": "form",
    "id": "10AxDzgmFYOa",
    "outputId": "e64b7667-5ff3-47f9-ec98-ac65359fbce1"
   },
   "outputs": [],
   "source": [
    "#@title parsing data\n",
    "mountain_car_df = DF[DF.bsuite_env == 'mountain_car'].copy()\n",
    "summary_analysis.plot_single_experiment(BSUITE_SCORE, 'mountain_car', SWEEP_VARS).draw()"
   ]
  },
  {
   "cell_type": "code",
   "execution_count": 0,
   "metadata": {
    "cellView": "form",
    "id": "PCiai_7_FYOe",
    "outputId": "8d1460f4-a171-4670-df66-60c5b3dea3b2"
   },
   "outputs": [],
   "source": [
    "#@title plot average regret through learning (lower is better)\n",
    "mountain_car_analysis.plot_learning(mountain_car_df, SWEEP_VARS).draw()"
   ]
  },
  {
   "cell_type": "markdown",
   "metadata": {
    "id": "mLE9dhuPclv5"
   },
   "source": [
    "**Parsing the plot above:**\n",
    "\n",
    "- Here we can see the performance of the agent averaged over 20 seeds.\n",
    "- Dashed line is at 415 = average regret of a random agent.\n",
    "- Want to see a stable learning curve -> 0 and fast!\n",
    "- Smoothing is performed with rolling mean over 10% of data with confidence bar at 95% Gaussian standard error."
   ]
  },
  {
   "cell_type": "code",
   "execution_count": 0,
   "metadata": {
    "cellView": "form",
    "id": "UotK4LDa4m62",
    "outputId": "c766f524-b994-4305-a97c-eb7536d5c79d"
   },
   "outputs": [],
   "source": [
    "#@title plot performance by seed (higher is better)\n",
    "mountain_car_analysis.plot_seeds(mountain_car_df, SWEEP_VARS).draw()"
   ]
  },
  {
   "cell_type": "markdown",
   "metadata": {
    "id": "ZpvpbLikNRRG"
   },
   "source": [
    "**Parsing the plot above:**\n",
    "\n",
    "- Here we can see the performance of each agent individually through time.\n",
    "- Higher scores are better, but individual runs may be noisy.\n",
    "- Use this plot to diagnose strange agent behaviour."
   ]
  },
  {
   "cell_type": "markdown",
   "metadata": {
    "id": "iKRx2R7DEz5R"
   },
   "source": [
    "### Cartpole\n",
    "\n"
   ]
  },
  {
   "cell_type": "markdown",
   "metadata": {
    "id": "XJkGob4ebrRj"
   },
   "source": [
    "\n",
    "<img src=\"https://storage.cloud.google.com/bsuite-colab-images/cartpole.png\" alt=\"cartpole diagram\" height=\"300\"/>\n",
    "\n",
    "A classic benchmark problem in RL.\n",
    "The agent controls a cart on a frictionless plane.\n",
    "\n",
    "- The poles starts near-to upright.\n",
    "- The observation is [x, x_dot, sin(theta), sin(theta)_dot, cos(theta), cos(theta)_dot, time_elapsed]\n",
    "- Episodes end once 1000 steps have occured, or |x| is greater than 1.\n",
    "- Reward of +1 when pole > 0.8 height.\n",
    "- Run 1000 episodes for 20 seeds.\n",
    "- Score is percentage of timesteps balancing the pole.\n",
    "- Must log `episode`, `total_regret` for standard analysis.\n"
   ]
  },
  {
   "cell_type": "code",
   "execution_count": 0,
   "metadata": {
    "cellView": "form",
    "id": "1UFLKInrEz5X",
    "outputId": "edd347a3-2109-4a08-c6cf-4420a7d2ea5b"
   },
   "outputs": [],
   "source": [
    "#@title parsing data\n",
    "cartpole_df = DF[DF.bsuite_env == 'cartpole'].copy()\n",
    "summary_analysis.plot_single_experiment(BSUITE_SCORE, 'cartpole', SWEEP_VARS).draw()"
   ]
  },
  {
   "cell_type": "code",
   "execution_count": 0,
   "metadata": {
    "cellView": "form",
    "id": "CeR8Vgf-Ez5b",
    "outputId": "317b3ce2-4626-40a5-8361-f5dd97358870"
   },
   "outputs": [],
   "source": [
    "#@title plot average regret through learning (lower is better)\n",
    "cartpole_analysis.plot_learning(cartpole_df, SWEEP_VARS).draw()"
   ]
  },
  {
   "cell_type": "markdown",
   "metadata": {
    "id": "UO1GwYM5ZiSI"
   },
   "source": [
    "**Parsing the plot above:**\n",
    "\n",
    "- Here we can see the performance of the agent averaged over 20 seeds.\n",
    "- Maximum regret of 1000 per episode = dashed line\n",
    "- Want to see a stable learning curve -> 0 and fast!\n",
    "- Smoothing is performed with rolling mean over 10% of data with confidence bar at 95% Gaussian standard error."
   ]
  },
  {
   "cell_type": "code",
   "execution_count": 0,
   "metadata": {
    "cellView": "form",
    "id": "0vWWVcYR4lNZ",
    "outputId": "7690c433-8d3a-4a45-c9e7-dafd4d016cfa"
   },
   "outputs": [],
   "source": [
    "#@title plot performance by seed (higher is better)\n",
    "cartpole_analysis.plot_seeds(cartpole_df, SWEEP_VARS).draw()"
   ]
  },
  {
   "cell_type": "markdown",
   "metadata": {
    "id": "jZuGijZZNBNU"
   },
   "source": [
    "**Parsing the plot above:**\n",
    "\n",
    "- Here we can see the performance of each agent individually through time.\n",
    "- Higher scores are better, but individual runs may be noisy.\n",
    "- Use this plot to diagnose strange agent behaviour."
   ]
  },
  {
   "cell_type": "markdown",
   "metadata": {
    "id": "UQ010l9tFsbG"
   },
   "source": [
    "## Reward noise\n",
    "\n",
    "To investigate the robustness of RL agents to noisy rewards, we repeat the \"basic\" experiments under differing levels of Gaussian noise.\n",
    "\n",
    "This time we allocate the 20 different seeds across 5 levels of Gaussian noise $N(0, \\sigma^2)$ for $\\sigma$ = noise\\_scale = $[0.1, 0.3, 1, 3, 10]$ with 4 seeds each."
   ]
  },
  {
   "cell_type": "markdown",
   "metadata": {
    "id": "SWm2u8lpFsbK"
   },
   "source": [
    "### Bandit noise"
   ]
  },
  {
   "cell_type": "markdown",
   "metadata": {
    "id": "o27LKuR0d-Bh"
   },
   "source": [
    "<img src=\"https://storage.cloud.google.com/bsuite-colab-images/bandit.png\" alt=\"bandit diagram\" height=\"300\"/>\n",
    "\n",
    "\n",
    "A simple independent-armed bandit problem.\n",
    "\n",
    "- The agent is faced with 11 actions with deterministic rewards [0.0, 0.1, .., 1.0] randomly assigned.\n",
    "- Run noise_scale = [0.1, 0.3, 1., 3, 10] for 4 seeds for 10k episodes.\n",
    "- Score is 1 - 2 * average_regret at 10k episodes.\n",
    "- Must log `episode`, `total_regret` for standard analysis.\n"
   ]
  },
  {
   "cell_type": "code",
   "execution_count": 0,
   "metadata": {
    "cellView": "form",
    "id": "NAU9QFGGFsbL",
    "outputId": "26a7b5fd-c5da-43b9-d47c-29b705cffc65"
   },
   "outputs": [],
   "source": [
    "#@title parsing data\n",
    "bandit_noise_df = DF[DF.bsuite_env == 'bandit_noise'].copy()\n",
    "summary_analysis.plot_single_experiment(BSUITE_SCORE, 'bandit_noise', SWEEP_VARS).draw()"
   ]
  },
  {
   "cell_type": "code",
   "execution_count": 0,
   "metadata": {
    "cellView": "form",
    "id": "cKrEMGjlFsbP",
    "outputId": "2eccb65d-ad6c-4a8e-e88c-9dbd244f808c"
   },
   "outputs": [],
   "source": [
    "#@title average regret over learning (lower is better)\n",
    "bandit_noise_analysis.plot_average(bandit_noise_df, SWEEP_VARS).draw()"
   ]
  },
  {
   "cell_type": "markdown",
   "metadata": {
    "id": "szaUeRc4ed6Q"
   },
   "source": [
    "**Parsing the plot above:**\n",
    "- Display the average regret after 10k episodes by noise_scale (lower is better)\n",
    "- Dashed line shows the performance of a random agents.\n",
    "- Look for largest noise_scale with performance significantly better than random agent."
   ]
  },
  {
   "cell_type": "code",
   "execution_count": 0,
   "metadata": {
    "cellView": "form",
    "id": "6fS80_PNF96e",
    "outputId": "ac462941-f06a-4b4f-aff5-640e954be0b1"
   },
   "outputs": [],
   "source": [
    "#@title average regret through learning (lower is better)\n",
    "bandit_noise_analysis.plot_learning(bandit_noise_df, SWEEP_VARS).draw()"
   ]
  },
  {
   "cell_type": "markdown",
   "metadata": {
    "id": "DWHHIRkhejPZ"
   },
   "source": [
    "**Parsing the plot above:**\n",
    "- Display the average regret after 10k episodes by noise_scale (lower is better)\n",
    "- Dashed line shows the performance of a random agent baseline.\n",
    "- Look for largest noise_scale with performance significantly better than baseline."
   ]
  },
  {
   "cell_type": "code",
   "execution_count": 0,
   "metadata": {
    "cellView": "form",
    "id": "9a89RWjd4n4I",
    "outputId": "6b33cfd5-7ac4-4e15-873f-f7ddb924b043"
   },
   "outputs": [],
   "source": [
    "#@title plot performance by seed (higher is better)\n",
    "bandit_noise_analysis.plot_seeds(bandit_noise_df, SWEEP_VARS).draw()"
   ]
  },
  {
   "cell_type": "markdown",
   "metadata": {
    "id": "bvbUja5cNbA_"
   },
   "source": [
    "**Parsing the plot above:**\n",
    "\n",
    "- Here we can see the performance of each agent individually through time.\n",
    "- Higher scores are better, but individual runs may be noisy.\n",
    "- Use this plot to diagnose strange agent behaviour."
   ]
  },
  {
   "cell_type": "markdown",
   "metadata": {
    "id": "XeeO3UdkHvro"
   },
   "source": [
    "### MNIST noise"
   ]
  },
  {
   "cell_type": "markdown",
   "metadata": {
    "id": "KQU-bBpCeMXS"
   },
   "source": [
    "\n",
    "<img src=\"https://storage.cloud.google.com/bsuite-colab-images/mnist.png\" alt=\"mnist diagram\" height=\"300\"/>\n",
    "\n",
    "The \"hello world\" of deep learning, now as a contextual bandit.\n",
    "\n",
    "- Every timestep the agent must classify a random MNIST digit.\n",
    "- Reward +1 for correct, -1 for incorrect.\n",
    "- Run noise_scale = [0.1, 0.3, 1., 3, 10] for 4 seeds for 10k episodes.\n",
    "- Score is percentage of successful classifications.\n",
    "- Must log `episode`, `total_regret` for standard analysis."
   ]
  },
  {
   "cell_type": "code",
   "execution_count": 0,
   "metadata": {
    "cellView": "form",
    "id": "3gHxu0e4Hvrp",
    "outputId": "1cc9ca55-e946-403d-fb44-524fc167f752"
   },
   "outputs": [],
   "source": [
    "#@title parsing data\n",
    "mnist_noise_df = DF[DF.bsuite_env == 'mnist_noise'].copy()\n",
    "summary_analysis.plot_single_experiment(BSUITE_SCORE, 'mnist_noise', SWEEP_VARS).draw()"
   ]
  },
  {
   "cell_type": "code",
   "execution_count": 0,
   "metadata": {
    "cellView": "form",
    "id": "HsNrBsl3Hvrx",
    "outputId": "299410da-63aa-4f80-a6ab-c713d3c1e700"
   },
   "outputs": [],
   "source": [
    "#@title average regret over learning (lower is better)\n",
    "mnist_noise_analysis.plot_average(mnist_noise_df, SWEEP_VARS).draw()"
   ]
  },
  {
   "cell_type": "markdown",
   "metadata": {
    "id": "m_q0mBBvfgq6"
   },
   "source": [
    "**Parsing the plot above:**\n",
    "- Display the average regret after 10k episodes by noise_scale (lower is better)\n",
    "- Dashed line shows the performance of a random agents.\n",
    "- Look for largest noise_scale with performance significantly better than random agent."
   ]
  },
  {
   "cell_type": "code",
   "execution_count": 0,
   "metadata": {
    "cellView": "form",
    "id": "6vKxHHfGHvr4",
    "outputId": "ead7f3b7-805e-4f92-aaab-54a28207a5c2"
   },
   "outputs": [],
   "source": [
    "#@title average regret through learning (lower is better)\n",
    "mnist_noise_analysis.plot_learning(mnist_noise_df, SWEEP_VARS).draw()"
   ]
  },
  {
   "cell_type": "markdown",
   "metadata": {
    "id": "gFquOp8YfenD"
   },
   "source": [
    "**Parsing the plot above:**\n",
    "- Display the average regret after 10k episodes by noise_scale (lower is better)\n",
    "- Dashed line shows the performance of a random agent baseline.\n",
    "- Look for largest noise_scale with performance significantly better than baseline."
   ]
  },
  {
   "cell_type": "code",
   "execution_count": 0,
   "metadata": {
    "cellView": "form",
    "id": "H_wJ_oLq4o5K"
   },
   "outputs": [],
   "source": [
    "#@title plot performance by seed (higher is better)\n",
    "mnist_noise_analysis.plot_seeds(mnist_noise_df, SWEEP_VARS).draw;"
   ]
  },
  {
   "cell_type": "markdown",
   "metadata": {
    "id": "Ft77N63zNcKf"
   },
   "source": [
    "**Parsing the plot above:**\n",
    "\n",
    "- Here we can see the performance of each agent individually through time.\n",
    "- Higher scores are better, but individual runs may be noisy.\n",
    "- Use this plot to diagnose strange agent behaviour."
   ]
  },
  {
   "cell_type": "markdown",
   "metadata": {
    "id": "BhNvrDHtFsbW"
   },
   "source": [
    "### Catch noise"
   ]
  },
  {
   "cell_type": "markdown",
   "metadata": {
    "id": "cuwO8ePyfnMF"
   },
   "source": [
    "<img src=\"https://storage.cloud.google.com/bsuite-colab-images/catch.png\" alt=\"catch diagram\" height=\"300\"/>\n",
    "\n",
    "\n",
    "DeepMind's internal \"hello world\" for RL agents.\n",
    "\n",
    "- The environment is a 5x10 grid with a single falling block per episodes (similar to Tetris).\n",
    "- The agent controls a single \"paddle\" pixel that it should use to \"catch\" the falling block.\n",
    "- If the agent catches the block reward +1, if the agent misses the block reward -1.\n",
    "- Run noise_scale = [0.1, 0.3, 1., 3, 10] for 4 seeds for 10k episodes.\n",
    "-   Score is percentage of successful \"catch\" over first 10k episodes.\n",
    "-   Must log `episode`, `total_regret` for standard analysis.\n",
    "\n"
   ]
  },
  {
   "cell_type": "code",
   "execution_count": 0,
   "metadata": {
    "cellView": "form",
    "id": "PfrF58GRFsbX",
    "outputId": "8faa05cb-bf5a-4783-99d5-cde5a58e4e00"
   },
   "outputs": [],
   "source": [
    "#@title parsing data\n",
    "catch_noise_df = DF[DF.bsuite_env == 'catch_noise'].copy()\n",
    "summary_analysis.plot_single_experiment(BSUITE_SCORE, 'catch_noise', SWEEP_VARS).draw()"
   ]
  },
  {
   "cell_type": "code",
   "execution_count": 0,
   "metadata": {
    "cellView": "form",
    "id": "QIHLMrZBFsba",
    "outputId": "81a45e01-bbff-439b-f349-08a4ee4dbcd8"
   },
   "outputs": [],
   "source": [
    "#@title average regret over learning (lower is better)\n",
    "catch_noise_analysis.plot_average(catch_noise_df, SWEEP_VARS).draw()"
   ]
  },
  {
   "cell_type": "markdown",
   "metadata": {
    "id": "KQne2I0TgIQN"
   },
   "source": [
    "**Parsing the plot above:**\n",
    "- Display the average regret after 10k episodes by noise_scale (lower is better)\n",
    "- Dashed line shows the performance of a random agents.\n",
    "- Look for largest noise_scale with performance significantly better than random agent."
   ]
  },
  {
   "cell_type": "code",
   "execution_count": 0,
   "metadata": {
    "cellView": "form",
    "id": "ChxlGZ3MGf9n",
    "outputId": "f4641642-6bf1-439d-9c72-bbbfcb4e8ffb"
   },
   "outputs": [],
   "source": [
    "#@title average regret through learning (lower is better)\n",
    "catch_noise_analysis.plot_learning(catch_noise_df, SWEEP_VARS).draw()"
   ]
  },
  {
   "cell_type": "markdown",
   "metadata": {
    "id": "ZTYufA6_gLA6"
   },
   "source": [
    "**Parsing the plot above:**\n",
    "- Display the average regret after 10k episodes by noise_scale (lower is better)\n",
    "- Dashed line shows the performance of a random agent baseline.\n",
    "- Look for largest noise_scale with performance significantly better than baseline."
   ]
  },
  {
   "cell_type": "code",
   "execution_count": 0,
   "metadata": {
    "cellView": "form",
    "id": "_zT9y1NA4poe",
    "outputId": "23160b08-f4f5-4b04-b3fe-621c2a6af5c6"
   },
   "outputs": [],
   "source": [
    "#@title plot performance by seed (higher is better)\n",
    "catch_noise_analysis.plot_seeds(catch_noise_df, SWEEP_VARS).draw()"
   ]
  },
  {
   "cell_type": "markdown",
   "metadata": {
    "id": "wQ15ZnVgNc6n"
   },
   "source": [
    "**Parsing the plot above:**\n",
    "\n",
    "- Here we can see the performance of each agent individually through time.\n",
    "- Higher scores are better, but individual runs may be noisy.\n",
    "- Use this plot to diagnose strange agent behaviour."
   ]
  },
  {
   "cell_type": "markdown",
   "metadata": {
    "id": "PvkWAhKAFsbo"
   },
   "source": [
    "### Mountain car noise"
   ]
  },
  {
   "cell_type": "markdown",
   "metadata": {
    "id": "U3I25hMAf-5i"
   },
   "source": [
    "<img src=\"https://storage.cloud.google.com/bsuite-colab-images/mountain_car.png\" alt=\"mountaincar diagram\" height=\"300\"/>\n",
    "\n",
    "A classic benchmark problem in RL.\n",
    "The agent controls an underpowered car and must drive it out of a valley.\n",
    "\n",
    "- Reward of -1 each step until the car reaches the goal.\n",
    "- Maximum episode length of 1000 steps.\n",
    "- Run noise_scale = [0.1, 0.3, 1., 3, 10] for 4 seeds for 1k episodes.\n",
    "- Score is based on regret against \"good\" policy that solves in 25 steps.\n",
    "- Must log `episode`, `total_regret` for standard analysis.\n"
   ]
  },
  {
   "cell_type": "code",
   "execution_count": 0,
   "metadata": {
    "cellView": "form",
    "id": "_5AaZZRhFsbo",
    "outputId": "327afd2c-486d-480d-ab04-254edf26d878"
   },
   "outputs": [],
   "source": [
    "#@title parsing data\n",
    "mountain_car_noise_df = DF[DF.bsuite_env == 'mountain_car_noise'].copy()\n",
    "summary_analysis.plot_single_experiment(BSUITE_SCORE, 'mountain_car_noise', SWEEP_VARS).draw()"
   ]
  },
  {
   "cell_type": "code",
   "execution_count": 0,
   "metadata": {
    "cellView": "form",
    "id": "LCBxH1IJFsbu",
    "outputId": "d5ebb2ff-b8c7-4ac4-bd4e-b9143426673a"
   },
   "outputs": [],
   "source": [
    "#@title average regret over learning (lower is better)\n",
    "mountain_car_noise_analysis.plot_average(mountain_car_noise_df, SWEEP_VARS).draw()"
   ]
  },
  {
   "cell_type": "markdown",
   "metadata": {
    "id": "l2f9gSdNgOay"
   },
   "source": [
    "**Parsing the plot above:**\n",
    "- Display the average regret after 10k episodes by noise_scale (lower is better)\n",
    "- Dashed line shows the performance of a random agents.\n",
    "- Look for largest noise_scale with performance significantly better than random agent."
   ]
  },
  {
   "cell_type": "code",
   "execution_count": 0,
   "metadata": {
    "cellView": "form",
    "id": "DDXxo_9vH1u9",
    "outputId": "1b1a0315-ecf2-42f0-8b65-8377e048af7b"
   },
   "outputs": [],
   "source": [
    "#@title average regret through learning (lower is better)\n",
    "mountain_car_noise_analysis.plot_learning(mountain_car_noise_df, SWEEP_VARS).draw()"
   ]
  },
  {
   "cell_type": "markdown",
   "metadata": {
    "id": "cm_g7R2cgM7D"
   },
   "source": [
    "**Parsing the plot above:**\n",
    "- Display the average regret after 10k episodes by noise_scale (lower is better)\n",
    "- Dashed line shows the performance of a random agent baseline.\n",
    "- Look for largest noise_scale with performance significantly better than baseline."
   ]
  },
  {
   "cell_type": "code",
   "execution_count": 0,
   "metadata": {
    "cellView": "form",
    "id": "uWCJrwHK4tKb",
    "outputId": "c2120dc7-e59e-486b-e043-b6aa62d74182"
   },
   "outputs": [],
   "source": [
    "#@title plot performance by seed (higher is better)\n",
    "mountain_car_noise_analysis.plot_seeds(mountain_car_noise_df, SWEEP_VARS).draw()"
   ]
  },
  {
   "cell_type": "markdown",
   "metadata": {
    "id": "atMZdJBQNfNy"
   },
   "source": [
    "**Parsing the plot above:**\n",
    "\n",
    "- Here we can see the performance of each agent individually through time.\n",
    "- Higher scores are better, but individual runs may be noisy.\n",
    "- Use this plot to diagnose strange agent behaviour."
   ]
  },
  {
   "cell_type": "markdown",
   "metadata": {
    "id": "_OXjiYVTFsbe"
   },
   "source": [
    "### Cartpole noise"
   ]
  },
  {
   "cell_type": "markdown",
   "metadata": {
    "id": "zGPI8tqyf7E-"
   },
   "source": [
    "\n",
    "<img src=\"https://storage.cloud.google.com/bsuite-colab-images/cartpole.png\" alt=\"cartpole diagram\" height=\"300\"/>\n",
    "\n",
    "A classic benchmark problem in RL.\n",
    "The agent controls a cart on a frictionless plane.\n",
    "\n",
    "- The poles starts near-to upright.\n",
    "- The observation is [x, x_dot, sin(theta), sin(theta)_dot, cos(theta), cos(theta)_dot, time_elapsed]\n",
    "- Episodes end once 1000 steps have occured, or |x| is greater than 1.\n",
    "- Reward of +1 when pole > 0.8 height.\n",
    "- Run noise_scale = [0.1, 0.3, 1., 3, 10] for 4 seeds for 1k episodes.\n",
    "- Score is percentage of timesteps balancing the pole.\n",
    "- Must log `episode`, `total_regret` for standard analysis.\n"
   ]
  },
  {
   "cell_type": "code",
   "execution_count": 0,
   "metadata": {
    "cellView": "form",
    "id": "wJpb89yUFsbf",
    "outputId": "c34421ab-36a3-4e0b-f968-301ddc021ed4"
   },
   "outputs": [],
   "source": [
    "#@title parsing  data\n",
    "cartpole_noise_df = DF[DF.bsuite_env == 'cartpole_noise'].copy()\n",
    "summary_analysis.plot_single_experiment(BSUITE_SCORE, 'cartpole_noise', SWEEP_VARS).draw()"
   ]
  },
  {
   "cell_type": "code",
   "execution_count": 0,
   "metadata": {
    "cellView": "form",
    "id": "asG7gr5_Fsbi",
    "outputId": "8bc2f073-0e2e-440b-f220-393f63072408"
   },
   "outputs": [],
   "source": [
    "#@title average regret over learning (lower is better)\n",
    "cartpole_noise_analysis.plot_average(cartpole_noise_df, SWEEP_VARS).draw()"
   ]
  },
  {
   "cell_type": "markdown",
   "metadata": {
    "id": "wPOUkkq1gJBS"
   },
   "source": [
    "**Parsing the plot above:**\n",
    "- Display the average regret after 10k episodes by noise_scale (lower is better)\n",
    "- Dashed line shows the performance of a random agents.\n",
    "- Look for largest noise_scale with performance significantly better than random agent."
   ]
  },
  {
   "cell_type": "code",
   "execution_count": 0,
   "metadata": {
    "cellView": "form",
    "id": "kZrjk8WSHqUm",
    "outputId": "1e72c4ce-99e0-4103-ddcb-28a457917bc1"
   },
   "outputs": [],
   "source": [
    "#@title average regret through learning (lower is better)\n",
    "cartpole_noise_analysis.plot_learning(cartpole_noise_df, SWEEP_VARS).draw()"
   ]
  },
  {
   "cell_type": "markdown",
   "metadata": {
    "id": "vRa8iMYJgMCx"
   },
   "source": [
    "**Parsing the plot above:**\n",
    "- Display the average regret after 10k episodes by noise_scale (lower is better)\n",
    "- Dashed line shows the performance of a random agent baseline.\n",
    "- Look for largest noise_scale with performance significantly better than baseline."
   ]
  },
  {
   "cell_type": "code",
   "execution_count": 0,
   "metadata": {
    "cellView": "form",
    "id": "vBEKq2zq4qh5",
    "outputId": "d9984220-1793-4662-c4ae-522e4e1be77b"
   },
   "outputs": [],
   "source": [
    "#@title plot performance by seed (higher is better)\n",
    "cartpole_noise_analysis.plot_seeds(cartpole_noise_df, SWEEP_VARS).draw()"
   ]
  },
  {
   "cell_type": "markdown",
   "metadata": {
    "id": "ZXAVj3SrNd6P"
   },
   "source": [
    "**Parsing the plot above:**\n",
    "\n",
    "- Here we can see the performance of each agent individually through time.\n",
    "- Higher scores are better, but individual runs may be noisy.\n",
    "- Use this plot to diagnose strange agent behaviour."
   ]
  },
  {
   "cell_type": "markdown",
   "metadata": {
    "id": "zCNVq9M0IEpT"
   },
   "source": [
    "## Reward scale\n",
    "\n",
    "To investigate the robustness of RL agents to reward rewards, we repeat the \"basic\" experiments under differing levels of problem rescaling.\n",
    "\n",
    "This time we allocate the 20 different seeds across 5 levels of reward\\_scale = $[0.1, 0.3, 1, 3, 10]$ with 4 seeds each.\n",
    "\n",
    "In order to keep comparable statistics/regret we report rescaled regret/reward\\_scale."
   ]
  },
  {
   "cell_type": "markdown",
   "metadata": {
    "id": "U5B77UDjIEpY"
   },
   "source": [
    "### Bandit scale"
   ]
  },
  {
   "cell_type": "markdown",
   "metadata": {
    "id": "JscWOhKOiA60"
   },
   "source": [
    "<img src=\"https://storage.cloud.google.com/bsuite-colab-images/bandit.png\" alt=\"bandit diagram\" height=\"300\"/>\n",
    "\n",
    "\n",
    "A simple independent-armed bandit problem.\n",
    "\n",
    "- The agent is faced with 11 actions with deterministic rewards [0.0, 0.1, .., 1.0] randomly assigned.\n",
    "- Run reward_scale = [0.01, 0.1, 1., 10, 100] for 4 seeds for 10k episodes.\n",
    "- Score is 1 - 2 * average_regret at 10k episodes.\n",
    "- Must log `episode`, `total_regret` for standard analysis.\n"
   ]
  },
  {
   "cell_type": "code",
   "execution_count": 0,
   "metadata": {
    "cellView": "form",
    "id": "XgOuCckcIEpb",
    "outputId": "928785d2-0c4d-41ee-fef3-ebce3c32f1b2"
   },
   "outputs": [],
   "source": [
    "#@title parsing data\n",
    "bandit_scale_df = DF[DF.bsuite_env == 'bandit_scale'].copy()\n",
    "summary_analysis.plot_single_experiment(BSUITE_SCORE, 'bandit_scale', SWEEP_VARS).draw()"
   ]
  },
  {
   "cell_type": "code",
   "execution_count": 0,
   "metadata": {
    "cellView": "form",
    "id": "3vR6CvD8IEpd",
    "outputId": "31a2c2a1-134f-4b83-b669-b5f5fe3ed38b"
   },
   "outputs": [],
   "source": [
    "#@title average regret over learning (lower is better)\n",
    "bandit_scale_analysis.plot_average(bandit_scale_df, SWEEP_VARS).draw()"
   ]
  },
  {
   "cell_type": "markdown",
   "metadata": {
    "id": "dNHc7dECukLF"
   },
   "source": [
    "**Parsing the plot above:**\n",
    "- Display the average regret after 10k episodes by reward_scale (lower is better)\n",
    "- Dashed line shows the performance of a random agents.\n",
    "- Look for reward_scale with performance significantly better than random agent."
   ]
  },
  {
   "cell_type": "code",
   "execution_count": 0,
   "metadata": {
    "cellView": "form",
    "id": "_qkiiY16IEpi",
    "outputId": "f8f33fd9-0bf6-4a4d-efb5-be8e3c144ef6"
   },
   "outputs": [],
   "source": [
    "#@title average regret through learning (lower is better)\n",
    "bandit_scale_analysis.plot_learning(bandit_scale_df, SWEEP_VARS).draw()"
   ]
  },
  {
   "cell_type": "markdown",
   "metadata": {
    "id": "4gd87xYWuvLa"
   },
   "source": [
    "**Parsing the plot above:**\n",
    "- Display the average regret after 10k episodes by reward_scale (lower is better)\n",
    "- Dashed line shows the performance of a random agent baseline.\n",
    "- Look for reward_scale with performance significantly better than baseline."
   ]
  },
  {
   "cell_type": "code",
   "execution_count": 0,
   "metadata": {
    "cellView": "form",
    "id": "hUTzD5tj4vZq",
    "outputId": "a5309358-dd86-428a-8179-ca507887fcef"
   },
   "outputs": [],
   "source": [
    "#@title plot performance by seed (higher is better)\n",
    "bandit_scale_analysis.plot_seeds(bandit_scale_df, SWEEP_VARS).draw()"
   ]
  },
  {
   "cell_type": "markdown",
   "metadata": {
    "id": "22rddkYVNf8f"
   },
   "source": [
    "**Parsing the plot above:**\n",
    "\n",
    "- Here we can see the performance of each agent individually through time.\n",
    "- Higher scores are better, but individual runs may be noisy.\n",
    "- Use this plot to diagnose strange agent behaviour."
   ]
  },
  {
   "cell_type": "markdown",
   "metadata": {
    "id": "hPlIUnPgIBb5"
   },
   "source": [
    "### MNIST scale"
   ]
  },
  {
   "cell_type": "markdown",
   "metadata": {
    "id": "Xo6uxj7iiGSL"
   },
   "source": [
    "\n",
    "<img src=\"https://storage.cloud.google.com/bsuite-colab-images/mnist.png\" alt=\"mnist diagram\" height=\"300\"/>\n",
    "\n",
    "The \"hello world\" of deep learning, now as a contextual bandit.\n",
    "\n",
    "- Every timestep the agent must classify a random MNIST digit.\n",
    "- Reward +1 for correct, -1 for incorrect.\n",
    "- Run reward_scale = [0.01, 0.1, 1., 10, 100] for 4 seeds for 10k episodes.\n",
    "- Score is percentage of successful classifications.\n",
    "- Must log `episode`, `total_regret` for standard analysis."
   ]
  },
  {
   "cell_type": "code",
   "execution_count": 0,
   "metadata": {
    "cellView": "form",
    "id": "KUp30dhSIBb6",
    "outputId": "c3f3d806-344c-41a3-e5a4-fb81f9357a7b"
   },
   "outputs": [],
   "source": [
    "#@title parsing data\n",
    "mnist_scale_df = DF[DF.bsuite_env == 'mnist_scale'].copy()\n",
    "summary_analysis.plot_single_experiment(BSUITE_SCORE, 'mnist_scale', SWEEP_VARS).draw()"
   ]
  },
  {
   "cell_type": "code",
   "execution_count": 0,
   "metadata": {
    "cellView": "form",
    "id": "opeE-AlYIBb8",
    "outputId": "50a79b25-9f45-4dce-9b79-1bdc25d37991"
   },
   "outputs": [],
   "source": [
    "#@title average regret over learning (lower is better)\n",
    "mnist_scale_analysis.plot_average(mnist_scale_df, SWEEP_VARS).draw()"
   ]
  },
  {
   "cell_type": "markdown",
   "metadata": {
    "id": "vpeAlsxluomy"
   },
   "source": [
    "**Parsing the plot above:**\n",
    "- Display the average regret after 10k episodes by reward_scale (lower is better)\n",
    "- Dashed line shows the performance of a random agents.\n",
    "- Look for reward_scale with performance significantly better than random agent."
   ]
  },
  {
   "cell_type": "code",
   "execution_count": 0,
   "metadata": {
    "cellView": "form",
    "id": "QoJe7269IBcA",
    "outputId": "aa744e50-c67a-4d7b-ac2d-5805b218d5ba"
   },
   "outputs": [],
   "source": [
    "#@title average regret through learning (lower is better)\n",
    "mnist_scale_analysis.plot_learning(mnist_scale_df, SWEEP_VARS).draw()"
   ]
  },
  {
   "cell_type": "markdown",
   "metadata": {
    "id": "nTCeZEkTuy9q"
   },
   "source": [
    "**Parsing the plot above:**\n",
    "- Display the average regret after 10k episodes by reward_scale (lower is better)\n",
    "- Dashed line shows the performance of a random agent baseline.\n",
    "- Look for reward_scale with performance significantly better than baseline."
   ]
  },
  {
   "cell_type": "code",
   "execution_count": 0,
   "metadata": {
    "cellView": "form",
    "id": "G-KfqyMQ4wEa",
    "outputId": "70440158-b30b-4e7f-956d-8cead220bbf2"
   },
   "outputs": [],
   "source": [
    "#@title plot performance by seed (higher is better)\n",
    "mnist_scale_analysis.plot_seeds(mnist_scale_df, SWEEP_VARS).draw()"
   ]
  },
  {
   "cell_type": "markdown",
   "metadata": {
    "id": "BM9Dde95Ngwn"
   },
   "source": [
    "**Parsing the plot above:**\n",
    "\n",
    "- Here we can see the performance of each agent individually through time.\n",
    "- Higher scores are better, but individual runs may be noisy.\n",
    "- Use this plot to diagnose strange agent behaviour."
   ]
  },
  {
   "cell_type": "markdown",
   "metadata": {
    "id": "PweN9CwBIEps"
   },
   "source": [
    "### Catch scale"
   ]
  },
  {
   "cell_type": "markdown",
   "metadata": {
    "id": "xv0kzFFGiLnL"
   },
   "source": [
    "<img src=\"https://storage.cloud.google.com/bsuite-colab-images/catch.png\" alt=\"catch diagram\" height=\"300\"/>\n",
    "\n",
    "\n",
    "DeepMind's internal \"hello world\" for RL agents.\n",
    "\n",
    "- The environment is a 5x10 grid with a single falling block per episodes (similar to Tetris).\n",
    "- The agent controls a single \"paddle\" pixel that it should use to \"catch\" the falling block.\n",
    "- If the agent catches the block reward +1, if the agent misses the block reward -1.\n",
    "- Run reward_scale = [0.01, 0.1, 1., 10, 100] for 4 seeds for 10k episodes.\n",
    "-   Score is percentage of successful \"catch\" over first 10k episodes.\n",
    "-   Must log `episode`, `total_regret` for standard analysis.\n",
    "\n"
   ]
  },
  {
   "cell_type": "code",
   "execution_count": 0,
   "metadata": {
    "cellView": "form",
    "id": "C03JJqYkIEpv",
    "outputId": "6770bb91-d71f-4bc5-d788-438643fba8c0"
   },
   "outputs": [],
   "source": [
    "#@title parsing data\n",
    "catch_scale_df = DF[DF.bsuite_env == 'catch_scale'].copy()\n",
    "summary_analysis.plot_single_experiment(BSUITE_SCORE, 'catch_scale', SWEEP_VARS).draw()"
   ]
  },
  {
   "cell_type": "code",
   "execution_count": 0,
   "metadata": {
    "cellView": "form",
    "id": "d_vt5a__IEpz",
    "outputId": "6b69dee8-0e9d-4089-e457-ab86392ceb02"
   },
   "outputs": [],
   "source": [
    "#@title average regret over learning (lower is better)\n",
    "catch_scale_analysis.plot_average(catch_scale_df, SWEEP_VARS).draw()"
   ]
  },
  {
   "cell_type": "markdown",
   "metadata": {
    "id": "FMf_UvCFupuv"
   },
   "source": [
    "**Parsing the plot above:**\n",
    "- Display the average regret after 10k episodes by reward_scale (lower is better)\n",
    "- Dashed line shows the performance of a random agents.\n",
    "- Look for reward_scale with performance significantly better than random agent."
   ]
  },
  {
   "cell_type": "code",
   "execution_count": 0,
   "metadata": {
    "cellView": "form",
    "id": "VSXonpvuIEp5",
    "outputId": "b17ab32c-8e26-4212-bc89-64132489e8e7"
   },
   "outputs": [],
   "source": [
    "#@title average regret through learning (lower is better)\n",
    "catch_scale_analysis.plot_learning(catch_scale_df, SWEEP_VARS).draw()"
   ]
  },
  {
   "cell_type": "markdown",
   "metadata": {
    "id": "tyE8auVluzqa"
   },
   "source": [
    "**Parsing the plot above:**\n",
    "- Display the average regret after 10k episodes by reward_scale (lower is better)\n",
    "- Dashed line shows the performance of a random agent baseline.\n",
    "- Look for reward_scale with performance significantly better than baseline."
   ]
  },
  {
   "cell_type": "code",
   "execution_count": 0,
   "metadata": {
    "cellView": "form",
    "id": "Q0CtosBw4wwx",
    "outputId": "c36d7e51-9f69-4ee8-ab72-4eff7a7a0e42"
   },
   "outputs": [],
   "source": [
    "#@title plot performance by seed (higher is better)\n",
    "catch_scale_analysis.plot_seeds(catch_scale_df, SWEEP_VARS).draw()"
   ]
  },
  {
   "cell_type": "markdown",
   "metadata": {
    "id": "DG5P82d-NhoP"
   },
   "source": [
    "**Parsing the plot above:**\n",
    "\n",
    "- Here we can see the performance of each agent individually through time.\n",
    "- Higher scores are better, but individual runs may be noisy.\n",
    "- Use this plot to diagnose strange agent behaviour."
   ]
  },
  {
   "cell_type": "markdown",
   "metadata": {
    "id": "-Tbhu6tKIEqG"
   },
   "source": [
    "### Mountain car scale"
   ]
  },
  {
   "cell_type": "markdown",
   "metadata": {
    "id": "0reSPxfYiVNL"
   },
   "source": [
    "<img src=\"https://storage.cloud.google.com/bsuite-colab-images/mountain_car.png\" alt=\"mountaincar diagram\" height=\"300\"/>\n",
    "\n",
    "A classic benchmark problem in RL.\n",
    "The agent controls an underpowered car and must drive it out of a valley.\n",
    "\n",
    "- Reward of -1 each step until the car reaches the goal.\n",
    "- Maximum episode length of 1000 steps.\n",
    "- Run reward_scale = [0.01, 0.1, 1., 10, 100] for 4 seeds for 1k episodes.\n",
    "- Score is based on regret against \"good\" policy that solves in 25 steps.\n",
    "- Must log `episode`, `total_regret` for standard analysis.\n"
   ]
  },
  {
   "cell_type": "code",
   "execution_count": 0,
   "metadata": {
    "cellView": "form",
    "id": "xtDJON_4IEqH",
    "outputId": "e6cb272f-5614-4700-c7a3-c1b03d5660ec"
   },
   "outputs": [],
   "source": [
    "#@title parsing data\n",
    "mountain_car_scale_df = DF[DF.bsuite_env == 'mountain_car_scale'].copy()\n",
    "summary_analysis.plot_single_experiment(BSUITE_SCORE, 'mountain_car_scale', SWEEP_VARS).draw()"
   ]
  },
  {
   "cell_type": "code",
   "execution_count": 0,
   "metadata": {
    "cellView": "form",
    "id": "-EfiYNQhIEqI",
    "outputId": "35b8efcd-661f-450f-b9c1-749519a7c381"
   },
   "outputs": [],
   "source": [
    "#@title average regret over learning (lower is better)\n",
    "mountain_car_scale_analysis.plot_average(mountain_car_scale_df, SWEEP_VARS).draw()"
   ]
  },
  {
   "cell_type": "markdown",
   "metadata": {
    "id": "_WtMKupHurkM"
   },
   "source": [
    "**Parsing the plot above:**\n",
    "- Display the average regret after 10k episodes by reward_scale (lower is better)\n",
    "- Dashed line shows the performance of a random agents.\n",
    "- Look for reward_scale with performance significantly better than random agent."
   ]
  },
  {
   "cell_type": "code",
   "execution_count": 0,
   "metadata": {
    "cellView": "form",
    "id": "bZMxcgQkIEqL",
    "outputId": "807af75f-dec8-44ec-e7ec-92b579f6f32a"
   },
   "outputs": [],
   "source": [
    "#@title average regret through learning (lower is better)\n",
    "mountain_car_scale_analysis.plot_learning(mountain_car_scale_df, SWEEP_VARS).draw()"
   ]
  },
  {
   "cell_type": "markdown",
   "metadata": {
    "id": "ZfIb7ZNnu1UK"
   },
   "source": [
    "**Parsing the plot above:**\n",
    "- Display the average regret after 10k episodes by reward_scale (lower is better)\n",
    "- Dashed line shows the performance of a random agent baseline.\n",
    "- Look for reward_scale with performance significantly better than baseline."
   ]
  },
  {
   "cell_type": "code",
   "execution_count": 0,
   "metadata": {
    "cellView": "form",
    "id": "HzzdOtA_4yXu",
    "outputId": "030cabb1-b849-4490-8933-862d69899fc1"
   },
   "outputs": [],
   "source": [
    "#@title plot performance by seed (higher is better)\n",
    "mountain_car_scale_analysis.plot_seeds(mountain_car_scale_df, SWEEP_VARS).draw()"
   ]
  },
  {
   "cell_type": "markdown",
   "metadata": {
    "id": "NcQJaFUBNjQe"
   },
   "source": [
    "**Parsing the plot above:**\n",
    "\n",
    "- Here we can see the performance of each agent individually through time.\n",
    "- Higher scores are better, but individual runs may be noisy.\n",
    "- Use this plot to diagnose strange agent behaviour."
   ]
  },
  {
   "cell_type": "markdown",
   "metadata": {
    "id": "USfDNwCtIEp9"
   },
   "source": [
    "### Cartpole scale"
   ]
  },
  {
   "cell_type": "markdown",
   "metadata": {
    "id": "F0LcbVm3iSM6"
   },
   "source": [
    "\n",
    "<img src=\"https://storage.cloud.google.com/bsuite-colab-images/cartpole.png\" alt=\"cartpole diagram\" height=\"300\"/>\n",
    "\n",
    "A classic benchmark problem in RL.\n",
    "The agent controls a cart on a frictionless plane.\n",
    "\n",
    "- The poles starts near-to upright.\n",
    "- The observation is [x, x_dot, sin(theta), sin(theta)_dot, cos(theta), cos(theta)_dot, time_elapsed]\n",
    "- Episodes end once 1000 steps have occured, or |x| is greater than 1.\n",
    "- Reward of +1 when pole > 0.8 height.\n",
    "- Run reward_scale = [0.01, 0.1, 1., 10, 100] for 4 seeds for 1k episodes.\n",
    "- Score is percentage of timesteps balancing the pole.\n",
    "- Must log `episode`, `total_regret` for standard analysis.\n"
   ]
  },
  {
   "cell_type": "code",
   "execution_count": 0,
   "metadata": {
    "cellView": "form",
    "id": "mfSO4Q4gIEp-",
    "outputId": "47f2864d-534e-4421-acbc-f694a2db1b2e"
   },
   "outputs": [],
   "source": [
    "#@title parsing data\n",
    "cartpole_scale_df = DF[DF.bsuite_env == 'cartpole_scale'].copy()\n",
    "summary_analysis.plot_single_experiment(BSUITE_SCORE, 'cartpole_scale', SWEEP_VARS).draw()"
   ]
  },
  {
   "cell_type": "code",
   "execution_count": 0,
   "metadata": {
    "cellView": "form",
    "id": "gdZXo0QwIEqB",
    "outputId": "e04d82f6-3198-4467-edad-100a4623ff6c"
   },
   "outputs": [],
   "source": [
    "#@title average regret over learning (lower is better)\n",
    "cartpole_scale_analysis.plot_average(cartpole_scale_df, SWEEP_VARS).draw()"
   ]
  },
  {
   "cell_type": "markdown",
   "metadata": {
    "id": "rbV2q1snuqdy"
   },
   "source": [
    "**Parsing the plot above:**\n",
    "- Display the average regret after 10k episodes by reward_scale (lower is better)\n",
    "- Dashed line shows the performance of a random agents.\n",
    "- Look for reward_scale with performance significantly better than random agent."
   ]
  },
  {
   "cell_type": "code",
   "execution_count": 0,
   "metadata": {
    "cellView": "form",
    "id": "eFZ2_koZIEqE",
    "outputId": "4b29fba6-c2fd-4931-903b-d1715bc086e5"
   },
   "outputs": [],
   "source": [
    "#@title average regret through learning (lower is better)\n",
    "cartpole_scale_analysis.plot_learning(cartpole_scale_df, SWEEP_VARS).draw()"
   ]
  },
  {
   "cell_type": "markdown",
   "metadata": {
    "id": "TOBg2c5Ku0Xq"
   },
   "source": [
    "**Parsing the plot above:**\n",
    "- Display the average regret after 10k episodes by reward_scale (lower is better)\n",
    "- Dashed line shows the performance of a random agent baseline.\n",
    "- Look for reward_scale with performance significantly better than baseline."
   ]
  },
  {
   "cell_type": "code",
   "execution_count": 0,
   "metadata": {
    "cellView": "form",
    "id": "fyTcpBud4xlP",
    "outputId": "2d8a13d2-3757-404d-86c9-0dc33d59c3ca"
   },
   "outputs": [],
   "source": [
    "#@title plot performance by seed (higher is better)\n",
    "cartpole_scale_analysis.plot_seeds(cartpole_scale_df, SWEEP_VARS).draw()"
   ]
  },
  {
   "cell_type": "markdown",
   "metadata": {
    "id": "nawk_01lNifm"
   },
   "source": [
    "**Parsing the plot above:**\n",
    "\n",
    "- Here we can see the performance of each agent individually through time.\n",
    "- Higher scores are better, but individual runs may be noisy.\n",
    "- Use this plot to diagnose strange agent behaviour."
   ]
  },
  {
   "cell_type": "markdown",
   "metadata": {
    "id": "tV8NnR1pJIkN"
   },
   "source": [
    "## Exploration\n",
    "\n",
    "Exploration is the problem of prioritizing useful information for learning."
   ]
  },
  {
   "cell_type": "markdown",
   "metadata": {
    "id": "NMY_PV_PJWvy"
   },
   "source": [
    "### Deep sea\n",
    "\n"
   ]
  },
  {
   "cell_type": "markdown",
   "metadata": {
    "id": "2G2dMRuhJWvz"
   },
   "source": [
    "<img src=\"https://storage.cloud.google.com/bsuite-colab-images/deep_sea.png\" alt=\"deep sea diagram\" height=\"300\"/>\n",
    "\n",
    "Scalable chain domains that test for\n",
    "[deep exploration](https://arxiv.org/abs/1703.07608).\n",
    "\n",
    "The environment is an N x N grid with falling blocks similar to catch. However\n",
    "the block always starts in the top left. In each timestep, the agent can move\n",
    "the block \"left\" or \"right\". At each timestep, there is a small cost for moving\n",
    "\"right\" and no cost for moving \"left\". However, the agent can receive a large\n",
    "reward for choosing \"right\" N-times in a row and reaching the bottom right. This\n",
    "is the single rewarding policy, all other policies receive zero or negative\n",
    "return making this a very difficult exploration problem.\n",
    "\n",
    "-   Run deep_sea sizes N=5,6,7,..,50 for at least 10k episodes.\n",
    "-   Score is the percentage of N for which average regret < 0.9 faster than 2^N.\n",
    "-   Must log `episode`, `total_return` for standard analysis."
   ]
  },
  {
   "cell_type": "code",
   "execution_count": 0,
   "metadata": {
    "cellView": "form",
    "colab": {
     "height": 466
    },
    "id": "BIAMOfnzJWv0",
    "outputId": "bfb90ed9-e19e-4124-8a74-3e25d1a587f6"
   },
   "outputs": [],
   "source": [
    "#@title parsing data\n",
    "deep_sea_df = DF[DF.bsuite_env == 'deep_sea'].copy()\n",
    "deep_sea_plt = deep_sea_analysis.find_solution(deep_sea_df, SWEEP_VARS)\n",
    "summary_analysis.plot_single_experiment(BSUITE_SCORE, 'deep_sea', SWEEP_VARS).draw()"
   ]
  },
  {
   "cell_type": "code",
   "execution_count": 0,
   "metadata": {
    "cellView": "form",
    "colab": {
     "height": 593
    },
    "id": "0Scr29pYJWv3",
    "outputId": "e2e57ecf-f8ce-40a5-dcdc-78e93a0b97d8"
   },
   "outputs": [],
   "source": [
    "#@title average regret by size through learning (lower is better)\n",
    "deep_sea_analysis.plot_regret(deep_sea_df, SWEEP_VARS).draw()"
   ]
  },
  {
   "cell_type": "markdown",
   "metadata": {
    "id": "JNt8bTBkJWv9"
   },
   "source": [
    "**Parsing the plot above:**\n",
    "- Learning curves of average regret through time (lower is better).\n",
    "- Dashed line shows the performance of suboptimal \"greedy\" algorithm\n",
    "- Look for largest size with performance significantly better than greedy agent.\n",
    "- Curves also show dynamics through time."
   ]
  },
  {
   "cell_type": "code",
   "execution_count": 0,
   "metadata": {
    "cellView": "form",
    "colab": {
     "height": 593
    },
    "id": "aGZnDiV_JWv-",
    "outputId": "58420ef2-8870-4523-9911-d4d3647495b7"
   },
   "outputs": [],
   "source": [
    "#@title scaling of learning time with deep_sea size (lower + more blue is better)\n",
    "deep_sea_analysis.plot_scaling(deep_sea_plt, SWEEP_VARS).draw()"
   ]
  },
  {
   "cell_type": "markdown",
   "metadata": {
    "id": "XRTs5_yxJWwC"
   },
   "source": [
    "**Parsing the plot above:**\n",
    "- Compute the number of episodes until the average regret < 0.9 for each problem size.\n",
    "- Red dots have *not* solved the problem, but have simply performed only that many episodes.\n",
    "- Dashed line shows curve 2^N, which is the scaling we expect for agents without deep exploration.\n",
    "- Want to see consistent curve of blue dots signficantly *below* the dashed line -> deep exploration."
   ]
  },
  {
   "cell_type": "code",
   "execution_count": 0,
   "metadata": {
    "cellView": "form",
    "colab": {
     "height": 593
    },
    "id": "L5SYqq4IJWwD",
    "outputId": "fc37d950-d762-4ba8-fa4d-ef4443465746"
   },
   "outputs": [],
   "source": [
    "#@title scaling of learning time with deep_sea size on log scale (lower + more blue is better)\n",
    "deep_sea_analysis.plot_scaling_log(deep_sea_plt, SWEEP_VARS).draw()"
   ]
  },
  {
   "cell_type": "markdown",
   "metadata": {
    "id": "mCMKo6h0JWwG"
   },
   "source": [
    "**Parsing the plot above:**\n",
    "- Plots exactly the same data as above, but on a logarithmic scale.\n",
    "- If we see polynomial scaling -> this should result in a linear relationship between log(learning time) and log(size).\n",
    "- Want to see consistent line of blue dots significantly below the dashed line -> deep exploration."
   ]
  },
  {
   "cell_type": "code",
   "execution_count": 0,
   "metadata": {
    "cellView": "form",
    "colab": {
     "height": 737
    },
    "id": "DtoFkEw9IzjO",
    "outputId": "f103a7f0-3e22-4487-f500-7f9a5fee9828"
   },
   "outputs": [],
   "source": [
    "#@title plot performance by seed (higher is better)\n",
    "deep_sea_analysis.plot_seeds(deep_sea_df, SWEEP_VARS).draw()"
   ]
  },
  {
   "cell_type": "markdown",
   "metadata": {
    "id": "2kHPsxo-NkUP"
   },
   "source": [
    "**Parsing the plot above:**\n",
    "\n",
    "- Here we can see the performance of each agent individually through time.\n",
    "- Higher scores are better, but individual runs may be noisy.\n",
    "- Use this plot to diagnose strange agent behaviour."
   ]
  },
  {
   "cell_type": "markdown",
   "metadata": {
    "id": "Fada-WLrKDdA"
   },
   "source": [
    "### Stochastic deep sea\n",
    "\n"
   ]
  },
  {
   "cell_type": "markdown",
   "metadata": {
    "id": "80Ih3cX4KDdD"
   },
   "source": [
    "<img src=\"https://storage.cloud.google.com/bsuite-colab-images/deep_sea.png\" alt=\"deep sea stochastic diagram\" height=\"300\"/>\n",
    "\n",
    "Scalable chain domains that test for\n",
    "[deep exploration](https://arxiv.org/abs/1703.07608).\n",
    "\n",
    "The environment is an N x N grid with falling blocks similar to catch. However\n",
    "the block always starts in the top left. In each timestep, the agent can move\n",
    "the block \"left\" or \"right\". At each timestep, there is a small cost for moving\n",
    "\"right\" and no cost for moving \"left\". However, the agent can receive a large\n",
    "reward for choosing \"right\" N-times in a row and reaching the bottom right. This\n",
    "is the single rewarding policy, all other policies receive zero or negative\n",
    "return making this a very difficult exploration problem.\n",
    "\n",
    "The stochastic version of this domain only transitions to the right with\n",
    "probability (1 - 1/N) and adds N(0,1) noise to the 'end' states of the chain.\n",
    "\n",
    "-   Run deep_sea sizes N=5,6,7,..,50 for at least 10k episodes.\n",
    "-   Score is the percentage of N for which average regret < 0.9 faster than 2^N.\n",
    "-   Must log `episode`, `total_return` for standard analysis."
   ]
  },
  {
   "cell_type": "code",
   "execution_count": 0,
   "metadata": {
    "cellView": "form",
    "id": "1qJ96InzKDdE",
    "outputId": "1e87e086-e20b-4e88-a1ed-bdb733fdec49"
   },
   "outputs": [],
   "source": [
    "#@title parsing data\n",
    "deep_sea_stochastic_df = DF[DF.bsuite_env == 'deep_sea_stochastic'].copy()\n",
    "deep_sea_stochastic_plt = deep_sea_stochastic_analysis.find_solution(deep_sea_stochastic_df, SWEEP_VARS)\n",
    "summary_analysis.plot_single_experiment(BSUITE_SCORE, 'deep_sea_stochastic', SWEEP_VARS).draw()"
   ]
  },
  {
   "cell_type": "code",
   "execution_count": 0,
   "metadata": {
    "id": "f1vKIKoMKDdH",
    "outputId": "7cd1de6b-3d8c-48f7-dc53-bd7bf4876fa9"
   },
   "outputs": [],
   "source": [
    "#@title average regret by size through learning (lower is better)\n",
    "deep_sea_stochastic_analysis.plot_regret(deep_sea_stochastic_df, SWEEP_VARS).draw()"
   ]
  },
  {
   "cell_type": "markdown",
   "metadata": {
    "id": "Sr0evA1DKDdN"
   },
   "source": [
    "**Parsing the plot above:**\n",
    "- Learning curves of average regret through time (lower is better).\n",
    "- Dashed line shows the performance of suboptimal \"greedy\" algorithm\n",
    "- Look for largest size with performance significantly better than greedy agent.\n",
    "- Curves also show dynamics through time."
   ]
  },
  {
   "cell_type": "code",
   "execution_count": 0,
   "metadata": {
    "cellView": "form",
    "id": "T1oUdaXnKDdO",
    "outputId": "2fc8d147-3f11-487d-eba6-149322c423f1"
   },
   "outputs": [],
   "source": [
    "#@title scaling of learning time with deep_sea_stochastic size (lower + more blue is better)\n",
    "deep_sea_stochastic_analysis.plot_scaling(deep_sea_stochastic_plt, SWEEP_VARS).draw()"
   ]
  },
  {
   "cell_type": "markdown",
   "metadata": {
    "id": "aIcze9ScKDdR"
   },
   "source": [
    "**Parsing the plot above:**\n",
    "- Compute the number of episodes until the average regret < 0.9 for each problem size.\n",
    "- Red dots have *not* solved the problem, but have simply performed only that many episodes.\n",
    "- Dashed line shows curve 2^N, which is the scaling we expect for agents without deep exploration.\n",
    "- Want to see consistent curve of blue dots signficantly *below* the dashed line -> deep exploration."
   ]
  },
  {
   "cell_type": "code",
   "execution_count": 0,
   "metadata": {
    "cellView": "form",
    "id": "syBJ_aGmKDdS",
    "outputId": "94c2c7d9-0bb6-42cf-b4fa-e0378b3be85a"
   },
   "outputs": [],
   "source": [
    "#@title scaling of learning time with deep_sea size on log scale (lower + more blue is better)\n",
    "deep_sea_stochastic_analysis.plot_scaling_log(deep_sea_stochastic_plt, SWEEP_VARS).draw()"
   ]
  },
  {
   "cell_type": "markdown",
   "metadata": {
    "id": "rQF9BDzoKDdY"
   },
   "source": [
    "**Parsing the plot above:**\n",
    "- Plots exactly the same data as above, but on a logarithmic scale.\n",
    "- If we see polynomial scaling -> this should result in a linear relationship between log(learning time) and log(size).\n",
    "- Want to see consistent line of blue dots significantly below the dashed line -> deep exploration."
   ]
  },
  {
   "cell_type": "code",
   "execution_count": 0,
   "metadata": {
    "cellView": "form",
    "id": "s_bWpZ5UJrwJ",
    "outputId": "ca35394c-183b-47d4-85d1-fdc9c1483733"
   },
   "outputs": [],
   "source": [
    "#@title plot performance by seed (higher is better)\n",
    "deep_sea_stochastic_analysis.plot_seeds(deep_sea_stochastic_df, SWEEP_VARS).draw()"
   ]
  },
  {
   "cell_type": "markdown",
   "metadata": {
    "id": "DhGbNwJfNl1m"
   },
   "source": [
    "**Parsing the plot above:**\n",
    "\n",
    "- Here we can see the performance of each agent individually through time.\n",
    "- Higher scores are better, but individual runs may be noisy.\n",
    "- Use this plot to diagnose strange agent behaviour."
   ]
  },
  {
   "cell_type": "markdown",
   "metadata": {
    "id": "g_mroLiVK1RE"
   },
   "source": [
    "### Cartpole swingup\n"
   ]
  },
  {
   "cell_type": "markdown",
   "metadata": {
    "id": "S2KWDe9dK1RH"
   },
   "source": [
    "\n",
    "<img src=\"https://storage.cloud.google.com/bsuite-colab-images/cartpole.png\" alt=\"cartpole diagram\" height=\"300\"/>\n",
    "\n",
    "A difficult cartpole swingup task with sparse rewards and a cost for moving.\n",
    "This domain is somewhat similar to \"deep sea\" but cannot be solved easily by tabular reinforcement learning algorithms.\n",
    "\n",
    "- The observation is `[x, cos_theta, sin_theta, x_dot, theta_dot, x_central]`\n",
    "- The dynamics are given by the classic cartpole from dm [control suite](https://github.com/deepmind/dm_control/blob/master/all_domains.png)\n",
    "- Each episode begins with the pole hanging downwards and ends after 1000 timesteps.\n",
    "- There is a small cost of -0.1 for any movement of the pole.\n",
    "- There is a reward of +1 only if:\n",
    "  - x_dot, theta_dot < 1\n",
    "  - pole_height > 1 - `difficulty_scale`\n",
    "  - x < 1 - `difficulty_scale`\n",
    "\n",
    "The parameter `difficulty_scale` acts as a scaling for the depth of exploration, similar to the \"size\" in deep sea.\n",
    "To run this experiment:\n",
    "\n",
    "- Run the agent on difficulty_scale = 0, 0.05, 0.1, .. , 0.95 for 1k episodes\n",
    "- Score is proportion of runs that achieve an average_return > 0 at any point.\n",
    "- Must log `episode`, `total_return` for standard analysis\n"
   ]
  },
  {
   "cell_type": "code",
   "execution_count": 0,
   "metadata": {
    "cellView": "form",
    "id": "odVWa8S5K1RJ",
    "outputId": "ac584b51-a67b-4457-8725-b28be1eeb495"
   },
   "outputs": [],
   "source": [
    "#@title parsing data\n",
    "cartpole_swingup_df = DF[DF.bsuite_env == 'cartpole_swingup'].copy()\n",
    "summary_analysis.plot_single_experiment(BSUITE_SCORE, 'cartpole_swingup', SWEEP_VARS).draw()"
   ]
  },
  {
   "cell_type": "code",
   "execution_count": 0,
   "metadata": {
    "cellView": "form",
    "id": "Gc4VSuUsK1RO",
    "outputId": "17eae2c5-2a2a-4543-8573-cb5b3a04e16b"
   },
   "outputs": [],
   "source": [
    "#@title scaling with difficulty scale (higher + more blue is better)\n",
    "cartpole_swingup_analysis.plot_scale(cartpole_swingup_df, SWEEP_VARS).draw()"
   ]
  },
  {
   "cell_type": "markdown",
   "metadata": {
    "id": "X4HWtEcIK1RT"
   },
   "source": [
    "**Parsing the plot above:**\n",
    "- For each height threshold, look at the best observed return.\n",
    "- If the observed return is greater than 500 ==> the pole was swung upright and balanced for at least 5 seconds.\n",
    "- Look for higher scores and more blue."
   ]
  },
  {
   "cell_type": "code",
   "execution_count": 0,
   "metadata": {
    "cellView": "form",
    "id": "r5HeI4rrK1RV",
    "outputId": "b425b3b7-664d-4d9d-dfc0-4536cb5c7c67"
   },
   "outputs": [],
   "source": [
    "#@title average regret through learning (lower is better)\n",
    "cartpole_swingup_analysis.plot_learning(cartpole_swingup_df, SWEEP_VARS).draw()"
   ]
  },
  {
   "cell_type": "markdown",
   "metadata": {
    "id": "Uta3sgNOK1RY"
   },
   "source": [
    "**Parsing the plot above:**\n",
    "- Learning curves of average return through time (higher is better).\n",
    "- Dashed line shows the performance of an agent that does not move = 0.\n",
    "- Look for largest difficulty_scale with performance significantly better than staying still."
   ]
  },
  {
   "cell_type": "code",
   "execution_count": 0,
   "metadata": {
    "cellView": "form",
    "id": "M3tiBC9442n1",
    "outputId": "9a5b19da-2531-4d18-eebf-2de15d870cf1"
   },
   "outputs": [],
   "source": [
    "#@title plot performance by seed (higher is better)\n",
    "cartpole_swingup_analysis.plot_seeds(cartpole_swingup_df, SWEEP_VARS).draw()"
   ]
  },
  {
   "cell_type": "markdown",
   "metadata": {
    "id": "FAlAYE7oNms2"
   },
   "source": [
    "**Parsing the plot above:**\n",
    "\n",
    "- Here we can see the performance of each agent individually through time.\n",
    "- Higher scores are better, but individual runs may be noisy.\n",
    "- Use this plot to diagnose strange agent behaviour."
   ]
  },
  {
   "cell_type": "markdown",
   "metadata": {
    "id": "Jpj7JjESSs_J"
   },
   "source": [
    "## Credit assignment\n",
    "\n",
    "This is a collection of domains for credit assignment."
   ]
  },
  {
   "cell_type": "markdown",
   "metadata": {
    "id": "k4S-Q5B5Sysn"
   },
   "source": [
    "### Umbrella length"
   ]
  },
  {
   "cell_type": "markdown",
   "metadata": {
    "id": "swsqn6tXSysr"
   },
   "source": [
    "<img src=\"https://storage.cloud.google.com/bsuite-colab-images/umbrella.png\" alt=\"umbrella diagram\" height=\"300\"/>\n",
    "\n",
    "A stylized problem designed to highlight problems to do with temporal credit assignment and scaling with time horizon.\n",
    "\n",
    "- The state observation is [need_umbrella, have_umbrella, time_to_go,] + n \"distractor\" features that are iid Bernoulli.\n",
    "- At the start of each episode the agent observes if it will need an umbrella.\n",
    "- It then has the chance to pick up an umbrella only in the first timestep.\n",
    "- At the end of the episode the agent receives a reward of +1 if it made the correct choice of umbrella, but -1 if it made the incorrect choice.\n",
    "- During chain_length intermediate steps rewards are random +1 or -1.\n",
    "\n",
    "The experiment setup:\n",
    "- Run umbrella_chain with n_distractor=20 and sweep chain_length=1..100 logarithmically spaced for 10k episodes.\n",
    "- Score is percent of tasks with average reward per episode > 0.5.\n",
    "- Must log `episode`, `total_return`, `total_regret` for standard analysis."
   ]
  },
  {
   "cell_type": "code",
   "execution_count": 0,
   "metadata": {
    "cellView": "form",
    "id": "H22CVW-gSyss",
    "outputId": "22ea3aa7-5099-48c8-fbbf-ad94e9a2b1ea"
   },
   "outputs": [],
   "source": [
    "#@title parsing data\n",
    "umbrella_length_df = DF[DF.bsuite_env == 'umbrella_length'].copy()\n",
    "summary_analysis.plot_single_experiment(BSUITE_SCORE, 'umbrella_length', SWEEP_VARS).draw()"
   ]
  },
  {
   "cell_type": "code",
   "execution_count": 0,
   "metadata": {
    "cellView": "form",
    "id": "YW9UOQTRSysw",
    "outputId": "22411225-acfa-4be0-e16a-251adb06a666"
   },
   "outputs": [],
   "source": [
    "#@title average regret after 10k episodes (lower is better)\n",
    "umbrella_length_analysis.plot_scale(umbrella_length_df, SWEEP_VARS).draw()"
   ]
  },
  {
   "cell_type": "markdown",
   "metadata": {
    "id": "besZfRI7Sys1"
   },
   "source": [
    "**Parsing the plot above:**\n",
    "- Compute the average regret after 10k episodes for each chain_length problem scale.\n",
    "- Red dots have *not* solved the problem, blue dots made significant progress (average regret < 0.5)\n",
    "- Dashed line shows regret of a random agent = 1.0.\n",
    "- We want to see lots of blue dots with low regret for large chain_length."
   ]
  },
  {
   "cell_type": "code",
   "execution_count": 0,
   "metadata": {
    "cellView": "form",
    "id": "3STrnTWrSys2",
    "outputId": "a5e46a01-d890-469b-9026-73e5bbb9920e"
   },
   "outputs": [],
   "source": [
    "#@title average regret through learning (lower is better)\n",
    "umbrella_length_analysis.plot_learning(umbrella_length_df, SWEEP_VARS).draw()"
   ]
  },
  {
   "cell_type": "markdown",
   "metadata": {
    "id": "InmXA_iKSys5"
   },
   "source": [
    "**Parsing the plot above:**\n",
    "- Learning curves of average regret through time (lower is better).\n",
    "- Dashed line shows the performance of a random agents (regret = 1.0)\n",
    "- Look for largest chain_length with performance significantly better than random agent.\n",
    "- Curves also show dynamics through time.\n",
    "- Smoothing is performed with rolling mean over 10% of data with confidence bar at 95% Gaussian standard error."
   ]
  },
  {
   "cell_type": "code",
   "execution_count": 0,
   "metadata": {
    "cellView": "form",
    "id": "O1pSwPi-430_",
    "outputId": "64878019-5d39-4b0e-e0a0-131f4c42d1e6"
   },
   "outputs": [],
   "source": [
    "#@title plot performance by seed (higher is better)\n",
    "umbrella_length_analysis.plot_seeds(umbrella_length_df, SWEEP_VARS).draw()"
   ]
  },
  {
   "cell_type": "markdown",
   "metadata": {
    "id": "u8GX_ZBxNnXe"
   },
   "source": [
    "**Parsing the plot above:**\n",
    "\n",
    "- Here we can see the performance of each agent individually through time.\n",
    "- Higher scores are better, but individual runs may be noisy.\n",
    "- Use this plot to diagnose strange agent behaviour."
   ]
  },
  {
   "cell_type": "markdown",
   "metadata": {
    "id": "kDKk7PhyTEif"
   },
   "source": [
    "### Umbrella distract"
   ]
  },
  {
   "cell_type": "markdown",
   "metadata": {
    "id": "2SqqFSKaTEii"
   },
   "source": [
    "<img src=\"https://storage.cloud.google.com/bsuite-colab-images/umbrella.png\" alt=\"umbrella diagram\" height=\"300\"/>\n",
    "\n",
    "\n",
    "A stylized problem designed to highlight problems to do with temporal credit assignment and scaling with time horizon.\n",
    "\n",
    "- The state observation is [need_umbrella, have_umbrella, time_to_go,] + n \"distractor\" features that are iid Bernoulli.\n",
    "- At the start of each episode the agent observes if it will need an umbrella.\n",
    "- It then has the chance to pick up an umbrella only in the first timestep.\n",
    "- At the end of the episode the agent receives a reward of +1 if it made the correct choice of umbrella, but -1 if it made the incorrect choice.\n",
    "- During chain_length intermediate steps rewards are random +1 or -1.\n",
    "\n",
    "The experiment setup:\n",
    "- Run umbrella_chain with n_distractor=20 and sweep chain_length=1..100 logarithmically spaced for 10k episodes.\n",
    "- Score is percent of tasks with average reward per episode > 0.5.\n",
    "- Must log `episode`, `total_return`, `total_regret` for standard analysis."
   ]
  },
  {
   "cell_type": "code",
   "execution_count": 0,
   "metadata": {
    "cellView": "form",
    "id": "fWP2zwM8TEij",
    "outputId": "b0e0ae11-47ee-4750-ef32-b64ca8adb7f2"
   },
   "outputs": [],
   "source": [
    "#@title parsing data\n",
    "umbrella_distract_df = DF[DF.bsuite_env == 'umbrella_distract'].copy()\n",
    "summary_analysis.plot_single_experiment(BSUITE_SCORE, 'umbrella_distract', SWEEP_VARS).draw()"
   ]
  },
  {
   "cell_type": "code",
   "execution_count": 0,
   "metadata": {
    "cellView": "form",
    "id": "IiVxaDffTEim",
    "outputId": "85740531-5466-47af-cc7d-3ddfae299419"
   },
   "outputs": [],
   "source": [
    "#@title average regret after 10k episodes (lower is better)\n",
    "umbrella_distract_analysis.plot_scale(umbrella_distract_df, SWEEP_VARS).draw()"
   ]
  },
  {
   "cell_type": "markdown",
   "metadata": {
    "id": "_xYIXBJwTEiq"
   },
   "source": [
    "**Parsing the plot above:**\n",
    "- Compute the average regret after 10k episodes for each chain_length problem scale.\n",
    "- Red dots have *not* solved the problem, blue dots made significant progress (average regret < 0.5)\n",
    "- Dashed line shows regret of a random agent = 1.0.\n",
    "- We want to see lots of blue dots with low regret for large chain_length."
   ]
  },
  {
   "cell_type": "code",
   "execution_count": 0,
   "metadata": {
    "cellView": "form",
    "id": "XZSfnKjcTEir",
    "outputId": "f6e2c67f-8f1b-4ca8-c924-994538c29a33"
   },
   "outputs": [],
   "source": [
    "#@title average regret through learning (lower is better)\n",
    "umbrella_distract_analysis.plot_learning(umbrella_distract_df, SWEEP_VARS).draw()"
   ]
  },
  {
   "cell_type": "markdown",
   "metadata": {
    "id": "05vEFGn7TEiv"
   },
   "source": [
    "**Parsing the plot above:**\n",
    "- Learning curves of average regret through time (lower is better).\n",
    "- Dashed line shows the performance of a random agents (regret = 1.0)\n",
    "- Look for largest chain_length with performance significantly better than random agent.\n",
    "- Curves also show dynamics through time.\n",
    "- Smoothing is performed with rolling mean over 10% of data with confidence bar at 95% Gaussian standard error."
   ]
  },
  {
   "cell_type": "code",
   "execution_count": 0,
   "metadata": {
    "cellView": "form",
    "id": "IFvHvi5H47yH",
    "outputId": "33a30dc4-e209-4332-9547-621a077f323e"
   },
   "outputs": [],
   "source": [
    "#@title plot performance by seed (higher is better)\n",
    "umbrella_distract_analysis.plot_seeds(umbrella_distract_df, SWEEP_VARS).draw()"
   ]
  },
  {
   "cell_type": "markdown",
   "metadata": {
    "id": "TCnnE435NoHv"
   },
   "source": [
    "**Parsing the plot above:**\n",
    "\n",
    "- Here we can see the performance of each agent individually through time.\n",
    "- Higher scores are better, but individual runs may be noisy.\n",
    "- Use this plot to diagnose strange agent behaviour."
   ]
  },
  {
   "cell_type": "markdown",
   "metadata": {
    "id": "5_NxfUeUUTCz"
   },
   "source": [
    "### Discounting chain"
   ]
  },
  {
   "cell_type": "markdown",
   "metadata": {
    "id": "O30h3qfmUTC3"
   },
   "source": [
    "<img src=\"https://storage.cloud.google.com/bsuite-colab-images/discounting_chain.png\" alt=\"discount diagram\" height=\"300\"/>\n",
    "\n",
    "A stylized problem designed to highlight an agent's ability to correctly maximize cumulative rewards without discounting bias.\n",
    "- The only decision that actually matters is the agent's *first* of the episode, after which the agent is locked into a \"chain\" irrespective of actions.\n",
    "- Each chain gives a non-zero reward only at one step of the length-100 episode: [1, 3, 10, 30, 100] steps.\n",
    "- Each chain gives a reward of +1, except for the optimal_horizon, which gives a reward of +1.1\n",
    "- Many agents with discounting will struggle to maximize cumulative returns.\n",
    "\n",
    "The experiment setup:\n",
    "- Run each optimal_horizon [1, 3, 10, 30, 100], each with 5 seeds for 1k episodes.\n",
    "- Score is average regret * 10.\n",
    "- Must log `episode`, `total_return` for standard analysis"
   ]
  },
  {
   "cell_type": "code",
   "execution_count": 0,
   "metadata": {
    "cellView": "form",
    "id": "GpSud5k1UTC4",
    "outputId": "1efbb4b0-6eee-4090-8071-018da861ca04"
   },
   "outputs": [],
   "source": [
    "#@title parsing data\n",
    "discounting_chain_df = DF[DF.bsuite_env == 'discounting_chain'].copy()\n",
    "summary_analysis.plot_single_experiment(BSUITE_SCORE, 'discounting_chain', SWEEP_VARS).draw()"
   ]
  },
  {
   "cell_type": "code",
   "execution_count": 0,
   "metadata": {
    "id": "l-Qyf4CqUTC8",
    "outputId": "b5949fe7-74d6-401d-fe8e-01bf17eddc6b"
   },
   "outputs": [],
   "source": [
    "#@title average regret after 1k episodes (lower is better)\n",
    "discounting_chain_analysis.plot_average(discounting_chain_df, SWEEP_VARS).draw()"
   ]
  },
  {
   "cell_type": "markdown",
   "metadata": {
    "id": "YaBqIHXQUTDD"
   },
   "source": [
    "**Parsing the plot above:**\n",
    "- Display the average regret after 10k episodes by optimal_horizon (lower is better)\n",
    "- Dashed line shows the performance of a random agents (regret = 0.8)\n",
    "- Look for largest horizon with performance significantly better than random agent."
   ]
  },
  {
   "cell_type": "code",
   "execution_count": 0,
   "metadata": {
    "cellView": "form",
    "id": "6JQbVV9dUTDE",
    "outputId": "babbe59f-e101-4055-e1d3-1e194e3686a7"
   },
   "outputs": [],
   "source": [
    "#@title average regret through learning (lower is better)\n",
    "discounting_chain_analysis.plot_learning(discounting_chain_df, SWEEP_VARS).draw()"
   ]
  },
  {
   "cell_type": "markdown",
   "metadata": {
    "id": "QLri9ZsjUTDJ"
   },
   "source": [
    "**Parsing the plot above:**\n",
    "- Learning curves of average regret through time (lower is better).\n",
    "- Dashed line shows the performance of a random agents (regret = 0.8)\n",
    "- Look for largest horizon with performance significantly better than random agent.\n",
    "- Curves also show dynamics through time.\n",
    "- Smoothing is performed with rolling mean over 10% of data with confidence bar at 95% Gaussian standard error."
   ]
  },
  {
   "cell_type": "code",
   "execution_count": 0,
   "metadata": {
    "cellView": "form",
    "id": "11uMqmE9484R",
    "outputId": "fdb0acb0-44f4-44d7-c732-c6f455942a2a"
   },
   "outputs": [],
   "source": [
    "#@title plot performance by seed (higher is better)\n",
    "discounting_chain_analysis.plot_seeds(discounting_chain_df, SWEEP_VARS).draw()"
   ]
  },
  {
   "cell_type": "markdown",
   "metadata": {
    "id": "GEhg1QutNpbb"
   },
   "source": [
    "**Parsing the plot above:**\n",
    "\n",
    "- Here we can see the performance of each agent individually through time.\n",
    "- Higher scores are better, but individual runs may be noisy.\n",
    "- Use this plot to diagnose strange agent behaviour."
   ]
  },
  {
   "cell_type": "markdown",
   "metadata": {
    "id": "3tACBZKzTfNS"
   },
   "source": [
    "## Memory\n",
    "\n",
    "A collection of experiments designed to test memory capabilities."
   ]
  },
  {
   "cell_type": "markdown",
   "metadata": {
    "id": "F1i-6W76Tiba"
   },
   "source": [
    "### Memory length"
   ]
  },
  {
   "cell_type": "markdown",
   "metadata": {
    "id": "Ajm0qATFTibe"
   },
   "source": [
    "<img src=\"https://storage.cloud.google.com/bsuite-colab-images/memory_chain.png\" alt=\"memory diagram\" height=\"300\"/>\n",
    "\n",
    "\n",
    "A stylized [T-maze](https://en.wikipedia.org/wiki/T-maze) problem designed to highlight an agent's ability to remember important information and use it to make good decisions.\n",
    "- At the beginning of the episode the agent is provided a context of +1 or -1.\n",
    "- At all future timesteps the context is equal to zero and a countdown until the end of the episode.\n",
    "- At the end of the episode the agent must select the correct action corresponding to the context to reward +1 or -1.\n",
    "\n",
    "The experiment setup:\n",
    "- Run memory sizes 1..100 logarithmically spaced.\n",
    "- Score is proportion of memory sizes with average regret < 0.5.\n",
    "- Must log `episode`, `total_return` for standard analysis"
   ]
  },
  {
   "cell_type": "code",
   "execution_count": 0,
   "metadata": {
    "cellView": "form",
    "colab": {
     "height": 466
    },
    "id": "8cMpQ1AHTibf",
    "outputId": "d8379263-59bb-42cc-d128-3bf08d47b4f2"
   },
   "outputs": [],
   "source": [
    "#@title parsing data\n",
    "memory_len_df = DF[DF.bsuite_env == 'memory_len'].copy()\n",
    "summary_analysis.plot_single_experiment(BSUITE_SCORE, 'memory_len', SWEEP_VARS).draw()"
   ]
  },
  {
   "cell_type": "code",
   "execution_count": 0,
   "metadata": {
    "cellView": "form",
    "colab": {
     "height": 593
    },
    "id": "RH8ko4YFTibi",
    "outputId": "01980c3e-8427-478a-f586-b21d38a4fb7a"
   },
   "outputs": [],
   "source": [
    "#@title memory scaling (lower + more blue is better)\n",
    "memory_len_analysis.plot_scale(memory_len_df, SWEEP_VARS).draw()"
   ]
  },
  {
   "cell_type": "markdown",
   "metadata": {
    "id": "aqTarGL-Tibm"
   },
   "source": [
    "**Parsing the plot above:**\n",
    "- Compute the average regret after 10k episodes for each memory_length problem scale.\n",
    "- Red dots have *not* solved the problem, blue dots made significant progress (average regret < 0.5)\n",
    "- Dashed line shows regret of a random agent = 1.0.\n",
    "- We want to see lots of blue dots with low regret for large memory_length."
   ]
  },
  {
   "cell_type": "code",
   "execution_count": 0,
   "metadata": {
    "cellView": "form",
    "colab": {
     "height": 737
    },
    "id": "Gvee-SBNTibn",
    "outputId": "c4480834-29ac-4af9-9785-1179cdc69987"
   },
   "outputs": [],
   "source": [
    "#@title average regret through learning (lower is better)\n",
    "memory_len_analysis.plot_learning(memory_len_df, SWEEP_VARS).draw()"
   ]
  },
  {
   "cell_type": "markdown",
   "metadata": {
    "id": "r3f55zyLTibs"
   },
   "source": [
    "**Parsing the plot above:**\n",
    "- Learning curves of average regret through time (lower is better).\n",
    "- Dashed line shows the performance of a random agents (regret = 1.0)\n",
    "- Look for largest memory_length with performance significantly better than random agent.\n",
    "- Curves also show dynamics through time.\n",
    "- Smoothing is performed with rolling mean over 10% of data with confidence bar at 95% Gaussian standard error."
   ]
  },
  {
   "cell_type": "code",
   "execution_count": 0,
   "metadata": {
    "cellView": "form",
    "colab": {
     "height": 737
    },
    "id": "FTxbDm_G8-O9",
    "outputId": "fa0fcc9e-b028-4fad-97ad-fff0d65697c4"
   },
   "outputs": [],
   "source": [
    "#@title plot performance by seed (higher is better)\n",
    "memory_len_analysis.plot_seeds(memory_len_df, SWEEP_VARS).draw()"
   ]
  },
  {
   "cell_type": "markdown",
   "metadata": {
    "id": "FPginvBeNqju"
   },
   "source": [
    "**Parsing the plot above:**\n",
    "\n",
    "- Here we can see the performance of each agent individually through time.\n",
    "- Higher scores are better, but individual runs may be noisy.\n",
    "- Use this plot to diagnose strange agent behaviour."
   ]
  },
  {
   "cell_type": "markdown",
   "metadata": {
    "id": "eWua8ocyT5eE"
   },
   "source": [
    "### Memory size)"
   ]
  },
  {
   "cell_type": "markdown",
   "metadata": {
    "id": "n5EmxcwJT5eK"
   },
   "source": [
    "<img src=\"https://storage.cloud.google.com/bsuite-colab-images/memory_chain.png\" alt=\"memory diagram\" height=\"300\"/>\n",
    "\n",
    "A stylized [T-maze](https://en.wikipedia.org/wiki/T-maze) problem designed to highlight an agent's ability to remember important information and use it to make good decisions.\n",
    "- At the beginning of an episode the agent is provided an N bit context vector.\n",
    "- After a couple of steps the agent is provided a query as an integer number between `0` and `num_bits-1` and must select the correct action corresponding to `context[query]`.\n",
    "\n",
    "The experiment setup:\n",
    "- Run memory sizes 1..100 logarithmically spaced.\n",
    "- Score is proportion of memory sizes with average regret < 0.5.\n",
    "- Must log `episode`, `total_return` for standard analysis"
   ]
  },
  {
   "cell_type": "code",
   "execution_count": 0,
   "metadata": {
    "cellView": "form",
    "id": "AVTgmQufT5eM",
    "outputId": "cc08f86c-0153-4f2b-ba56-f73d12debd4e"
   },
   "outputs": [],
   "source": [
    "#@title parsing data\n",
    "memory_size_df = DF[DF.bsuite_env == 'memory_size'].copy()\n",
    "summary_analysis.plot_single_experiment(BSUITE_SCORE, 'memory_size', SWEEP_VARS).draw()"
   ]
  },
  {
   "cell_type": "code",
   "execution_count": 0,
   "metadata": {
    "cellView": "form",
    "id": "6-ebdsGrT5eP",
    "outputId": "f319e334-39a2-42b2-fa6f-b223f445728b"
   },
   "outputs": [],
   "source": [
    "#@title memory scaling (lower + more blue is better)\n",
    "memory_size_analysis.plot_scale(memory_size_df, SWEEP_VARS).draw()"
   ]
  },
  {
   "cell_type": "markdown",
   "metadata": {
    "id": "la_nvowET5eU"
   },
   "source": [
    "**Parsing the plot above:**\n",
    "- Compute the average regret after 10k episodes for each memory_sizegth problem scale.\n",
    "- Red dots have *not* solved the problem, blue dots made significant progress (average regret < 0.5)\n",
    "- Dashed line shows regret of a random agent = 1.0.\n",
    "- We want to see lots of blue dots with low regret for large memory_sizegth."
   ]
  },
  {
   "cell_type": "code",
   "execution_count": 0,
   "metadata": {
    "cellView": "form",
    "id": "BbdlXbUGT5eV",
    "outputId": "d99618c6-7732-4d4c-c59b-23e0d691272e"
   },
   "outputs": [],
   "source": [
    "#@title average regret through learning (lower is better)\n",
    "memory_size_analysis.plot_learning(memory_size_df, SWEEP_VARS).draw()"
   ]
  },
  {
   "cell_type": "markdown",
   "metadata": {
    "id": "FIIFRKiBT5ea"
   },
   "source": [
    "**Parsing the plot above:**\n",
    "- Learning curves of average regret through time (lower is better).\n",
    "- Dashed line shows the performance of a random agents (regret = 1.0)\n",
    "- Look for largest memory_length with performance significantly better than random agent.\n",
    "- Curves also show dynamics through time.\n",
    "- Smoothing is performed with rolling mean over 10% of data with confidence bar at 95% Gaussian standard error."
   ]
  },
  {
   "cell_type": "code",
   "execution_count": 0,
   "metadata": {
    "cellView": "form",
    "id": "-1qX20c_4_JW",
    "outputId": "333924f0-7ec6-4102-af4b-5329be0ca49f"
   },
   "outputs": [],
   "source": [
    "#@title plot performance by seed (higher is better)\n",
    "memory_size_analysis.plot_seeds(memory_size_df, SWEEP_VARS).draw()"
   ]
  },
  {
   "cell_type": "markdown",
   "metadata": {
    "id": "fNxUm-A2Nx42"
   },
   "source": [
    "**Parsing the plot above:**\n",
    "\n",
    "- Here we can see the performance of each agent individually through time.\n",
    "- Higher scores are better, but individual runs may be noisy.\n",
    "- Use this plot to diagnose strange agent behaviour."
   ]
  },
  {
   "cell_type": "markdown",
   "metadata": {
    "id": "KWdGnbSPIbmd"
   },
   "source": [
    "## Exporting as PDF\n",
    "\n",
    "- Run all colab cells above in `Colaboratory`\n",
    "- Run the cell below to download a compressed `images.zip`\n",
    "- Copy `images/` in `bsuite/reports/images`\n",
    "- Run `bsuite/reports/bsuite_report.tex` to generate a summary pdf report"
   ]
  },
  {
   "cell_type": "code",
   "execution_count": 0,
   "metadata": {
    "id": "VwAKOdzHfmAr"
   },
   "outputs": [],
   "source": [
    "import os\n",
    "from google.colab import files\n",
    "\n",
    "# Save images required for the reports in an `images/` folder.\n",
    "if not os.path.exists('images'):\n",
    "  os.makedirs('images')\n",
    "\n",
    "__radar_fig__.savefig('images/radar_plot.png', bbox_inches=\"tight\")\n",
    "\n",
    "# Compress folder and download\n",
    "!zip -r /images.zip /content/images > /dev/null\n",
    "try:\n",
    "  files.download(\"images.zip\")\n",
    "except:\n",
    "  pass"
   ]
  }
 ],
 "metadata": {
  "colab": {
   "collapsed_sections": [
    "gcpZiexEmjdf",
    "iaa0FgSoMu3T",
    "dwIcX62dDnNE",
    "vQmNzVbBDqZa",
    "_ypLP6DZHZc8",
    "GrTjfY11MD5E",
    "YtCu7IUwFYOY",
    "iKRx2R7DEz5R",
    "UQ010l9tFsbG",
    "SWm2u8lpFsbK",
    "XeeO3UdkHvro",
    "BhNvrDHtFsbW",
    "PvkWAhKAFsbo",
    "_OXjiYVTFsbe",
    "zCNVq9M0IEpT",
    "U5B77UDjIEpY",
    "hPlIUnPgIBb5",
    "PweN9CwBIEps",
    "-Tbhu6tKIEqG",
    "USfDNwCtIEp9",
    "tV8NnR1pJIkN",
    "NMY_PV_PJWvy",
    "Fada-WLrKDdA",
    "g_mroLiVK1RE",
    "Jpj7JjESSs_J",
    "k4S-Q5B5Sysn",
    "kDKk7PhyTEif",
    "5_NxfUeUUTCz",
    "3tACBZKzTfNS",
    "F1i-6W76Tiba",
    "eWua8ocyT5eE",
    "KWdGnbSPIbmd"
   ],
   "name": "results.ipynb",
   "toc_visible": true
  },
  "kernelspec": {
   "display_name": "Python 3",
   "name": "python3"
  }
 },
 "nbformat": 4,
 "nbformat_minor": 0
}
